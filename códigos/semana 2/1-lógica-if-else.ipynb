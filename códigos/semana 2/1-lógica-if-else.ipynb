{
 "cells": [
  {
   "cell_type": "markdown",
   "metadata": {
    "id": "Bonrs-i763k3"
   },
   "source": [
    "# **Seminario de métodos computacionales para lenguas amerindias**\n",
    "### Roberto Zariquiey Biondi, rzariquiey@pucp.edu.pe \n",
    "### Javier Vera Zúñiga, jveraz@pucp.edu.pe"
   ]
  },
  {
   "cell_type": "markdown",
   "metadata": {},
   "source": [
    "# Un poco sobre condiciones lógicas en Python\n",
    "Un aspecto esencial de **Python** es la posibilidad maravillosa de expresar condiciones lógicas. Recordemos un ejemplo anterior:"
   ]
  },
  {
   "cell_type": "code",
   "execution_count": 28,
   "metadata": {},
   "outputs": [],
   "source": [
    "lista_palabras = ['palabra1', 'palabra2', 'palabra3', 'palabra4', 'palabra5', 'palabra6']"
   ]
  },
  {
   "cell_type": "markdown",
   "metadata": {},
   "source": [
    "Supongamos que queremos sufijar algunas de estas palabras, pero dependiendo de la terminación algunas tendrán el **sufijo1** y otras el **sufijo2.** \n",
    "```python\n",
    "sufijo1 = '-sufijo1'\n",
    "sufijo2 = '-sufijo2'\n",
    "```\n",
    "Digamos, a modo de ejemplo, que las palabras 1, 3 y 5 estarán asociadas al sufijo 1, y las demás, al sufijo2. ¿Cómo hacemos esto?"
   ]
  },
  {
   "cell_type": "markdown",
   "metadata": {},
   "source": [
    "**Opción 1**"
   ]
  },
  {
   "cell_type": "code",
   "execution_count": 29,
   "metadata": {},
   "outputs": [],
   "source": [
    "sufijo1 = '-sufijo1'\n",
    "sufijo2 = '-sufijo2'"
   ]
  },
  {
   "cell_type": "code",
   "execution_count": 30,
   "metadata": {},
   "outputs": [],
   "source": [
    "## Hacemos esto palabra por palabra, es decir,\n",
    "\n",
    "lista_palabras_sufijadas = ['palabra1'+sufijo1, 'palabra2'+sufijo2, 'palabra3'+sufijo1, 'palabra4'+sufijo2, 'palabra5'+sufijo1, 'palabra6'+sufijo2]"
   ]
  },
  {
   "cell_type": "code",
   "execution_count": 31,
   "metadata": {},
   "outputs": [
    {
     "data": {
      "text/plain": [
       "['palabra1-sufijo1',\n",
       " 'palabra2-sufijo2',\n",
       " 'palabra3-sufijo1',\n",
       " 'palabra4-sufijo2',\n",
       " 'palabra5-sufijo1',\n",
       " 'palabra6-sufijo2']"
      ]
     },
     "execution_count": 31,
     "metadata": {},
     "output_type": "execute_result"
    }
   ],
   "source": [
    "lista_palabras_sufijadas"
   ]
  },
  {
   "cell_type": "markdown",
   "metadata": {},
   "source": [
    "**Opción 2**"
   ]
  },
  {
   "cell_type": "markdown",
   "metadata": {},
   "source": [
    "En la definición de sufijo1 y sufijo2 hay una condición lógica encubierta: **si** las palabras terminan en 1, 3 o 5, estarán asociadas a sufijo1; en otro caso, a sufijo2. Esto nos recuerda al condicional de la forma **if A, (then) B**, en donde si se cumple cierta condición **A**, ocurrirá **B**. ¿Cómo traducimos estas ideas a **Python**? Vamos por partes:\n",
    "\n",
    "- Condición **if A**: esta condición equivale a \"la palabra termina en 1, 3 o 5\"\n",
    "```python\n",
    "terminacion = palabra[-1]\n",
    "if terminacion in [1,3,5]:\n",
    "```\n",
    "Noten la coloración de **if**, el uso de **in** y el **:** final. \n",
    "\n",
    "- Condición **(then) B**: esta consecuencia equivale a que si se cumple **A**, entonces usamos sufijo1\n",
    "```python\n",
    "terminacion = palabra[-1]\n",
    "if terminacion in [1,3,5]:\n",
    "    palabra_sufijada = palabra+sufijo1\n",
    "```"
   ]
  },
  {
   "cell_type": "markdown",
   "metadata": {},
   "source": [
    "Ahora nos queda, entonces, recorrer las palabras de la lista original y sufijarlas. Esto queda:"
   ]
  },
  {
   "cell_type": "code",
   "execution_count": 32,
   "metadata": {},
   "outputs": [],
   "source": [
    "lista_palabras_sufijadas = []\n",
    "\n",
    "## recorremos las palabras\n",
    "for palabra in lista_palabras:\n",
    "    ## guardamos el carácter final en la variable terminación\n",
    "    terminacion = palabra[-1]\n",
    "    ## condición A\n",
    "    if terminacion in ['1','3','5']:\n",
    "        ## agregamos el sufijo\n",
    "        palabra_sufijada = palabra+sufijo1\n",
    "        ## guardamos la palabra sufijada\n",
    "        lista_palabras_sufijadas += [palabra_sufijada]"
   ]
  },
  {
   "cell_type": "code",
   "execution_count": 33,
   "metadata": {},
   "outputs": [
    {
     "data": {
      "text/plain": [
       "['palabra1-sufijo1', 'palabra3-sufijo1', 'palabra5-sufijo1']"
      ]
     },
     "execution_count": 33,
     "metadata": {},
     "output_type": "execute_result"
    }
   ],
   "source": [
    "lista_palabras_sufijadas"
   ]
  },
  {
   "cell_type": "markdown",
   "metadata": {},
   "source": [
    "¿Qué ocurre con las demás palabras? Recordemos la estructura completa de nuestro problema lógico: **if A, (then) B; else, C**. En este caso, **else, C** indica que en otro caso, o sea, para las terminaciones 2, 4 y 6 existe el caso **C**, que equivale al sufijo2. En **Python**, queda:"
   ]
  },
  {
   "cell_type": "code",
   "execution_count": 34,
   "metadata": {},
   "outputs": [],
   "source": [
    "lista_palabras_sufijadas = []\n",
    "\n",
    "## recorremos las palabras\n",
    "for palabra in lista_palabras:\n",
    "    ## guardamos el carácter final en la variable terminación\n",
    "    terminacion = palabra[-1]\n",
    "    ## condición A\n",
    "    if terminacion in ['1','3','5']:\n",
    "        ## agregamos el sufijo\n",
    "        palabra_sufijada = palabra+sufijo1\n",
    "    ## condición C, que equivale a las terminaciones 2, 4 y 6\n",
    "    else:\n",
    "        ## agregamos el sufijo\n",
    "        palabra_sufijada = palabra+sufijo2\n",
    "    ## guardamos la palabra sufijada\n",
    "    lista_palabras_sufijadas += [palabra_sufijada]"
   ]
  },
  {
   "cell_type": "code",
   "execution_count": 35,
   "metadata": {},
   "outputs": [
    {
     "data": {
      "text/plain": [
       "['palabra1-sufijo1',\n",
       " 'palabra2-sufijo2',\n",
       " 'palabra3-sufijo1',\n",
       " 'palabra4-sufijo2',\n",
       " 'palabra5-sufijo1',\n",
       " 'palabra6-sufijo2']"
      ]
     },
     "execution_count": 35,
     "metadata": {},
     "output_type": "execute_result"
    }
   ],
   "source": [
    "lista_palabras_sufijadas"
   ]
  },
  {
   "cell_type": "markdown",
   "metadata": {},
   "source": [
    "**Detalle importante**"
   ]
  },
  {
   "cell_type": "markdown",
   "metadata": {},
   "source": [
    "Noten que las posibilidades son solamente aquellas contenidas en las terminaciones de las palabras, o sea,\n",
    "\n",
    "```python\n",
    "terminaciones = ['1', '2', '3', '4', '5', '6']\n",
    "```"
   ]
  },
  {
   "cell_type": "markdown",
   "metadata": {},
   "source": [
    "Si usamos el par **if-else** en nuestro código, debemos tener la precaución de que estamos abarcando todas las posibilidades. Para entender esta idea, usemos un ejemplo levemente más complejo. Ahora usemos los siguientes sufijos:\n",
    "\n",
    "- **sufijo 1**, si las palabras terminan en 1, 3 y 5\n",
    "- **sufijo 2**, si las palabras terminan en 2 y 4\n",
    "- **sufijo 3**, si las palabras terminan en 6\n",
    "\n",
    "Ahora, el código queda:"
   ]
  },
  {
   "cell_type": "code",
   "execution_count": 36,
   "metadata": {},
   "outputs": [],
   "source": [
    "lista_palabras_sufijadas = []\n",
    "\n",
    "## recorremos las palabras\n",
    "for palabra in lista_palabras:\n",
    "    ## guardamos el carácter final en la variable terminación\n",
    "    terminacion = palabra[-1]\n",
    "    ## condición A\n",
    "    if terminacion in ['1','3','5']:\n",
    "        ## agregamos el sufijo\n",
    "        palabra_sufijada = palabra+sufijo1\n",
    "    ## condición C, que equivale a las terminaciones 2, 4 y 6. Noten que no es necesario repetir la condición. \n",
    "    else:\n",
    "        ## agregamos el sufijo\n",
    "        palabra_sufijada = palabra+sufijo2\n",
    "    ## guardamos la palabra sufijada\n",
    "    lista_palabras_sufijadas += [palabra_sufijada]"
   ]
  },
  {
   "cell_type": "code",
   "execution_count": 37,
   "metadata": {},
   "outputs": [
    {
     "data": {
      "text/plain": [
       "['palabra1-sufijo1',\n",
       " 'palabra2-sufijo2',\n",
       " 'palabra3-sufijo1',\n",
       " 'palabra4-sufijo2',\n",
       " 'palabra5-sufijo1',\n",
       " 'palabra6-sufijo2']"
      ]
     },
     "execution_count": 37,
     "metadata": {},
     "output_type": "execute_result"
    }
   ],
   "source": [
    "lista_palabras_sufijadas"
   ]
  },
  {
   "cell_type": "markdown",
   "metadata": {},
   "source": [
    "Sin embargo, este código tiene un error en la palabra6. ¿Cómo lo arreglamos? Pensemos en que la estructura lógica del problema tiene la forma **if A, (then) B; else if, C; else D**."
   ]
  },
  {
   "cell_type": "code",
   "execution_count": 38,
   "metadata": {},
   "outputs": [],
   "source": [
    "## el nuevo sufijo\n",
    "sufijo3 = '-sufijo3'\n",
    "\n",
    "lista_palabras_sufijadas = []\n",
    "\n",
    "## recorremos las palabras\n",
    "for palabra in lista_palabras:\n",
    "    ## guardamos el carácter final en la variable terminación\n",
    "    terminacion = palabra[-1]\n",
    "    ## condición A\n",
    "    if terminacion in ['1','3','5']:\n",
    "        ## agregamos el sufijo\n",
    "        palabra_sufijada = palabra+sufijo1\n",
    "    ## elif es la mezcla de else+if. Condición C, que equivale a las terminaciones 2, 4 y 6\n",
    "    elif terminacion in ['2','4']:\n",
    "        ## agregamos el sufijo\n",
    "        palabra_sufijada = palabra+sufijo2\n",
    "    else:\n",
    "        ## agregamos el sufijo\n",
    "        palabra_sufijada = palabra+sufijo3\n",
    "    ## guardamos la palabra sufijada\n",
    "    lista_palabras_sufijadas += [palabra_sufijada]"
   ]
  },
  {
   "cell_type": "code",
   "execution_count": 39,
   "metadata": {},
   "outputs": [
    {
     "data": {
      "text/plain": [
       "['palabra1-sufijo1',\n",
       " 'palabra2-sufijo2',\n",
       " 'palabra3-sufijo1',\n",
       " 'palabra4-sufijo2',\n",
       " 'palabra5-sufijo1',\n",
       " 'palabra6-sufijo3']"
      ]
     },
     "execution_count": 39,
     "metadata": {},
     "output_type": "execute_result"
    }
   ],
   "source": [
    "lista_palabras_sufijadas"
   ]
  },
  {
   "cell_type": "code",
   "execution_count": null,
   "metadata": {},
   "outputs": [],
   "source": []
  },
  {
   "cell_type": "code",
   "execution_count": null,
   "metadata": {},
   "outputs": [],
   "source": []
  }
 ],
 "metadata": {
  "colab": {
   "name": "semana-1.ipynb",
   "provenance": []
  },
  "kernelspec": {
   "display_name": "Python 3 (ipykernel)",
   "language": "python",
   "name": "python3"
  },
  "language_info": {
   "codemirror_mode": {
    "name": "ipython",
    "version": 3
   },
   "file_extension": ".py",
   "mimetype": "text/x-python",
   "name": "python",
   "nbconvert_exporter": "python",
   "pygments_lexer": "ipython3",
   "version": "3.9.7"
  }
 },
 "nbformat": 4,
 "nbformat_minor": 1
}
