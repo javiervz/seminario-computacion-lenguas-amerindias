{
 "cells": [
  {
   "cell_type": "markdown",
   "metadata": {
    "id": "Bonrs-i763k3"
   },
   "source": [
    "# **Seminario de métodos computacionales para lenguas amerindias**\n",
    "### Roberto Zariquiey Biondi, rzariquiey@pucp.edu.pe \n",
    "### Javier Vera Zúñiga, jveraz@pucp.edu.pe"
   ]
  },
  {
   "cell_type": "markdown",
   "metadata": {},
   "source": [
    "# Números en Quechua"
   ]
  },
  {
   "cell_type": "markdown",
   "metadata": {},
   "source": [
    "| número decimal | quechua | número decimal | quechua | número decimal | quechua | número decimal | quechua |\n",
    "| :-: | :-: | :-: | :-: | :-: | :-: |  :-: | :-: | \n",
    "|  1  |  huk  |  10  |  chunka  |  11  |  chunka huk-ni-yuq |  21   |  iskay chunka huk-ni-yuq |\n",
    "|  2  |  iskay  |  20  |  iskay chunka | 12  |  chunka iskay-ni-yuq |  22  |  iskay chunka iskay-ni-yuq |\n",
    "|  3  |  kimsa  |  30  |  kimsa chunka | 13  |  chunka kimsa-yuq |  23   |  iskay chunka kimsa-yuq |\n",
    "|  4  |  tawa  |  40  |  tawa chunka |  14  |  chunka tawa-yuq |  24   |  iskay chunka tawa-yuq |\n",
    "|  5  |  pichqa   |  50  |  pichqa chunka |  15  |  chunka pichqa-yuq |  25   |  iskay chunka pichqa-yuq |\n",
    "|  6  |  suqta  |  60  |  suqta chunka |  16  |  chunka suqta-yuq |  26   |  iskay chunka suqta-yuq |\n",
    "|  7  |  qanchis  |  70  |  qanchis chunka |  17  |  chunka qanchis-ni-yuq | 27   |  iskay chunka qanchis-ni-yuq |\n",
    "|  8  |  pusaq  |  80  |  pusaq chunka |   18  |  chunka pusaq-ni-yuq |28   |  iskay chunka pusaq-ni-yuq |\n",
    "|  9  |  isqun  |  90  |  isqun chunka |   19  |  chunka isqun-ni-yuq |29   |  iskay chunka isqun-ni-yuq |\n",
    "\n",
    "¿Cómo implementamos esto en **Python**? Buscamos un código que **reciba** un número (por ejemplo, 34) y **entregue** el número en **Quechua.**"
   ]
  },
  {
   "cell_type": "code",
   "execution_count": 1,
   "metadata": {},
   "outputs": [],
   "source": [
    "## Definamos los números de 1 a 10\n",
    "\n",
    "numeros_1_10 = ['huk', 'iskay', 'kimsa', 'tawa', 'pichqa', 'suqta', 'qanchis', 'pusaq', 'isqun', 'chunka']"
   ]
  },
  {
   "cell_type": "code",
   "execution_count": 2,
   "metadata": {},
   "outputs": [],
   "source": [
    "## para esto creamos una función que recibe N (el número decimal) y  entrega el número en palabras (Quechua)\n",
    "\n",
    "## input:::N: número entero\n",
    "## output::: número en palabras, string (Quechua)\n",
    "def entero_quec(N):\n",
    "    ## la posicion en la lista numeros_1_10 es N - 1\n",
    "    posicion = N - 1\n",
    "    ## buscamos la posición en la lista\n",
    "    numero_quechua = numeros_1_10[posicion]\n",
    "    ## entregamos el número\n",
    "    return numero_quechua"
   ]
  },
  {
   "cell_type": "code",
   "execution_count": 6,
   "metadata": {},
   "outputs": [
    {
     "data": {
      "text/plain": [
       "'chunka'"
      ]
     },
     "execution_count": 6,
     "metadata": {},
     "output_type": "execute_result"
    }
   ],
   "source": [
    "N = 10\n",
    "\n",
    "entero_quec(N)"
   ]
  },
  {
   "cell_type": "markdown",
   "metadata": {},
   "source": [
    "Nuestra función solo sirve para números menores o iguales 10, ¿cómo agregamos esta información? En esto, hay una condición lógica encubierta: **si** el número es menor a 10, la función tiene sentido; en otro caso, la función va a fallar. Esto nos recuerda al condicional de la forma **if A, (then) B**, en donde si se cumple cierta condición **A**, ocurrirá **B**. ¿Cómo traducimos estas ideas a **Python**? Vamos por partes:\n",
    "\n",
    "- Condición **if A**: el número es menor a 10\n",
    "```python\n",
    "if N <= 10:\n",
    "```\n",
    "Noten la coloración de **if**, el uso de **in** y el **:** final. \n",
    "\n",
    "- Condición **(then) B**: esta consecuencia equivale a que si se cumple **A**, entonces restamos 1 a N\n",
    "```python\n",
    "if N <= 10:\n",
    "    posicion = N - 1 \n",
    "```"
   ]
  },
  {
   "cell_type": "code",
   "execution_count": 7,
   "metadata": {},
   "outputs": [],
   "source": [
    "## input:::N: número decimal\n",
    "## output::: número en palabras (Quechua)\n",
    "def entero_quec(N):\n",
    "    \n",
    "    ## agregamos la condición\n",
    "    if N <= 10:\n",
    "        ## la posicion en la lista numeros_1_10 es N - 1\n",
    "        posicion = N - 1\n",
    "        ## buscamos la posición en la lista\n",
    "        numero_quechua = numeros_1_10[posicion]\n",
    "        ## entregamos el número\n",
    "        return numero_quechua"
   ]
  },
  {
   "cell_type": "code",
   "execution_count": 11,
   "metadata": {},
   "outputs": [
    {
     "data": {
      "text/plain": [
       "'isqun'"
      ]
     },
     "execution_count": 11,
     "metadata": {},
     "output_type": "execute_result"
    }
   ],
   "source": [
    "N = 9\n",
    "\n",
    "entero_quec(N)"
   ]
  },
  {
   "cell_type": "markdown",
   "metadata": {},
   "source": [
    "¿Existe una forma de expresar lo que ocurre con números mayores a 10? Esto nos recuerda a uan estructura lógica del tipo **if A, (then) B; else, C**. En este caso, **else, C** indica que en otro caso, o sea, para los números mayores a 10 existe el caso **C**. En **Python**, queda:"
   ]
  },
  {
   "cell_type": "code",
   "execution_count": 24,
   "metadata": {},
   "outputs": [],
   "source": [
    "## input ::: a: número \n",
    "## input ::: b: número \n",
    "## output ::: c: número \n",
    "def suma(a,b):\n",
    "    c = a + b\n",
    "    return c"
   ]
  },
  {
   "cell_type": "code",
   "execution_count": 25,
   "metadata": {},
   "outputs": [
    {
     "data": {
      "text/plain": [
       "2"
      ]
     },
     "execution_count": 25,
     "metadata": {},
     "output_type": "execute_result"
    }
   ],
   "source": [
    "suma(1,1)"
   ]
  },
  {
   "cell_type": "code",
   "execution_count": 21,
   "metadata": {},
   "outputs": [],
   "source": [
    "## input:::N: número decimal\n",
    "## output::: número en palabras (Quechua)\n",
    "def entero_quec(N):\n",
    "    \n",
    "    ## agregamos la condición\n",
    "    if N <= 10:\n",
    "        ## la posicion en la lista numeros_1_10 es N - 1\n",
    "        posicion = N - 1\n",
    "        ## buscamos la posición en la lista\n",
    "        numero_quechua = numeros_1_10[posicion]\n",
    "        ## entregamos el número\n",
    "        return numero_quechua\n",
    "    ## en otro caso\n",
    "    else:\n",
    "        return 'estamos trabajando en números tan grandes :)'"
   ]
  },
  {
   "cell_type": "code",
   "execution_count": 22,
   "metadata": {},
   "outputs": [
    {
     "data": {
      "text/plain": [
       "'estamos trabajando en números tan grandes :)'"
      ]
     },
     "execution_count": 22,
     "metadata": {},
     "output_type": "execute_result"
    }
   ],
   "source": [
    "N = 11\n",
    "\n",
    "entero_quec(N)"
   ]
  },
  {
   "cell_type": "markdown",
   "metadata": {},
   "source": [
    "Veamos ahora los números mayores a 10 y menores a 20. ¿Cómo es un número? Para este rango de números, debemos saber cuál es la unidad (ya que la decena es 1). Un pequeño truco!"
   ]
  },
  {
   "cell_type": "code",
   "execution_count": 37,
   "metadata": {},
   "outputs": [],
   "source": [
    "unidad = N - 10"
   ]
  },
  {
   "cell_type": "code",
   "execution_count": 38,
   "metadata": {},
   "outputs": [
    {
     "data": {
      "text/plain": [
       "1"
      ]
     },
     "execution_count": 38,
     "metadata": {},
     "output_type": "execute_result"
    }
   ],
   "source": [
    "unidad"
   ]
  },
  {
   "cell_type": "code",
   "execution_count": 28,
   "metadata": {},
   "outputs": [],
   "source": [
    "a = 3"
   ]
  },
  {
   "cell_type": "code",
   "execution_count": 29,
   "metadata": {},
   "outputs": [
    {
     "data": {
      "text/plain": [
       "3"
      ]
     },
     "execution_count": 29,
     "metadata": {},
     "output_type": "execute_result"
    }
   ],
   "source": [
    "a"
   ]
  },
  {
   "cell_type": "code",
   "execution_count": 31,
   "metadata": {},
   "outputs": [
    {
     "data": {
      "text/plain": [
       "False"
      ]
     },
     "execution_count": 31,
     "metadata": {},
     "output_type": "execute_result"
    }
   ],
   "source": [
    "2 == 3"
   ]
  },
  {
   "cell_type": "code",
   "execution_count": 37,
   "metadata": {},
   "outputs": [
    {
     "name": "stdout",
     "output_type": "stream",
     "text": [
      "1 menor a 3\n",
      "2 menor a 3\n",
      "3 soy el 3\n",
      "4 mayor a 3\n",
      "5 mayor a 3\n"
     ]
    }
   ],
   "source": [
    "A = [1,2,3,4,5]\n",
    "\n",
    "for n in A:\n",
    "    if n < 3:\n",
    "        print(n, 'menor a 3')\n",
    "    elif n == 3:\n",
    "        print(n, 'soy el 3')\n",
    "    else:\n",
    "        print(n, 'mayor a 3')"
   ]
  },
  {
   "cell_type": "code",
   "execution_count": null,
   "metadata": {},
   "outputs": [],
   "source": [
    "## input:::N: número decimal\n",
    "## output::: número en palabras (Quechua)\n",
    "def decimal_menor20_quec(N):\n",
    "    \n",
    "    ## agregamos la condición N menor o igual a 10\n",
    "    \n",
    "    ## dos condiciones simultáneas: N mayor a 10 y menor a 20\n",
    "   \n",
    "    ## en otro caso: mayor o igual a 20\n",
    "    \n",
    "    return resultado"
   ]
  },
  {
   "cell_type": "code",
   "execution_count": 41,
   "metadata": {},
   "outputs": [],
   "source": [
    "s = 'chunka huk'"
   ]
  },
  {
   "cell_type": "code",
   "execution_count": 42,
   "metadata": {},
   "outputs": [
    {
     "data": {
      "text/plain": [
       "'k'"
      ]
     },
     "execution_count": 42,
     "metadata": {},
     "output_type": "execute_result"
    }
   ],
   "source": [
    "s[-1]"
   ]
  },
  {
   "cell_type": "code",
   "execution_count": 46,
   "metadata": {},
   "outputs": [],
   "source": [
    "## input:::N: número decimal\n",
    "## output::: número en palabras (Quechua)\n",
    "def decimal_menor20_quec(N):\n",
    "    \n",
    "    ## desarmamos el número. Interesa la unidad \n",
    "    unidad = N - 10\n",
    "    ## agregamos la condición\n",
    "    if N <= 10:\n",
    "        ## la posicion en la lista numeros_1_10 es N - 1\n",
    "        posicion = N - 1\n",
    "        ## buscamos la posición en la lista\n",
    "        numero_quechua = numeros_1_10[posicion]\n",
    "        ## entregamos el número\n",
    "        return numero_quechua\n",
    "    ## dos condiciones simultáneas\n",
    "    elif N > 10 and N < 20:\n",
    "        ## restamos uno porque la posición empieza en cero\n",
    "        numero_quechua = 'chunka' + ' ' + numeros_1_10[unidad - 1]\n",
    "        ## si termina en vocal, ponemos -yuq\n",
    "        if numero_quechua[-1] in ['a','e','i','o','u']:\n",
    "            numero_quechua = numero_quechua + '-yuq'\n",
    "        ## si termina en consonante\n",
    "        else:\n",
    "            numero_quechua = numero_quechua + '-ni' + '-yuq'\n",
    "        ## entregamos el número\n",
    "        return numero_quechua\n",
    "    ## en otro caso\n",
    "    else:\n",
    "        print('no conozco números tan grandes :(')"
   ]
  },
  {
   "cell_type": "code",
   "execution_count": 51,
   "metadata": {},
   "outputs": [
    {
     "name": "stdout",
     "output_type": "stream",
     "text": [
      "1 huk\n",
      "2 iskay\n",
      "3 kimsa\n",
      "4 tawa\n",
      "5 pichqa\n",
      "6 suqta\n",
      "7 qanchis\n",
      "8 pusaq\n",
      "9 isqun\n",
      "10 chunka\n",
      "11 chunka huk-ni-yuq\n",
      "12 chunka iskay-ni-yuq\n",
      "13 chunka kimsa-yuq\n",
      "14 chunka tawa-yuq\n",
      "15 chunka pichqa-yuq\n",
      "16 chunka suqta-yuq\n",
      "17 chunka qanchis-ni-yuq\n",
      "18 chunka pusaq-ni-yuq\n",
      "19 chunka isqun-ni-yuq\n"
     ]
    }
   ],
   "source": [
    "for N in range(1,20):\n",
    "    print(N, decimal_menor20_quec(N))"
   ]
  },
  {
   "cell_type": "code",
   "execution_count": 61,
   "metadata": {},
   "outputs": [
    {
     "data": {
      "text/plain": [
       "10.0"
      ]
     },
     "execution_count": 61,
     "metadata": {},
     "output_type": "execute_result"
    }
   ],
   "source": [
    "100/10"
   ]
  },
  {
   "cell_type": "code",
   "execution_count": 71,
   "metadata": {},
   "outputs": [
    {
     "data": {
      "text/plain": [
       "3"
      ]
     },
     "execution_count": 71,
     "metadata": {},
     "output_type": "execute_result"
    }
   ],
   "source": [
    "int(30/10)"
   ]
  },
  {
   "cell_type": "code",
   "execution_count": 69,
   "metadata": {},
   "outputs": [
    {
     "data": {
      "text/plain": [
       "0"
      ]
     },
     "execution_count": 69,
     "metadata": {},
     "output_type": "execute_result"
    }
   ],
   "source": [
    "N = 30\n",
    "\n",
    "12%4"
   ]
  },
  {
   "cell_type": "code",
   "execution_count": 75,
   "metadata": {},
   "outputs": [],
   "source": [
    "## mayor a 20 y menor a 100\n",
    "\n",
    "## input:::N: número decimal\n",
    "## output::: número en palabras (Quechua)\n",
    "def decimal_menor100_quec(N):\n",
    "    \n",
    "    ## el número es menor a 20\n",
    "    if N < 20:\n",
    "        return decimal_menor20_quec(N)\n",
    "    ## primer caso: números mayores a 10, menores a 100  y múltiplos de 10\n",
    "    elif N > 10 and N < 100 and N%10 == 0:\n",
    "        ## decena\n",
    "        decena = int(N/10)\n",
    "        ## número\n",
    "        numero_quechua =  numeros_1_10[decena - 1] + ' ' + 'chunka'\n",
    "        ###\n",
    "        return numero_quechua\n",
    "    ## segundo caso: números mayores a 20, menores a 100 y no son múltiplos de 10\n",
    "    else:\n",
    "        return 'no conozco números tan grandes :('"
   ]
  },
  {
   "cell_type": "code",
   "execution_count": 77,
   "metadata": {},
   "outputs": [
    {
     "data": {
      "text/plain": [
       "'pusaq chunka'"
      ]
     },
     "execution_count": 77,
     "metadata": {},
     "output_type": "execute_result"
    }
   ],
   "source": [
    "N = 80\n",
    "\n",
    "decimal_menor100_quec(N)"
   ]
  },
  {
   "cell_type": "markdown",
   "metadata": {},
   "source": [
    "# Un poco sobre condiciones lógicas en Python\n",
    "Un aspecto esencial de **Python** es la posibilidad maravillosa de expresar condiciones lógicas. Recordemos un ejemplo anterior:"
   ]
  },
  {
   "cell_type": "code",
   "execution_count": 1,
   "metadata": {},
   "outputs": [],
   "source": [
    "lista_palabras = ['palabra1', 'palabra2', 'palabra3', 'palabra4', 'palabra5', 'palabra6']"
   ]
  },
  {
   "cell_type": "markdown",
   "metadata": {},
   "source": [
    "Supongamos que queremos sufijar algunas de estas palabras, pero dependiendo de la terminación algunas tendrán **sufijo1** y otras **sufijo2.** \n",
    "```python\n",
    "sufijo1 = '-sufijo1'\n",
    "sufijo2 = '-sufijo2'\n",
    "```\n",
    "Digamos, a modo de ejemplo, que las palabras terminadas 1, 3 y 5 estarán asociadas al **sufijo1**, y las demás, al **sufijo2**. ¿Cómo hacemos esto?"
   ]
  },
  {
   "cell_type": "markdown",
   "metadata": {},
   "source": [
    "**Opción 1**"
   ]
  },
  {
   "cell_type": "code",
   "execution_count": 2,
   "metadata": {},
   "outputs": [],
   "source": [
    "sufijo1 = '-sufijo1'\n",
    "sufijo2 = '-sufijo2'"
   ]
  },
  {
   "cell_type": "code",
   "execution_count": 3,
   "metadata": {},
   "outputs": [],
   "source": [
    "## Hacemos esto palabra por palabra, es decir,\n",
    "\n",
    "lista_palabras_sufijadas = ['palabra1'+sufijo1, 'palabra2'+sufijo2, 'palabra3'+sufijo1, 'palabra4'+sufijo2, 'palabra5'+sufijo1, 'palabra6'+sufijo2]"
   ]
  },
  {
   "cell_type": "code",
   "execution_count": 4,
   "metadata": {},
   "outputs": [
    {
     "data": {
      "text/plain": [
       "['palabra1-sufijo1',\n",
       " 'palabra2-sufijo2',\n",
       " 'palabra3-sufijo1',\n",
       " 'palabra4-sufijo2',\n",
       " 'palabra5-sufijo1',\n",
       " 'palabra6-sufijo2']"
      ]
     },
     "execution_count": 4,
     "metadata": {},
     "output_type": "execute_result"
    }
   ],
   "source": [
    "lista_palabras_sufijadas"
   ]
  },
  {
   "cell_type": "markdown",
   "metadata": {},
   "source": [
    "**Opción 2**"
   ]
  },
  {
   "cell_type": "markdown",
   "metadata": {},
   "source": [
    "En la definición de **sufijo1** y **sufijo2** hay una condición lógica encubierta: **si** las palabras terminan en 1, 3 o 5, estarán asociadas a **sufijo1**; en otro caso, a **sufijo2**. Esto nos recuerda al condicional de la forma **if A, (then) B**, en donde si se cumple cierta condición **A**, ocurrirá **B**. ¿Cómo traducimos estas ideas a **Python**? Vamos por partes:\n",
    "\n",
    "- Condición **if A**: esta condición equivale a \"la palabra termina en 1, 3 o 5\"\n",
    "```python\n",
    "terminacion = palabra[-1]\n",
    "if terminacion in [1,3,5]:\n",
    "```\n",
    "Noten la coloración de **if**, el uso de **in** y el **:** final. \n",
    "\n",
    "- Condición **(then) B**: esta consecuencia equivale a que si se cumple **A**, entonces usamos **sufijo1**\n",
    "```python\n",
    "terminacion = palabra[-1]\n",
    "if terminacion in [1,3,5]:\n",
    "    palabra_sufijada = palabra+sufijo1\n",
    "```"
   ]
  },
  {
   "cell_type": "markdown",
   "metadata": {},
   "source": [
    "Ahora debemos recorrer las palabras de la lista original y sufijarlas. Esto queda:"
   ]
  },
  {
   "cell_type": "code",
   "execution_count": 5,
   "metadata": {},
   "outputs": [],
   "source": [
    "lista_palabras_sufijadas = []\n",
    "\n",
    "## recorremos las palabras\n",
    "for palabra in lista_palabras:\n",
    "    ## guardamos el carácter final en la variable terminación\n",
    "    terminacion = palabra[-1]\n",
    "    ## condición A\n",
    "    if terminacion in ['1','3','5']:\n",
    "        ## agregamos el sufijo\n",
    "        palabra_sufijada = palabra+sufijo1\n",
    "        ## guardamos la palabra sufijada\n",
    "        lista_palabras_sufijadas += [palabra_sufijada]"
   ]
  },
  {
   "cell_type": "code",
   "execution_count": 6,
   "metadata": {},
   "outputs": [
    {
     "data": {
      "text/plain": [
       "['palabra1-sufijo1', 'palabra3-sufijo1', 'palabra5-sufijo1']"
      ]
     },
     "execution_count": 6,
     "metadata": {},
     "output_type": "execute_result"
    }
   ],
   "source": [
    "lista_palabras_sufijadas"
   ]
  },
  {
   "cell_type": "markdown",
   "metadata": {},
   "source": [
    "¿Qué ocurre con las demás palabras? Recordemos la estructura completa de nuestro problema lógico: **if A, (then) B; else, C**. En este caso, **else, C** indica que en otro caso, o sea, para las terminaciones 2, 4 y 6 existe el caso **C**, que equivale al sufijo2. En **Python**, queda:"
   ]
  },
  {
   "cell_type": "code",
   "execution_count": 7,
   "metadata": {},
   "outputs": [],
   "source": [
    "lista_palabras_sufijadas = []\n",
    "\n",
    "## recorremos las palabras\n",
    "for palabra in lista_palabras:\n",
    "    ## guardamos el carácter final en la variable terminación\n",
    "    terminacion = palabra[-1]\n",
    "    ## condición A\n",
    "    if terminacion in ['1','3','5']:\n",
    "        ## agregamos el sufijo\n",
    "        palabra_sufijada = palabra+sufijo1\n",
    "    ## condición C, que equivale a las terminaciones 2, 4 y 6\n",
    "    else:\n",
    "        ## agregamos el sufijo\n",
    "        palabra_sufijada = palabra+sufijo2\n",
    "    ## guardamos la palabra sufijada\n",
    "    lista_palabras_sufijadas += [palabra_sufijada]"
   ]
  },
  {
   "cell_type": "code",
   "execution_count": 8,
   "metadata": {},
   "outputs": [
    {
     "data": {
      "text/plain": [
       "['palabra1-sufijo1',\n",
       " 'palabra2-sufijo2',\n",
       " 'palabra3-sufijo1',\n",
       " 'palabra4-sufijo2',\n",
       " 'palabra5-sufijo1',\n",
       " 'palabra6-sufijo2']"
      ]
     },
     "execution_count": 8,
     "metadata": {},
     "output_type": "execute_result"
    }
   ],
   "source": [
    "lista_palabras_sufijadas"
   ]
  },
  {
   "cell_type": "markdown",
   "metadata": {},
   "source": [
    "**Detalle importante**"
   ]
  },
  {
   "cell_type": "markdown",
   "metadata": {},
   "source": [
    "Noten que las posibilidades son solamente aquellas contenidas en las terminaciones de las palabras, o sea,\n",
    "\n",
    "```python\n",
    "terminaciones = ['1', '2', '3', '4', '5', '6']\n",
    "```"
   ]
  },
  {
   "cell_type": "markdown",
   "metadata": {},
   "source": [
    "Si usamos el par **if-else** en nuestro código, debemos tener la precaución de que estamos abarcando correctamente todas las posibilidades. Para entender esta idea, usemos un ejemplo levemente más complejo. Usemos los siguientes sufijos:\n",
    "\n",
    "- **sufijo 1**, si las palabras terminan en 1, 3 y 5\n",
    "- **sufijo 2**, si las palabras terminan en 2 y 4\n",
    "- **sufijo 3**, si las palabras terminan en 6\n",
    "\n",
    "Ahora, el código queda:"
   ]
  },
  {
   "cell_type": "code",
   "execution_count": 9,
   "metadata": {},
   "outputs": [],
   "source": [
    "lista_palabras_sufijadas = []\n",
    "\n",
    "## recorremos las palabras\n",
    "for palabra in lista_palabras:\n",
    "    ## guardamos el carácter final en la variable terminación\n",
    "    terminacion = palabra[-1]\n",
    "    ## condición A\n",
    "    if terminacion in ['1','3','5']:\n",
    "        ## agregamos el sufijo\n",
    "        palabra_sufijada = palabra+sufijo1\n",
    "    ## condición C, que equivale a las terminaciones 2, 4 y 6. Noten que no es necesario repetir la condición. \n",
    "    else:\n",
    "        ## agregamos el sufijo\n",
    "        palabra_sufijada = palabra+sufijo2\n",
    "    ## guardamos la palabra sufijada\n",
    "    lista_palabras_sufijadas += [palabra_sufijada]"
   ]
  },
  {
   "cell_type": "code",
   "execution_count": 10,
   "metadata": {},
   "outputs": [
    {
     "data": {
      "text/plain": [
       "['palabra1-sufijo1',\n",
       " 'palabra2-sufijo2',\n",
       " 'palabra3-sufijo1',\n",
       " 'palabra4-sufijo2',\n",
       " 'palabra5-sufijo1',\n",
       " 'palabra6-sufijo2']"
      ]
     },
     "execution_count": 10,
     "metadata": {},
     "output_type": "execute_result"
    }
   ],
   "source": [
    "lista_palabras_sufijadas"
   ]
  },
  {
   "cell_type": "markdown",
   "metadata": {},
   "source": [
    "Sin embargo, este código tiene un error en la **palabra6**. ¿Cómo lo arreglamos? Pensemos en que la estructura lógica del problema tiene la forma **if A, (then) B; else if, C; else D**."
   ]
  },
  {
   "cell_type": "code",
   "execution_count": 11,
   "metadata": {},
   "outputs": [],
   "source": [
    "## el nuevo sufijo\n",
    "sufijo3 = '-sufijo3'\n",
    "\n",
    "lista_palabras_sufijadas = []\n",
    "\n",
    "## recorremos las palabras\n",
    "for palabra in lista_palabras:\n",
    "    ## guardamos el carácter final en la variable terminación\n",
    "    terminacion = palabra[-1]\n",
    "    ## condición A\n",
    "    if terminacion in ['1','3','5']:\n",
    "        ## agregamos el sufijo\n",
    "        palabra_sufijada = palabra+sufijo1\n",
    "    ## elif es la mezcla de else+if. Condición C, que equivale a las terminaciones 2, 4 y 6\n",
    "    elif terminacion in ['2','4']:\n",
    "        ## agregamos el sufijo\n",
    "        palabra_sufijada = palabra+sufijo2\n",
    "    else:\n",
    "        ## agregamos el sufijo\n",
    "        palabra_sufijada = palabra+sufijo3\n",
    "    ## guardamos la palabra sufijada\n",
    "    lista_palabras_sufijadas += [palabra_sufijada]"
   ]
  },
  {
   "cell_type": "code",
   "execution_count": 12,
   "metadata": {},
   "outputs": [
    {
     "data": {
      "text/plain": [
       "['palabra1-sufijo1',\n",
       " 'palabra2-sufijo2',\n",
       " 'palabra3-sufijo1',\n",
       " 'palabra4-sufijo2',\n",
       " 'palabra5-sufijo1',\n",
       " 'palabra6-sufijo3']"
      ]
     },
     "execution_count": 12,
     "metadata": {},
     "output_type": "execute_result"
    }
   ],
   "source": [
    "lista_palabras_sufijadas"
   ]
  },
  {
   "cell_type": "markdown",
   "metadata": {},
   "source": [
    "**EJERCICIO 1:** Reescriba el código anterior para cumplir los siguientes requisitos:\n",
    "        \n",
    "- **sufijo 1**, si las palabras terminan en 1, 3 y 5\n",
    "- **prefijo 1**, si las palabras terminan en 2 y 4\n",
    "- **sufijo 1**, si las palabras terminan en 6"
   ]
  },
  {
   "cell_type": "markdown",
   "metadata": {},
   "source": [
    "**EJERCICIO 2:** En una lengua (quizás extraña), una palabra puede sufijarse con\n",
    "\n",
    "```python\n",
    "sufijo1 = '-sufijo1'\n",
    "sufijo2 = '-sufijo2'\n",
    "sufijo3 = '-sufijo3'\n",
    "```\n",
    "de acuerdo con las siguientes reglas:\n",
    "\n",
    "- **sufijo1**, si las palabras terminan en 1, 3 y 5\n",
    "- **sufijo2**, si las palabras terminan en 2 y 4\n",
    "- **sufijo3**, si las palabras han sido sufijadas mediante el **sufijo2**\n",
    "\n",
    "Sufije la lista\n",
    "\n",
    "```python\n",
    "lista_palabras = ['palabra1', 'palabra2', 'palabra3', 'palabra4', 'palabra5', 'palabra6']\n",
    "```\n",
    "\n",
    "de acuerdo con estas reglas. "
   ]
  },
  {
   "cell_type": "code",
   "execution_count": null,
   "metadata": {},
   "outputs": [],
   "source": []
  }
 ],
 "metadata": {
  "colab": {
   "name": "semana-1.ipynb",
   "provenance": []
  },
  "kernelspec": {
   "display_name": "Python 3",
   "language": "python",
   "name": "python3"
  },
  "language_info": {
   "codemirror_mode": {
    "name": "ipython",
    "version": 3
   },
   "file_extension": ".py",
   "mimetype": "text/x-python",
   "name": "python",
   "nbconvert_exporter": "python",
   "pygments_lexer": "ipython3",
   "version": "3.8.8"
  }
 },
 "nbformat": 4,
 "nbformat_minor": 1
}
