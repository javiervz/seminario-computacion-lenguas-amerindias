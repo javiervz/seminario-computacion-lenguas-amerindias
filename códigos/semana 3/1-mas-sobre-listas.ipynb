{
 "cells": [
  {
   "cell_type": "markdown",
   "id": "a1bf5850",
   "metadata": {},
   "source": [
    "# **Seminario de métodos computacionales para lenguas amerindias**\n",
    "### Roberto Zariquiey Biondi, rzariquiey@pucp.edu.pe \n",
    "### Javier Vera Zúñiga, jveraz@pucp.edu.pe"
   ]
  },
  {
   "cell_type": "markdown",
   "id": "79a5f087",
   "metadata": {},
   "source": [
    "# (Aún) más sobre sobre listas \n",
    "En este pequeño apunte, vamos a profundizar en la estructura que debería convertirse en favorita: **listas**. Ya sabemos, de forma un poco preliminar, que las listas \n",
    "\n",
    "- Son estructuras que **almacenan** elementos; \n",
    "- Están **ordenadas**; y\n",
    "- Sirven para definir **ciclos for.**\n",
    "\n",
    "Para entender estos tres puntos, debemos profundizar en el manejo de listas, y sus trucos. "
   ]
  },
  {
   "cell_type": "markdown",
   "id": "be480124",
   "metadata": {},
   "source": [
    "Para partir, usemos el siguiente string, adaptado de [Ada Lovelace](https://es.wikipedia.org/wiki/Ada_Lovelace)"
   ]
  },
  {
   "cell_type": "code",
   "execution_count": 3,
   "id": "11c17994",
   "metadata": {},
   "outputs": [],
   "source": [
    "string_bio = 'Augusta Ada King, condesa de Lovelace, registrada al nacer como Augusta Ada Byron y conocida habitualmente como Ada Lovelace, fue una matemática y escritora británica, célebre sobre todo por su trabajo acerca de la computadora mecánica de uso general de Charles Babbage, la denominada máquina analítica. Fue la primera en reconocer que la máquina tenía aplicaciones más allá del cálculo puro y en haber publicado lo que se reconoce hoy como el primer algoritmo destinado a ser procesado por una máquina, por lo que se la considera como la primera programadora de ordenadores.'"
   ]
  },
  {
   "cell_type": "markdown",
   "id": "eee04597",
   "metadata": {},
   "source": [
    "Para convertir el string anterior en una lista, debemos primero pensar qué es una palabra. Este problema, que parece inocente, puede volverse muy difícil (o incluso un poco imposible) en ciertas lenguas. En español, una buena aproximación en dividir el string por los espacios en blanco. Es decir,"
   ]
  },
  {
   "cell_type": "code",
   "execution_count": 7,
   "id": "de60c43b",
   "metadata": {},
   "outputs": [],
   "source": [
    "lista_palabras = string_bio.split(' ')"
   ]
  },
  {
   "cell_type": "markdown",
   "id": "0999fdf9",
   "metadata": {},
   "source": [
    "En la línea anterior, noten que usamos una función predefinida\n",
    "```python\n",
    ".split(' ')\n",
    "```\n",
    "con el fin de transformar un **string** en una **lista**. Detrás de este proceso, hay dos enseñanzas:\n",
    "\n",
    "- En **Python**, un elemento puede transformarse de un tipo a otro (en este caso, de **string** a **lista**); y\n",
    "- Existen operaciones, que llamaremos **funciones**, que predefinidas (por alguien, uno mismo u otros) sirven para operar sobre un elemento y cambiarlo (en este caso, sobre el string, dividiendo por espacios en blanco). \n",
    "\n",
    "Pruebe cambiando \n",
    "```python\n",
    ".split(' ')\n",
    "```\n",
    "por \n",
    "\n",
    "```python\n",
    ".split('a')\n",
    "```\n",
    "¿Qué ocurre?"
   ]
  },
  {
   "cell_type": "markdown",
   "id": "ab541bef",
   "metadata": {},
   "source": [
    "**EJERCICIO 1:** Detecte automáticamente el número de oraciones contenidas en \n",
    "```python\n",
    "string_bio\n",
    "```\n",
    "\n",
    "**Recomendaciones:**\n",
    "\n",
    "1. Piense en qué es una oración, y trate de expresar esta idea en términos de **Python.**\n",
    "2. Use todo lo que hemos visto (no es tanto, pero sirve para responder esta pregunta). "
   ]
  },
  {
   "cell_type": "markdown",
   "id": "9b3c9505",
   "metadata": {},
   "source": [
    "**lista_palabras** es ahora una lista que contiene las palabras, entendidas como secuencias de caracteres separadas por espacios en blanco. "
   ]
  },
  {
   "cell_type": "code",
   "execution_count": 9,
   "id": "d277b400",
   "metadata": {},
   "outputs": [
    {
     "data": {
      "text/plain": [
       "['Augusta',\n",
       " 'Ada',\n",
       " 'King,',\n",
       " 'condesa',\n",
       " 'de',\n",
       " 'Lovelace,',\n",
       " 'registrada',\n",
       " 'al',\n",
       " 'nacer',\n",
       " 'como',\n",
       " 'Augusta',\n",
       " 'Ada',\n",
       " 'Byron',\n",
       " 'y',\n",
       " 'conocida',\n",
       " 'habitualmente',\n",
       " 'como',\n",
       " 'Ada',\n",
       " 'Lovelace,',\n",
       " 'fue',\n",
       " 'una',\n",
       " 'matemática',\n",
       " 'y',\n",
       " 'escritora',\n",
       " 'británica,',\n",
       " 'célebre',\n",
       " 'sobre',\n",
       " 'todo',\n",
       " 'por',\n",
       " 'su',\n",
       " 'trabajo',\n",
       " 'acerca',\n",
       " 'de',\n",
       " 'la',\n",
       " 'computadora',\n",
       " 'mecánica',\n",
       " 'de',\n",
       " 'uso',\n",
       " 'general',\n",
       " 'de',\n",
       " 'Charles',\n",
       " 'Babbage,',\n",
       " 'la',\n",
       " 'denominada',\n",
       " 'máquina',\n",
       " 'analítica.',\n",
       " 'Fue',\n",
       " 'la',\n",
       " 'primera',\n",
       " 'en',\n",
       " 'reconocer',\n",
       " 'que',\n",
       " 'la',\n",
       " 'máquina',\n",
       " 'tenía',\n",
       " 'aplicaciones',\n",
       " 'más',\n",
       " 'allá',\n",
       " 'del',\n",
       " 'cálculo',\n",
       " 'puro',\n",
       " 'y',\n",
       " 'en',\n",
       " 'haber',\n",
       " 'publicado',\n",
       " 'lo',\n",
       " 'que',\n",
       " 'se',\n",
       " 'reconoce',\n",
       " 'hoy',\n",
       " 'como',\n",
       " 'el',\n",
       " 'primer',\n",
       " 'algoritmo',\n",
       " 'destinado',\n",
       " 'a',\n",
       " 'ser',\n",
       " 'procesado',\n",
       " 'por',\n",
       " 'una',\n",
       " 'máquina,',\n",
       " 'por',\n",
       " 'lo',\n",
       " 'que',\n",
       " 'se',\n",
       " 'la',\n",
       " 'considera',\n",
       " 'como',\n",
       " 'la',\n",
       " 'primera',\n",
       " 'programadora',\n",
       " 'de',\n",
       " 'ordenadores.']"
      ]
     },
     "execution_count": 9,
     "metadata": {},
     "output_type": "execute_result"
    }
   ],
   "source": [
    "lista_palabras"
   ]
  },
  {
   "cell_type": "code",
   "execution_count": 10,
   "id": "abba117f",
   "metadata": {},
   "outputs": [],
   "source": [
    "## número de elementos de lista_palabras\n",
    "\n",
    "numero_palabras = len(lista_palabras)"
   ]
  },
  {
   "cell_type": "code",
   "execution_count": 11,
   "id": "d5e2a315",
   "metadata": {},
   "outputs": [
    {
     "data": {
      "text/plain": [
       "93"
      ]
     },
     "execution_count": 11,
     "metadata": {},
     "output_type": "execute_result"
    }
   ],
   "source": [
    "numero_palabras"
   ]
  },
  {
   "cell_type": "markdown",
   "id": "da23806b",
   "metadata": {},
   "source": [
    "Sin embargo, es posible que no queramos visualizar las 93 palabras almacenadas en lista_palabras, sino que las primeras 5, ¿Cómo hacemos eso?"
   ]
  },
  {
   "cell_type": "code",
   "execution_count": 12,
   "id": "e3b0b7e7",
   "metadata": {},
   "outputs": [],
   "source": [
    "muestra_palabras = lista_palabras[:5]"
   ]
  },
  {
   "cell_type": "code",
   "execution_count": 13,
   "id": "5f4566e9",
   "metadata": {},
   "outputs": [
    {
     "data": {
      "text/plain": [
       "['Augusta', 'Ada', 'King,', 'condesa', 'de']"
      ]
     },
     "execution_count": 13,
     "metadata": {},
     "output_type": "execute_result"
    }
   ],
   "source": [
    "muestra_palabras"
   ]
  },
  {
   "cell_type": "markdown",
   "id": "c6688511",
   "metadata": {},
   "source": [
    "Desmenucemos \n",
    "\n",
    "```python\n",
    "muestra_palabras = lista_palabras[:5]\n",
    "```\n",
    "\n",
    "Aparte de la asignación de variable (de derecha a izquierda), nos importan los siguientes elementos:\n",
    "\n",
    "- Accedemos a un elemento particular de una lista usando **[...]**; y\n",
    "- si queremos los elementos **hasta** una posición **n**, usamos\n",
    "\n",
    "```python\n",
    "lista[:n]\n",
    "```"
   ]
  },
  {
   "cell_type": "markdown",
   "id": "20524cd7",
   "metadata": {},
   "source": [
    "También es posible, que queramos visualizar los elementos desde la posición 1"
   ]
  },
  {
   "cell_type": "code",
   "execution_count": 14,
   "id": "5fe57b09",
   "metadata": {},
   "outputs": [],
   "source": [
    "desde_palabras = lista_palabras[1:]"
   ]
  },
  {
   "cell_type": "code",
   "execution_count": 15,
   "id": "b86cfd8f",
   "metadata": {},
   "outputs": [
    {
     "data": {
      "text/plain": [
       "['Ada',\n",
       " 'King,',\n",
       " 'condesa',\n",
       " 'de',\n",
       " 'Lovelace,',\n",
       " 'registrada',\n",
       " 'al',\n",
       " 'nacer',\n",
       " 'como',\n",
       " 'Augusta',\n",
       " 'Ada',\n",
       " 'Byron',\n",
       " 'y',\n",
       " 'conocida',\n",
       " 'habitualmente',\n",
       " 'como',\n",
       " 'Ada',\n",
       " 'Lovelace,',\n",
       " 'fue',\n",
       " 'una',\n",
       " 'matemática',\n",
       " 'y',\n",
       " 'escritora',\n",
       " 'británica,',\n",
       " 'célebre',\n",
       " 'sobre',\n",
       " 'todo',\n",
       " 'por',\n",
       " 'su',\n",
       " 'trabajo',\n",
       " 'acerca',\n",
       " 'de',\n",
       " 'la',\n",
       " 'computadora',\n",
       " 'mecánica',\n",
       " 'de',\n",
       " 'uso',\n",
       " 'general',\n",
       " 'de',\n",
       " 'Charles',\n",
       " 'Babbage,',\n",
       " 'la',\n",
       " 'denominada',\n",
       " 'máquina',\n",
       " 'analítica.',\n",
       " 'Fue',\n",
       " 'la',\n",
       " 'primera',\n",
       " 'en',\n",
       " 'reconocer',\n",
       " 'que',\n",
       " 'la',\n",
       " 'máquina',\n",
       " 'tenía',\n",
       " 'aplicaciones',\n",
       " 'más',\n",
       " 'allá',\n",
       " 'del',\n",
       " 'cálculo',\n",
       " 'puro',\n",
       " 'y',\n",
       " 'en',\n",
       " 'haber',\n",
       " 'publicado',\n",
       " 'lo',\n",
       " 'que',\n",
       " 'se',\n",
       " 'reconoce',\n",
       " 'hoy',\n",
       " 'como',\n",
       " 'el',\n",
       " 'primer',\n",
       " 'algoritmo',\n",
       " 'destinado',\n",
       " 'a',\n",
       " 'ser',\n",
       " 'procesado',\n",
       " 'por',\n",
       " 'una',\n",
       " 'máquina,',\n",
       " 'por',\n",
       " 'lo',\n",
       " 'que',\n",
       " 'se',\n",
       " 'la',\n",
       " 'considera',\n",
       " 'como',\n",
       " 'la',\n",
       " 'primera',\n",
       " 'programadora',\n",
       " 'de',\n",
       " 'ordenadores.']"
      ]
     },
     "execution_count": 15,
     "metadata": {},
     "output_type": "execute_result"
    }
   ],
   "source": [
    "desde_palabras"
   ]
  },
  {
   "cell_type": "markdown",
   "id": "f60f23a4",
   "metadata": {},
   "source": [
    "¿Y podemos combinar todo lo anterior? **Por supuesto!**"
   ]
  },
  {
   "cell_type": "code",
   "execution_count": 16,
   "id": "b1f8679e",
   "metadata": {},
   "outputs": [],
   "source": [
    "muestra_palabras = lista_palabras[:5]\n",
    "desde_palabras = lista_palabras[1:5]"
   ]
  },
  {
   "cell_type": "code",
   "execution_count": 17,
   "id": "cb9b87fb",
   "metadata": {},
   "outputs": [
    {
     "data": {
      "text/plain": [
       "['Augusta', 'Ada', 'King,', 'condesa', 'de']"
      ]
     },
     "execution_count": 17,
     "metadata": {},
     "output_type": "execute_result"
    }
   ],
   "source": [
    "muestra_palabras"
   ]
  },
  {
   "cell_type": "code",
   "execution_count": 18,
   "id": "7ea74ea2",
   "metadata": {},
   "outputs": [
    {
     "data": {
      "text/plain": [
       "['Ada', 'King,', 'condesa', 'de']"
      ]
     },
     "execution_count": 18,
     "metadata": {},
     "output_type": "execute_result"
    }
   ],
   "source": [
    "desde_palabras"
   ]
  },
  {
   "cell_type": "markdown",
   "id": "a8b9fc44",
   "metadata": {},
   "source": [
    "**EJERCICIO 2:** Investigue sobre índices negativos en listas, ¿Qué indica la siguiente? \n",
    "```python\n",
    "lista_palabras[-1]\n",
    "```"
   ]
  },
  {
   "cell_type": "markdown",
   "id": "29030acd",
   "metadata": {},
   "source": [
    "Con todo lo anterior, pensemos en el siguiente problema. Supongamos que para cada palabra de **lista_palabras** queremos guardar la palabra que está a la derecha. Esto tiene múltiples aplicaciones, entre ellas, el estudio de contextos de aparición de palabras ¿Cómo resolvemos este problema? Este problema se podría resolver de muchas formas. Aquí buscaremos una solución simple, basada en las posibilidades que nos entregan los índices de las listas. "
   ]
  },
  {
   "cell_type": "markdown",
   "id": "594b8400",
   "metadata": {},
   "source": [
    "Noten que los elementos sucesivos de **muestra_palabras** son exactamente lo que buscamos: el primer elemento de esta lista es el segundo elemento de **muestra_palabras**, y así sucesivamente. "
   ]
  },
  {
   "cell_type": "markdown",
   "id": "c32950b4",
   "metadata": {},
   "source": [
    "En resumen, la solución aparece al utilizar\n",
    "\n",
    "```python\n",
    "lista_palabras\n",
    "```\n",
    "y\n",
    "\n",
    "```python\n",
    "lista_palabras[1:]\n",
    "```"
   ]
  },
  {
   "cell_type": "code",
   "execution_count": 20,
   "id": "e0a714ca",
   "metadata": {},
   "outputs": [],
   "source": [
    "## aquí guardamos lo que estamos buscando\n",
    "lista_palabras_sucesivas = []\n",
    "\n",
    "## recorremos las palabras de lista_palabras ¿Por qué restamos 1?\n",
    "for i in range(len(lista_palabras)-1):\n",
    "    ## seleccionamos una palabra\n",
    "    palabra = lista_palabras[i]\n",
    "    ## seleccionamos la palabra sucesiva\n",
    "    palabra_sucesiva = lista_palabras[1:][i]\n",
    "    ## construimos la lista_par\n",
    "    lista_par = [palabra, palabra_sucesiva]\n",
    "    ## guardamos el par: ¿Una lista dentro de otra lista?\n",
    "    lista_palabras_sucesivas = lista_palabras_sucesivas + [lista_par]"
   ]
  },
  {
   "cell_type": "code",
   "execution_count": 21,
   "id": "9cd8e65f",
   "metadata": {},
   "outputs": [
    {
     "data": {
      "text/plain": [
       "[['Augusta', 'Ada'],\n",
       " ['Ada', 'King,'],\n",
       " ['King,', 'condesa'],\n",
       " ['condesa', 'de'],\n",
       " ['de', 'Lovelace,']]"
      ]
     },
     "execution_count": 21,
     "metadata": {},
     "output_type": "execute_result"
    }
   ],
   "source": [
    "lista_palabras_sucesivas[:5]"
   ]
  },
  {
   "cell_type": "markdown",
   "id": "3427eb05",
   "metadata": {},
   "source": [
    "**EJERCICIO 3:** Reescriba el código anterior con una nueva versión de la línea\n",
    "```python\n",
    "## seleccionamos la palabra sucesiva\n",
    "    palabra_sucesiva = lista_palabras[1:][i]\n",
    "```"
   ]
  },
  {
   "cell_type": "markdown",
   "id": "542edef1",
   "metadata": {},
   "source": [
    "**EJERCICIO 4:** ¿Por qué?\n",
    "```python\n",
    "lista_palabras_sucesivas[0][0]\n",
    "```\n",
    "es\n",
    "\n",
    "```python\n",
    "'Augusta'\n",
    "```"
   ]
  },
  {
   "cell_type": "code",
   "execution_count": null,
   "id": "295b9f19",
   "metadata": {},
   "outputs": [],
   "source": []
  }
 ],
 "metadata": {
  "kernelspec": {
   "display_name": "Python 3",
   "language": "python",
   "name": "python3"
  },
  "language_info": {
   "codemirror_mode": {
    "name": "ipython",
    "version": 3
   },
   "file_extension": ".py",
   "mimetype": "text/x-python",
   "name": "python",
   "nbconvert_exporter": "python",
   "pygments_lexer": "ipython3",
   "version": "3.8.8"
  }
 },
 "nbformat": 4,
 "nbformat_minor": 5
}
