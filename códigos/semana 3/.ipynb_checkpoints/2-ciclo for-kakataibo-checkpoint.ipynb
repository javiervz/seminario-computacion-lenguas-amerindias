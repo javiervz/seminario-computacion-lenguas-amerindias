{
 "cells": [
  {
   "cell_type": "markdown",
   "id": "a1bf5850",
   "metadata": {},
   "source": [
    "# **Seminario de métodos computacionales para lenguas amerindias**\n",
    "### Roberto Zariquiey Biondi, rzariquiey@pucp.edu.pe \n",
    "### Javier Vera Zúñiga, jveraz@pucp.edu.pe"
   ]
  },
  {
   "cell_type": "markdown",
   "id": "79a5f087",
   "metadata": {},
   "source": [
    "# Una aplicación algo más realista :)\n",
    "## Verbos en Kakataibo"
   ]
  },
  {
   "cell_type": "markdown",
   "id": "1dd647a4",
   "metadata": {},
   "source": [
    "En esta aplicación, la idea es expresar (una versión muy simplificada de) la formación de verbos en **Kakataibo** en los términos que hemos aprendido de **Python:** **variables**, **listas** y ciclos **for.** Tenemos los siguientes elementos:\n",
    "\n",
    "1. Una lista de verbos como entradas de diccionario.\n",
    "2. Glosas de significado de esta lista.\n",
    "3. Prefijo de parte del cuerpo: më-\n",
    "4. Sufijo nominalizador (infinitivo): -ti\n",
    "\n",
    "¿Cómo expresamos esto en términos de **Python**? En realidad, hay muchas respuestas posibles, que dependen de:\n",
    "\n",
    "1. los elementos de **Python** que utilicemos;\n",
    "2. la **simpleza** de los códigos; y\n",
    "3. la manera en que nuestro código pueda ser **reusable.**\n",
    "\n",
    "Con respecto al primer punto, conocemos **variables**, que asignaremos a los elementos; **listas**, que usaremos para almacenar la información; y ciclos **for**, con el objetivo de ir construyendo formas verbales de forma iterativa. El segundo punto es importante, aunque un poco difícil de explicar. Más bien, transformar este principio en la siguiente pregunta: ¿De todas las formas posibles de plantear este problema, cuál es la **más simple**? A veces en **Python**, se trata de proponer soluciones breves, es decir, que utilizan la menor cantidad de líneas de código (busquen **pythonic** en google). Esto a veces muestra soluciones muy ingeniosas, pero que esconden un problema: los códigos siempre deben ser entendibles por otras personas. \n",
    "\n",
    "En lo que sigue, iremos viendo problemas cada vez más complejos, que parten desde una versión simple de la formacióm de verbos, que permitirán introducir algunos conceptos nuevos de **Python.**"
   ]
  },
  {
   "cell_type": "markdown",
   "id": "bc97d345",
   "metadata": {},
   "source": [
    "## Problema 1. Construir entradas tipo diccionario de verbos nominalizados y sufijados. \n",
    "\n",
    "Cada verbo está asociado a una glosa. Para almacenar este par, usamos **listas** (como siempre). Es decir, usamos"
   ]
  },
  {
   "cell_type": "code",
   "execution_count": 17,
   "id": "d0ee7209",
   "metadata": {},
   "outputs": [],
   "source": [
    "par_verbo = ['Tax','golpear con puño']"
   ]
  },
  {
   "cell_type": "markdown",
   "id": "74cefc93",
   "metadata": {},
   "source": [
    "La idea, que puede parecer al principio un poco sorprendente, es que estas listas serán almancenadas dentro de otra lista. ¡Listas dentro de listas! Por supuesto, y será una idea que nos acompañará siempre en **Python.** Un aspecto esencial es que sabemos (porque así lo estamos decidiendo) que en cada mini lista (o sub-lista) el primer elemento (de índice 0) es la base verbal, y el segundo elemento (de índice 1) es la glosa. "
   ]
  },
  {
   "cell_type": "code",
   "execution_count": 18,
   "id": "6fcd0986",
   "metadata": {},
   "outputs": [],
   "source": [
    "## verbos: Tax, Chachi, Tash, Më, Pia a, Berua\n",
    "## significados: golpear, hincar, dar una cachetada, golpear de cualquier forma, flechar, cuidar \n",
    "lista_verbos = [['Tax','golpear con puño'],['Chachi','hincar'],['Tash','palmear'],['Më','golpear'],['Pia a','flechar'],['Berua','cuidarse uno mismo']]"
   ]
  },
  {
   "cell_type": "code",
   "execution_count": 19,
   "id": "087b3e8b",
   "metadata": {},
   "outputs": [],
   "source": [
    "## Creamos dos variables, una para el prefijo y otra para el sufijo. \n",
    "\n",
    "## parte del cuerpo: cuyo significado es \"mano\"\n",
    "prefijo = 'më-'\n",
    "## nominalizador\n",
    "sufijo = '-ti'"
   ]
  },
  {
   "cell_type": "markdown",
   "id": "76b8abd4",
   "metadata": {},
   "source": [
    "¿Cómo procedemos? Debemos **recorrer** los pares almacenados en **lista_verbos** (o sea, usando un ciclo **for**), para ir prefijando y sufijando. "
   ]
  },
  {
   "cell_type": "code",
   "execution_count": 20,
   "id": "f9dd53ae",
   "metadata": {},
   "outputs": [],
   "source": [
    "## Primero. En una lista vacía (típica forma de comenzar), guardaremos sub-listas de cuatro elementos:\n",
    "## primero: verbo\n",
    "## segundo: glosa\n",
    "## tercero: verbo prefijado\n",
    "## cuarto: verbo prefijado+sufijado\n",
    "lista_verbos_nom_pref = []"
   ]
  },
  {
   "cell_type": "code",
   "execution_count": 21,
   "id": "256b9ac5",
   "metadata": {},
   "outputs": [],
   "source": [
    "## recorremos los pares de lista_verbos\n",
    "\n",
    "for par_verbo in lista_verbos:\n",
    "    ## verbo\n",
    "    verbo = par_verbo[0]\n",
    "    ## entrada de \"diccionario\"\n",
    "    entrada = []\n",
    "    ## en entrada guardamos el verbo\n",
    "    entrada = entrada + [verbo]\n",
    "    ## agregamos la glosa\n",
    "    entrada = entrada + [par_verbo[1]]\n",
    "    ## prefijemos primero\n",
    "    verbo_prefijado = prefijo + verbo\n",
    "    ## guardamos el verbo prefijado (en minúscula)\n",
    "    entrada = entrada + [verbo_prefijado.lower()]\n",
    "    ## ahora, sufijamos\n",
    "    verbo_sufijado = verbo_prefijado + sufijo\n",
    "    ## guardamos la forma sufijada (en minúscula)\n",
    "    entrada = entrada + [verbo_sufijado.lower()]\n",
    "    ## guardamos las entradas\n",
    "    lista_verbos_nom_pref = lista_verbos_nom_pref + [entrada]"
   ]
  },
  {
   "cell_type": "code",
   "execution_count": 22,
   "id": "d6f67fe3",
   "metadata": {},
   "outputs": [
    {
     "data": {
      "text/plain": [
       "[['Tax', 'golpear con puño', 'më-tax', 'më-tax-ti'],\n",
       " ['Chachi', 'hincar', 'më-chachi', 'më-chachi-ti'],\n",
       " ['Tash', 'palmear', 'më-tash', 'më-tash-ti'],\n",
       " ['Më', 'golpear', 'më-më', 'më-më-ti'],\n",
       " ['Pia a', 'flechar', 'më-pia a', 'më-pia a-ti'],\n",
       " ['Berua', 'cuidarse uno mismo', 'më-berua', 'më-berua-ti']]"
      ]
     },
     "execution_count": 22,
     "metadata": {},
     "output_type": "execute_result"
    }
   ],
   "source": [
    "lista_verbos_nom_pref"
   ]
  },
  {
   "cell_type": "markdown",
   "id": "37cac9f8",
   "metadata": {},
   "source": [
    "**Otro problema relacionado:** ¿Es posible, para un verbo específico, consultar automáticamente por la forma derivada? Es decir,  ¿Cómo podemos usar **lista_verbos_nom_pref** como una especie de **diccionario**? "
   ]
  },
  {
   "cell_type": "code",
   "execution_count": 23,
   "id": "eef9a4d1",
   "metadata": {},
   "outputs": [],
   "source": [
    "## extraemos la lista de verbos de lista_verbos\n",
    "\n",
    "## almacenamos el primer elemento de cada par\n",
    "verbos = []\n",
    "\n",
    "## recorremos los pares\n",
    "for par_verbo in lista_verbos:\n",
    "    ## un verbo es el primer elemento (de índice 0)\n",
    "    verbo = par_verbo[0]\n",
    "    ## guardamos el verbo\n",
    "    verbos = verbos + [verbo]"
   ]
  },
  {
   "cell_type": "code",
   "execution_count": 24,
   "id": "8bbc6c23",
   "metadata": {},
   "outputs": [
    {
     "data": {
      "text/plain": [
       "['Tax', 'Chachi', 'Tash', 'Më', 'Pia a', 'Berua']"
      ]
     },
     "execution_count": 24,
     "metadata": {},
     "output_type": "execute_result"
    }
   ],
   "source": [
    "verbos"
   ]
  },
  {
   "cell_type": "code",
   "execution_count": 25,
   "id": "8dc79d8f",
   "metadata": {},
   "outputs": [],
   "source": [
    "## creamos una consulta. Esto puede cambiar, y cambiará el resultado\n",
    "verbo_consulta = 'Tax'\n",
    "\n",
    "## ¿cuál es el índice de verbo_consulta en la lista verbos?\n",
    "indice_consulta = verbos.index(verbo_consulta)\n",
    "\n",
    "## extraemos el elemento de índice 3 (el cuarto), en la posición indice_consulta \n",
    "resultado = lista_verbos_nom_pref[indice_consulta][3]"
   ]
  },
  {
   "cell_type": "code",
   "execution_count": 26,
   "id": "e52be328",
   "metadata": {},
   "outputs": [
    {
     "data": {
      "text/plain": [
       "'më-tax-ti'"
      ]
     },
     "execution_count": 26,
     "metadata": {},
     "output_type": "execute_result"
    }
   ],
   "source": [
    "resultado"
   ]
  },
  {
   "cell_type": "code",
   "execution_count": 27,
   "id": "dbef0af0",
   "metadata": {},
   "outputs": [],
   "source": [
    "## otra forma de expresar las líneas anteriores! usemos funciones\n",
    "\n",
    "## noten que la sintaxis es similar al ciclo for\n",
    "\n",
    "def formacion_verbos(verbo_consulta):\n",
    "    ## almacenamos el primer elemento de cada par\n",
    "    verbos = []\n",
    "\n",
    "    ## recorremos los pares\n",
    "    for par_verbo in lista_verbos:\n",
    "        ## un verbo es el primer elemento (de índice 0)\n",
    "        verbo = par_verbo[0]\n",
    "        ## guardamos el verbo\n",
    "        verbos = verbos + [verbo]\n",
    "    ## ¿cuál es el índice de verbo_consulta en la lista verbos?\n",
    "    indice_consulta = verbos.index(verbo_consulta)\n",
    "\n",
    "    ## extraemos el elemento de índice 3 (el cuarto), en la posición indice_consulta \n",
    "    resultado = lista_verbos_nom_pref[indice_consulta][3]\n",
    "    \n",
    "    print(resultado)"
   ]
  },
  {
   "cell_type": "code",
   "execution_count": 28,
   "id": "d855212d",
   "metadata": {},
   "outputs": [
    {
     "name": "stdout",
     "output_type": "stream",
     "text": [
      "më-tax-ti\n"
     ]
    }
   ],
   "source": [
    "## verbo a consultar\n",
    "verbo_consulta = 'Tax'\n",
    "\n",
    "formacion_verbos(verbo_consulta)"
   ]
  },
  {
   "cell_type": "code",
   "execution_count": 29,
   "id": "9a2f02ba",
   "metadata": {},
   "outputs": [],
   "source": [
    "from ipywidgets import interact, interactive, fixed, interact_manual\n",
    "import ipywidgets as widgets"
   ]
  },
  {
   "cell_type": "code",
   "execution_count": 30,
   "id": "875d538d",
   "metadata": {},
   "outputs": [
    {
     "data": {
      "application/vnd.jupyter.widget-view+json": {
       "model_id": "f5417d50cd3246b5b99ae3bb66e8c545",
       "version_major": 2,
       "version_minor": 0
      },
      "text/plain": [
       "interactive(children=(Dropdown(description='Verbo: ', options=('Tax', 'Chachi', 'Tash', 'Më', 'Pia a', 'Berua'…"
      ]
     },
     "metadata": {},
     "output_type": "display_data"
    }
   ],
   "source": [
    "interact(formacion_verbos, verbo_consulta = widgets.Dropdown(options = verbos, description=\"Verbo: \"));"
   ]
  },
  {
   "cell_type": "code",
   "execution_count": null,
   "id": "3d5d7fda",
   "metadata": {},
   "outputs": [],
   "source": []
  },
  {
   "cell_type": "code",
   "execution_count": 31,
   "id": "12b13ed6",
   "metadata": {},
   "outputs": [],
   "source": [
    "## problemas pendientes:\n",
    "## 1. según el número de segmentos, depende el prefijo. Alomorfía del ergativo (eminentemente prosódica)\n",
    "## 2. Anotar las sílabas\n",
    "## 3. Silabificador para kakataibo\n",
    "## 4. Conjugar los verbos con sufijos\n",
    "## 5. tres formas -> encontrar la glosa (clase if/else)\n",
    "## 6. Generar datos computarizados \n",
    "## 7. Minúscula"
   ]
  },
  {
   "cell_type": "code",
   "execution_count": null,
   "id": "8eb6995f",
   "metadata": {},
   "outputs": [],
   "source": []
  }
 ],
 "metadata": {
  "kernelspec": {
   "display_name": "Python 3",
   "language": "python",
   "name": "python3"
  },
  "language_info": {
   "codemirror_mode": {
    "name": "ipython",
    "version": 3
   },
   "file_extension": ".py",
   "mimetype": "text/x-python",
   "name": "python",
   "nbconvert_exporter": "python",
   "pygments_lexer": "ipython3",
   "version": "3.8.8"
  }
 },
 "nbformat": 4,
 "nbformat_minor": 5
}
