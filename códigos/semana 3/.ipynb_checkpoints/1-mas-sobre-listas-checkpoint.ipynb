{
 "cells": [
  {
   "cell_type": "markdown",
   "id": "a1bf5850",
   "metadata": {},
   "source": [
    "# **Seminario de métodos computacionales para lenguas amerindias**\n",
    "### Roberto Zariquiey Biondi, rzariquiey@pucp.edu.pe \n",
    "### Javier Vera Zúñiga, jveraz@pucp.edu.pe"
   ]
  },
  {
   "cell_type": "markdown",
   "id": "79a5f087",
   "metadata": {},
   "source": [
    "# (Aún) más sobre sobre listas \n",
    "En este pequeño apunte, vamos a profundizar en la estructura que debería convertirse en favorita: **listas**. Ya sabemos, de forma un poco preliminar, que las listas \n",
    "\n",
    "- Son estructuras que **almacenan** elementos; \n",
    "- Están **ordenadas**; y\n",
    "- Sirven para definir **ciclos for.**\n",
    "\n",
    "Para entender estos tres puntos, debemos profundizar en el manejo de listas, y sus trucos. "
   ]
  },
  {
   "cell_type": "markdown",
   "id": "7e21ac4b",
   "metadata": {},
   "source": [
    "Para partir, usemos el siguiente string, adaptado de [Ada Lovelace](https://es.wikipedia.org/wiki/Ada_Lovelace)"
   ]
  },
  {
   "cell_type": "code",
   "execution_count": 3,
   "id": "cde07608",
   "metadata": {},
   "outputs": [],
   "source": [
    "string_bio = 'Augusta Ada King, condesa de Lovelace, registrada al nacer como Augusta Ada Byron y conocida habitualmente como Ada Lovelace, fue una matemática y escritora británica, célebre sobre todo por su trabajo acerca de la computadora mecánica de uso general de Charles Babbage, la denominada máquina analítica. Fue la primera en reconocer que la máquina tenía aplicaciones más allá del cálculo puro y en haber publicado lo que se reconoce hoy como el primer algoritmo destinado a ser procesado por una máquina, por lo que se la considera como la primera programadora de ordenadores.'"
   ]
  },
  {
   "cell_type": "markdown",
   "id": "6d1f4156",
   "metadata": {},
   "source": [
    "Para convertir el string anterior en una lista, debemos primero pensar qué es una palabra. Este problema, que parece inocente, puede volverse muy difícil (o incluso un poco imposible) en ciertas lenguas. En español, una buena aproximación en dividir el string por los espacios en blanco. Es decir,"
   ]
  },
  {
   "cell_type": "code",
   "execution_count": 7,
   "id": "df5d406d",
   "metadata": {},
   "outputs": [],
   "source": [
    "lista_palabras = string_bio.split(' ')"
   ]
  },
  {
   "cell_type": "markdown",
   "id": "ec59b3df",
   "metadata": {},
   "source": [
    "En la línea anterior, noten que usamos una función predefinida\n",
    "```python\n",
    ".split(' ')\n",
    "```\n",
    "con el fin de transformar un **string** en una **lista**. Detrás de este proceso, hay dos enseñanzas:\n",
    "\n",
    "- En **Python**, un elemento puede transformarse de un tipo a otro (en este caso, de **string** a **lista**); y\n",
    "- Existen operaciones, que llamaremos **funciones**, que predefinidas (por alguien, uno mismo u otros) sirven para operar sobre un elemento y cambiarlo (en este caso, sobre el string, dividiendo por espacios en blanco). \n",
    "\n",
    "Pruebe cambiando \n",
    "```python\n",
    ".split(' ')\n",
    "```\n",
    "por \n",
    "\n",
    "```python\n",
    ".split('a')\n",
    "```\n",
    "¿Qué ocurre?"
   ]
  },
  {
   "cell_type": "markdown",
   "id": "2c2883e5",
   "metadata": {},
   "source": [
    "**EJERCICIO 1:** Detecte automáticamente el número de oraciones contenidas en \n",
    "```python\n",
    "string_bio\n",
    "```\n",
    "\n",
    "**Recomendaciones:**\n",
    "\n",
    "1. Piense en qué es una oración, y trate de expresar esta idea en términos de **Python.**\n",
    "2. Use todo lo que hemos visto (no es tanto, pero sirve para responder esta pregunta). "
   ]
  },
  {
   "cell_type": "markdown",
   "id": "79e45d4f",
   "metadata": {},
   "source": [
    "**lista_palabras** es ahora una lista que contiene las palabras, entendidas como secuencias de caracteres separadas por espacios en blanco. "
   ]
  },
  {
   "cell_type": "code",
   "execution_count": 9,
   "id": "17157144",
   "metadata": {},
   "outputs": [
    {
     "data": {
      "text/plain": [
       "['Augusta',\n",
       " 'Ada',\n",
       " 'King,',\n",
       " 'condesa',\n",
       " 'de',\n",
       " 'Lovelace,',\n",
       " 'registrada',\n",
       " 'al',\n",
       " 'nacer',\n",
       " 'como',\n",
       " 'Augusta',\n",
       " 'Ada',\n",
       " 'Byron',\n",
       " 'y',\n",
       " 'conocida',\n",
       " 'habitualmente',\n",
       " 'como',\n",
       " 'Ada',\n",
       " 'Lovelace,',\n",
       " 'fue',\n",
       " 'una',\n",
       " 'matemática',\n",
       " 'y',\n",
       " 'escritora',\n",
       " 'británica,',\n",
       " 'célebre',\n",
       " 'sobre',\n",
       " 'todo',\n",
       " 'por',\n",
       " 'su',\n",
       " 'trabajo',\n",
       " 'acerca',\n",
       " 'de',\n",
       " 'la',\n",
       " 'computadora',\n",
       " 'mecánica',\n",
       " 'de',\n",
       " 'uso',\n",
       " 'general',\n",
       " 'de',\n",
       " 'Charles',\n",
       " 'Babbage,',\n",
       " 'la',\n",
       " 'denominada',\n",
       " 'máquina',\n",
       " 'analítica.',\n",
       " 'Fue',\n",
       " 'la',\n",
       " 'primera',\n",
       " 'en',\n",
       " 'reconocer',\n",
       " 'que',\n",
       " 'la',\n",
       " 'máquina',\n",
       " 'tenía',\n",
       " 'aplicaciones',\n",
       " 'más',\n",
       " 'allá',\n",
       " 'del',\n",
       " 'cálculo',\n",
       " 'puro',\n",
       " 'y',\n",
       " 'en',\n",
       " 'haber',\n",
       " 'publicado',\n",
       " 'lo',\n",
       " 'que',\n",
       " 'se',\n",
       " 'reconoce',\n",
       " 'hoy',\n",
       " 'como',\n",
       " 'el',\n",
       " 'primer',\n",
       " 'algoritmo',\n",
       " 'destinado',\n",
       " 'a',\n",
       " 'ser',\n",
       " 'procesado',\n",
       " 'por',\n",
       " 'una',\n",
       " 'máquina,',\n",
       " 'por',\n",
       " 'lo',\n",
       " 'que',\n",
       " 'se',\n",
       " 'la',\n",
       " 'considera',\n",
       " 'como',\n",
       " 'la',\n",
       " 'primera',\n",
       " 'programadora',\n",
       " 'de',\n",
       " 'ordenadores.']"
      ]
     },
     "execution_count": 9,
     "metadata": {},
     "output_type": "execute_result"
    }
   ],
   "source": [
    "lista_palabras"
   ]
  },
  {
   "cell_type": "code",
   "execution_count": 10,
   "id": "794f7010",
   "metadata": {},
   "outputs": [],
   "source": [
    "## número de elementos de lista_palabras\n",
    "\n",
    "numero_palabras = len(lista_palabras)"
   ]
  },
  {
   "cell_type": "code",
   "execution_count": 11,
   "id": "2a35479f",
   "metadata": {},
   "outputs": [
    {
     "data": {
      "text/plain": [
       "93"
      ]
     },
     "execution_count": 11,
     "metadata": {},
     "output_type": "execute_result"
    }
   ],
   "source": [
    "numero_palabras"
   ]
  },
  {
   "cell_type": "markdown",
   "id": "444d7a14",
   "metadata": {},
   "source": [
    "Sin embargo, es posible que no queramos visualizar las 93 palabras almacenadas en lista_palabras, sino que las primeras 5, ¿Cómo hacemos eso?"
   ]
  },
  {
   "cell_type": "code",
   "execution_count": 12,
   "id": "4d11e61a",
   "metadata": {},
   "outputs": [],
   "source": [
    "muestra_palabras = lista_palabras[:5]"
   ]
  },
  {
   "cell_type": "code",
   "execution_count": 13,
   "id": "f7dbb698",
   "metadata": {},
   "outputs": [
    {
     "data": {
      "text/plain": [
       "['Augusta', 'Ada', 'King,', 'condesa', 'de']"
      ]
     },
     "execution_count": 13,
     "metadata": {},
     "output_type": "execute_result"
    }
   ],
   "source": [
    "muestra_palabras"
   ]
  },
  {
   "cell_type": "markdown",
   "id": "991d060a",
   "metadata": {},
   "source": [
    "Desmenucemos \n",
    "\n",
    "```python\n",
    "muestra_palabras = lista_palabras[:5]\n",
    "```\n",
    "\n",
    "Aparte de la asignación de variable (de derecha a izquierda), nos importan los siguientes elementos:\n",
    "\n",
    "- Accedemos a un elemento particular de una lista usando **[...]**; y\n",
    "- si queremos los elementos **hasta** una posición **n**, usamos\n",
    "\n",
    "```python\n",
    "lista[:n]\n",
    "```"
   ]
  },
  {
   "cell_type": "markdown",
   "id": "bb228ea3",
   "metadata": {},
   "source": [
    "También es posible, que queramos visualizar los elementos desde la posición 1"
   ]
  },
  {
   "cell_type": "code",
   "execution_count": 14,
   "id": "37ce156f",
   "metadata": {},
   "outputs": [],
   "source": [
    "desde_palabras = lista_palabras[1:]"
   ]
  },
  {
   "cell_type": "code",
   "execution_count": 15,
   "id": "97041430",
   "metadata": {},
   "outputs": [
    {
     "data": {
      "text/plain": [
       "['Ada',\n",
       " 'King,',\n",
       " 'condesa',\n",
       " 'de',\n",
       " 'Lovelace,',\n",
       " 'registrada',\n",
       " 'al',\n",
       " 'nacer',\n",
       " 'como',\n",
       " 'Augusta',\n",
       " 'Ada',\n",
       " 'Byron',\n",
       " 'y',\n",
       " 'conocida',\n",
       " 'habitualmente',\n",
       " 'como',\n",
       " 'Ada',\n",
       " 'Lovelace,',\n",
       " 'fue',\n",
       " 'una',\n",
       " 'matemática',\n",
       " 'y',\n",
       " 'escritora',\n",
       " 'británica,',\n",
       " 'célebre',\n",
       " 'sobre',\n",
       " 'todo',\n",
       " 'por',\n",
       " 'su',\n",
       " 'trabajo',\n",
       " 'acerca',\n",
       " 'de',\n",
       " 'la',\n",
       " 'computadora',\n",
       " 'mecánica',\n",
       " 'de',\n",
       " 'uso',\n",
       " 'general',\n",
       " 'de',\n",
       " 'Charles',\n",
       " 'Babbage,',\n",
       " 'la',\n",
       " 'denominada',\n",
       " 'máquina',\n",
       " 'analítica.',\n",
       " 'Fue',\n",
       " 'la',\n",
       " 'primera',\n",
       " 'en',\n",
       " 'reconocer',\n",
       " 'que',\n",
       " 'la',\n",
       " 'máquina',\n",
       " 'tenía',\n",
       " 'aplicaciones',\n",
       " 'más',\n",
       " 'allá',\n",
       " 'del',\n",
       " 'cálculo',\n",
       " 'puro',\n",
       " 'y',\n",
       " 'en',\n",
       " 'haber',\n",
       " 'publicado',\n",
       " 'lo',\n",
       " 'que',\n",
       " 'se',\n",
       " 'reconoce',\n",
       " 'hoy',\n",
       " 'como',\n",
       " 'el',\n",
       " 'primer',\n",
       " 'algoritmo',\n",
       " 'destinado',\n",
       " 'a',\n",
       " 'ser',\n",
       " 'procesado',\n",
       " 'por',\n",
       " 'una',\n",
       " 'máquina,',\n",
       " 'por',\n",
       " 'lo',\n",
       " 'que',\n",
       " 'se',\n",
       " 'la',\n",
       " 'considera',\n",
       " 'como',\n",
       " 'la',\n",
       " 'primera',\n",
       " 'programadora',\n",
       " 'de',\n",
       " 'ordenadores.']"
      ]
     },
     "execution_count": 15,
     "metadata": {},
     "output_type": "execute_result"
    }
   ],
   "source": [
    "desde_palabras"
   ]
  },
  {
   "cell_type": "markdown",
   "id": "3dcb9d4b",
   "metadata": {},
   "source": [
    "¿Y podemos combinar todo lo anterior? **Por supuesto!**"
   ]
  },
  {
   "cell_type": "code",
   "execution_count": 16,
   "id": "f92805a5",
   "metadata": {},
   "outputs": [],
   "source": [
    "muestra_palabras = lista_palabras[:5]\n",
    "desde_palabras = lista_palabras[1:5]"
   ]
  },
  {
   "cell_type": "code",
   "execution_count": 17,
   "id": "ecccd009",
   "metadata": {},
   "outputs": [
    {
     "data": {
      "text/plain": [
       "['Augusta', 'Ada', 'King,', 'condesa', 'de']"
      ]
     },
     "execution_count": 17,
     "metadata": {},
     "output_type": "execute_result"
    }
   ],
   "source": [
    "muestra_palabras"
   ]
  },
  {
   "cell_type": "code",
   "execution_count": 18,
   "id": "90ca4520",
   "metadata": {},
   "outputs": [
    {
     "data": {
      "text/plain": [
       "['Ada', 'King,', 'condesa', 'de']"
      ]
     },
     "execution_count": 18,
     "metadata": {},
     "output_type": "execute_result"
    }
   ],
   "source": [
    "desde_palabras"
   ]
  },
  {
   "cell_type": "markdown",
   "id": "37764295",
   "metadata": {},
   "source": [
    "**EJERCICIO 2:** Investigue sobre índices negativos en listas, ¿Qué indica la siguiente? \n",
    "```python\n",
    "lista_palabras[-1]\n",
    "```"
   ]
  },
  {
   "cell_type": "markdown",
   "id": "2c6cacb7",
   "metadata": {},
   "source": [
    "Con todo lo anterior, pensemos en el siguiente problema. Supongamos que para cada palabra de **lista_palabras** queremos guardar la palabra que está a la derecha. Esto tiene múltiples aplicaciones, entre ellas, el estudio de contextos de aparición de palabras ¿Cómo resolvemos este problema? Este problema se podría resolver de muchas formas. Aquí buscaremos una solución simple, basada en las posibilidades que nos entregan los índices de las listas. "
   ]
  },
  {
   "cell_type": "markdown",
   "id": "ab63ca72",
   "metadata": {},
   "source": [
    "Noten que los elementos sucesivos de **muestra_palabras** son exactamente lo que buscamos: el primer elemento de esta lista es el segundo elemento de **muestra_palabras**, y así sucesivamente. "
   ]
  },
  {
   "cell_type": "markdown",
   "id": "8f8184c6",
   "metadata": {},
   "source": [
    "En resumen, la solución aparece al utilizar\n",
    "\n",
    "```python\n",
    "lista_palabras\n",
    "```\n",
    "y\n",
    "\n",
    "```python\n",
    "lista_palabras[1:]\n",
    "```"
   ]
  },
  {
   "cell_type": "code",
   "execution_count": null,
   "id": "ea5a57fc",
   "metadata": {},
   "outputs": [],
   "source": [
    "## aquí guardamos lo que estamos buscando\n",
    "lista_palabras_sucesivas = []\n",
    "\n",
    "## recorremos las palabras de lista_palabras\n"
   ]
  },
  {
   "cell_type": "code",
   "execution_count": null,
   "id": "ae0fe3b1",
   "metadata": {},
   "outputs": [],
   "source": []
  },
  {
   "cell_type": "code",
   "execution_count": null,
   "id": "1f23e81f",
   "metadata": {},
   "outputs": [],
   "source": []
  },
  {
   "cell_type": "code",
   "execution_count": null,
   "id": "715c94f8",
   "metadata": {},
   "outputs": [],
   "source": []
  },
  {
   "cell_type": "code",
   "execution_count": 1,
   "id": "9a9fe5d3",
   "metadata": {},
   "outputs": [],
   "source": [
    "## Partamos con un problema (muy) simple. En la lista lista_palabras, tenemos un conjunto de strings\n",
    "\n",
    "lista_palabras = ['palabra1','palabra2','palabra3','palabra4','palabra5','palabra6']"
   ]
  },
  {
   "cell_type": "code",
   "execution_count": 2,
   "id": "976c1c9a",
   "metadata": {},
   "outputs": [
    {
     "data": {
      "text/plain": [
       "['palabra1', 'palabra2', 'palabra3', 'palabra4', 'palabra5', 'palabra6']"
      ]
     },
     "execution_count": 2,
     "metadata": {},
     "output_type": "execute_result"
    }
   ],
   "source": [
    "lista_palabras"
   ]
  },
  {
   "cell_type": "code",
   "execution_count": 3,
   "id": "831c23f0",
   "metadata": {},
   "outputs": [],
   "source": [
    "## la idea es agregar a cada string un sufijo\n",
    "\n",
    "sufijo = '-plural'"
   ]
  },
  {
   "cell_type": "code",
   "execution_count": 4,
   "id": "9020a9ce",
   "metadata": {},
   "outputs": [],
   "source": [
    "## NOTA: para concatenar dos strings, simplemente usamos \"+\". Por ejemplo,\n",
    "\n",
    "string1 = 'a'\n",
    "string2 = 'b'"
   ]
  },
  {
   "cell_type": "code",
   "execution_count": 5,
   "id": "0f3ddf90",
   "metadata": {},
   "outputs": [],
   "source": [
    "string_concatenado = string1+string2"
   ]
  },
  {
   "cell_type": "code",
   "execution_count": 6,
   "id": "bd369771",
   "metadata": {},
   "outputs": [
    {
     "data": {
      "text/plain": [
       "'ab'"
      ]
     },
     "execution_count": 6,
     "metadata": {},
     "output_type": "execute_result"
    }
   ],
   "source": [
    "string_concatenado"
   ]
  },
  {
   "cell_type": "code",
   "execution_count": 7,
   "id": "685a00a4",
   "metadata": {},
   "outputs": [],
   "source": [
    "## ahora, volvamos a nuestro problema! :) Supongamos que en cada string de \"lista_palabras\" queremos agregar el sufijo sufijo.\n",
    "## ¿Cómo lo hacemos? Primero, de una forma al parecer un poco lenta!\n",
    "\n",
    "lista_palabras_sufijadas = ['palabra1'+sufijo,'palabra2'+sufijo,'palabra3'+sufijo,'palabra4'+sufijo,'palabra5'+sufijo,'palabra6'+sufijo,]"
   ]
  },
  {
   "cell_type": "code",
   "execution_count": 8,
   "id": "278d88ec",
   "metadata": {},
   "outputs": [
    {
     "data": {
      "text/plain": [
       "['palabra1-plural',\n",
       " 'palabra2-plural',\n",
       " 'palabra3-plural',\n",
       " 'palabra4-plural',\n",
       " 'palabra5-plural',\n",
       " 'palabra6-plural']"
      ]
     },
     "execution_count": 8,
     "metadata": {},
     "output_type": "execute_result"
    }
   ],
   "source": [
    "lista_palabras_sufijadas"
   ]
  },
  {
   "cell_type": "code",
   "execution_count": 10,
   "id": "f70d7ab3",
   "metadata": {},
   "outputs": [],
   "source": [
    "## es decir, manualmente agregamos el sufijo a cada palabra. Esto parece ser inmanejable si tenemos muchas palabras!\n",
    "## usemos un ciclo for!!!!\n",
    "\n",
    "## Los ciclos for, en Python, se basan en que las listas están ordenadas! Esto significa que existe un primer elemento, asociado al índice 0,\n",
    "## un segundo elemento, asociado al índice 1, y así sucesivamente hasta el elemento final, asociado al índice (largo de la lista menos 1)\n",
    "\n",
    "## En términos prácticos, al elegir los índices (o los elementos) de una lista sucesivamente podemos realizar cualquier operación\n",
    "## que deba realizarse tantas veces como el largo de una lista. Esto es muy importante :) Miren esto,\n",
    "\n",
    "palabra_sufijada1 = lista_palabras[0]+sufijo"
   ]
  },
  {
   "cell_type": "code",
   "execution_count": 11,
   "id": "ae2b048f",
   "metadata": {},
   "outputs": [
    {
     "data": {
      "text/plain": [
       "'palabra1-plural'"
      ]
     },
     "execution_count": 11,
     "metadata": {},
     "output_type": "execute_result"
    }
   ],
   "source": [
    "palabra_sufijada1"
   ]
  },
  {
   "cell_type": "code",
   "execution_count": 12,
   "id": "c67e7eea",
   "metadata": {},
   "outputs": [],
   "source": [
    "## y si esto lo realizamos para todas las palabras que faltan\n",
    "\n",
    "palabra_sufijada2 = lista_palabras[1]+sufijo\n",
    "palabra_sufijada3 = lista_palabras[2]+sufijo\n",
    "palabra_sufijada4 = lista_palabras[3]+sufijo\n",
    "palabra_sufijada5 = lista_palabras[4]+sufijo\n",
    "palabra_sufijada6 = lista_palabras[5]+sufijo"
   ]
  },
  {
   "cell_type": "code",
   "execution_count": 13,
   "id": "6698ec28",
   "metadata": {},
   "outputs": [],
   "source": [
    "## Con esto,\n",
    "\n",
    "lista_palabras_sufijadas = [palabra_sufijada1,palabra_sufijada2,palabra_sufijada3,palabra_sufijada4,palabra_sufijada5,palabra_sufijada6]"
   ]
  },
  {
   "cell_type": "code",
   "execution_count": 14,
   "id": "d8f83674",
   "metadata": {},
   "outputs": [
    {
     "data": {
      "text/plain": [
       "['palabra1-plural',\n",
       " 'palabra2-plural',\n",
       " 'palabra3-plural',\n",
       " 'palabra4-plural',\n",
       " 'palabra5-plural',\n",
       " 'palabra6-plural']"
      ]
     },
     "execution_count": 14,
     "metadata": {},
     "output_type": "execute_result"
    }
   ],
   "source": [
    "lista_palabras_sufijadas"
   ]
  },
  {
   "cell_type": "code",
   "execution_count": 15,
   "id": "70df15e7",
   "metadata": {},
   "outputs": [],
   "source": [
    "## Seguimos haciendo muchas veces una misma operación! Lo importante es que necesitamos una forma de \"iterar\", es decir, de recorrer\n",
    "## la lista lista_palabras, y ordenadamente desde el primer elemento, hasta el último, ir agregando el sufijo. Para esto, \n",
    "## usamos un ciclo \"for\"!!!\n",
    "\n",
    "## definamos una lista vacía\n",
    "\n",
    "lista_palabras_sufijadas = []"
   ]
  },
  {
   "cell_type": "code",
   "execution_count": 16,
   "id": "02426e83",
   "metadata": {},
   "outputs": [
    {
     "data": {
      "text/plain": [
       "[]"
      ]
     },
     "execution_count": 16,
     "metadata": {},
     "output_type": "execute_result"
    }
   ],
   "source": [
    "lista_palabras_sufijadas"
   ]
  },
  {
   "cell_type": "code",
   "execution_count": 17,
   "id": "5a957607",
   "metadata": {},
   "outputs": [],
   "source": [
    "## En esta lista, iremos guardando los elementos de \"lista_palabras\" que vayamos sufijando ¿Cómo hacemos esto?\n",
    "## Esencialmente, de dos formas equivalentes:\n",
    "\n",
    "### o bien, recorremos los \"índices\" de lista_palabras \n",
    "\n",
    "### o bien, recorremos los \"elementos\" de lista_palabras\n",
    "\n",
    "## y vamos sufijando!"
   ]
  },
  {
   "cell_type": "code",
   "execution_count": 18,
   "id": "1794e5c8",
   "metadata": {},
   "outputs": [
    {
     "data": {
      "text/plain": [
       "[0, 1, 2, 3, 4, 5, 6, 7, 8, 9]"
      ]
     },
     "execution_count": 18,
     "metadata": {},
     "output_type": "execute_result"
    }
   ],
   "source": [
    "## OPCIÓN 1: índices de lista_palabras\n",
    "## para obtener los índices, usamos range! range es una lista (o casi) que nos entrega números entre 0 y el número que indiquemos\n",
    "## Es decir,\n",
    "\n",
    "list(range(10))"
   ]
  },
  {
   "cell_type": "code",
   "execution_count": 19,
   "id": "ebad8c22",
   "metadata": {},
   "outputs": [],
   "source": [
    "## entrega números entre 0 y 9. Esto calza perfecto con los índices de los elementos de una lista de largo 10!!!\n",
    "## en nuestro caso, esto queda\n",
    "\n",
    "N = list(range(len(lista_palabras)))"
   ]
  },
  {
   "cell_type": "code",
   "execution_count": 20,
   "id": "074d527c",
   "metadata": {},
   "outputs": [
    {
     "data": {
      "text/plain": [
       "[0, 1, 2, 3, 4, 5]"
      ]
     },
     "execution_count": 20,
     "metadata": {},
     "output_type": "execute_result"
    }
   ],
   "source": [
    "N"
   ]
  },
  {
   "cell_type": "code",
   "execution_count": 21,
   "id": "2f3b0a04",
   "metadata": {},
   "outputs": [],
   "source": [
    "## noten que N es una lista que contiene los índices de los elementos de la lista lista_palabras ¿Cómo usamos esto?\n",
    "\n",
    "## recorremos los elementos de lista_palabras a través de sus índices. \n",
    "for i in N:\n",
    "    ## i es una variable, que en cada paso cambia de valor (0,1,...,5)\n",
    "    ## elemento de lista_palabras en la posición i\n",
    "    palabra = lista_palabras[i]\n",
    "    ## sufijamos!\n",
    "    palabra_sufijada = palabra+sufijo\n",
    "    ## guardamos!\n",
    "    lista_palabras_sufijadas+=[palabra_sufijada]"
   ]
  },
  {
   "cell_type": "code",
   "execution_count": 22,
   "id": "305a3bed",
   "metadata": {},
   "outputs": [
    {
     "data": {
      "text/plain": [
       "['palabra1-plural',\n",
       " 'palabra2-plural',\n",
       " 'palabra3-plural',\n",
       " 'palabra4-plural',\n",
       " 'palabra5-plural',\n",
       " 'palabra6-plural']"
      ]
     },
     "execution_count": 22,
     "metadata": {},
     "output_type": "execute_result"
    }
   ],
   "source": [
    "## y mágicamente estamos ok!\n",
    "\n",
    "lista_palabras_sufijadas"
   ]
  },
  {
   "cell_type": "code",
   "execution_count": 23,
   "id": "bd2bca4f",
   "metadata": {},
   "outputs": [],
   "source": [
    "## volvemos a definir esta lista como vacía\n",
    "\n",
    "lista_palabras_sufijadas = []"
   ]
  },
  {
   "cell_type": "code",
   "execution_count": 24,
   "id": "f056047d",
   "metadata": {},
   "outputs": [],
   "source": [
    "## OPCIÓN 2: elementos de lista_palabras\n",
    "## la idea es recorrer los elementos de lista_palabras, que sabemos están ordenados\n",
    "\n",
    "## ahora, recorremos los elementos de lista_palabras. Sabemos que están ordenados! Por esto, palabra es primero, el primer elemento\n",
    "## luego, el segundo elemento, y así sucesivamente hasta el último elemento de la lista\n",
    "\n",
    "## palabra es una variable en este caso, que en cada paso se reasigna a un elemento de la lista lista_palabras\n",
    "for palabra in lista_palabras:\n",
    "    ## sufijamos!\n",
    "    palabra_sufijada = palabra+sufijo\n",
    "    ## guardamos!\n",
    "    lista_palabras_sufijadas+=[palabra_sufijada]"
   ]
  },
  {
   "cell_type": "code",
   "execution_count": 25,
   "id": "01379a1c",
   "metadata": {},
   "outputs": [
    {
     "data": {
      "text/plain": [
       "['palabra1-plural',\n",
       " 'palabra2-plural',\n",
       " 'palabra3-plural',\n",
       " 'palabra4-plural',\n",
       " 'palabra5-plural',\n",
       " 'palabra6-plural']"
      ]
     },
     "execution_count": 25,
     "metadata": {},
     "output_type": "execute_result"
    }
   ],
   "source": [
    "## y nuevamente obtenemos lo que buscábamos!\n",
    "\n",
    "lista_palabras_sufijadas"
   ]
  },
  {
   "cell_type": "code",
   "execution_count": null,
   "id": "b3e3d88a",
   "metadata": {},
   "outputs": [],
   "source": []
  },
  {
   "cell_type": "code",
   "execution_count": null,
   "id": "6fcd0986",
   "metadata": {},
   "outputs": [],
   "source": []
  }
 ],
 "metadata": {
  "kernelspec": {
   "display_name": "Python 3",
   "language": "python",
   "name": "python3"
  },
  "language_info": {
   "codemirror_mode": {
    "name": "ipython",
    "version": 3
   },
   "file_extension": ".py",
   "mimetype": "text/x-python",
   "name": "python",
   "nbconvert_exporter": "python",
   "pygments_lexer": "ipython3",
   "version": "3.8.8"
  }
 },
 "nbformat": 4,
 "nbformat_minor": 5
}
