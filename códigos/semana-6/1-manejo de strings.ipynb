{
 "cells": [
  {
   "cell_type": "markdown",
   "metadata": {
    "id": "Bonrs-i763k3"
   },
   "source": [
    "# **Seminario de métodos computacionales para lenguas amerindias**\n",
    "### Roberto Zariquiey Biondi, rzariquiey@pucp.edu.pe \n",
    "### Javier Vera Zúñiga, jveraz@pucp.edu.pe"
   ]
  },
  {
   "cell_type": "markdown",
   "metadata": {},
   "source": [
    "# Manejo básico de strings!\n",
    "En esta guía, mostraremos manejo básico de strings. Usaremos como ejemplo la función que construimos la clase 5"
   ]
  },
  {
   "cell_type": "code",
   "execution_count": 22,
   "metadata": {},
   "outputs": [],
   "source": [
    "## Definamos los números de 1 a 10\n",
    "\n",
    "numeros_1_10 = ['huk', 'iskay', 'kimsa', 'tawa', 'pichqa', 'suqta', 'qanchis', 'pusaq', 'isqun', 'chunka']"
   ]
  },
  {
   "cell_type": "code",
   "execution_count": 103,
   "metadata": {},
   "outputs": [],
   "source": [
    "## input:::N: número decimal\n",
    "## output::: número en palabras (Quechua)\n",
    "def decimal_menor20_quec(N):\n",
    "    \n",
    "    ## desarmamos el número. Interesa la unidad \n",
    "    unidad = N - 10\n",
    "    ## agregamos la condición\n",
    "    if N <= 10:\n",
    "        ## la posicion en la lista numeros_1_10 es N - 1\n",
    "        posicion = N - 1\n",
    "        ## buscamos la posición en la lista\n",
    "        numero_quechua = numeros_1_10[posicion]\n",
    "        ## entregamos el número\n",
    "        return numero_quechua\n",
    "    ## dos condiciones simultáneas\n",
    "    elif N > 10 and N < 20:\n",
    "        ## restamos uno porque la posición empieza en cero\n",
    "        numero_quechua = 'chunka' + ' ' + numeros_1_10[unidad - 1]\n",
    "        ## si termina en vocal, ponemos -yuq\n",
    "        if numero_quechua[-1] in ['a','e','i','o','u']:\n",
    "            numero_quechua = numero_quechua + '-yuq'\n",
    "        ## si termina en consonante\n",
    "        else:\n",
    "            numero_quechua = numero_quechua + '-ni' + '-yuq'\n",
    "        ## entregamos el número\n",
    "        return numero_quechua\n",
    "    ## en otro caso\n",
    "    else:\n",
    "        print('no conozco números tan grandes :(')"
   ]
  },
  {
   "cell_type": "code",
   "execution_count": 105,
   "metadata": {},
   "outputs": [
    {
     "data": {
      "text/plain": [
       "'chunka isqunniyuq'"
      ]
     },
     "execution_count": 105,
     "metadata": {},
     "output_type": "execute_result"
    }
   ],
   "source": [
    "quec.replace('-','')"
   ]
  },
  {
   "cell_type": "code",
   "execution_count": 24,
   "metadata": {},
   "outputs": [],
   "source": [
    "N = 324"
   ]
  },
  {
   "cell_type": "code",
   "execution_count": 25,
   "metadata": {},
   "outputs": [
    {
     "data": {
      "text/plain": [
       "3"
      ]
     },
     "execution_count": 25,
     "metadata": {},
     "output_type": "execute_result"
    }
   ],
   "source": [
    "int(str(N)[0])"
   ]
  },
  {
   "cell_type": "code",
   "execution_count": 26,
   "metadata": {},
   "outputs": [
    {
     "data": {
      "text/plain": [
       "['8', '7']"
      ]
     },
     "execution_count": 26,
     "metadata": {},
     "output_type": "execute_result"
    }
   ],
   "source": [
    "str(87/10).split('.')"
   ]
  },
  {
   "cell_type": "code",
   "execution_count": 27,
   "metadata": {},
   "outputs": [],
   "source": [
    "N = 21"
   ]
  },
  {
   "cell_type": "code",
   "execution_count": 28,
   "metadata": {},
   "outputs": [],
   "source": [
    "N_str = str(N)"
   ]
  },
  {
   "cell_type": "code",
   "execution_count": 29,
   "metadata": {},
   "outputs": [],
   "source": [
    "decena = int(N_str[0])\n",
    "unidad = int(N_str[1])"
   ]
  },
  {
   "cell_type": "code",
   "execution_count": 30,
   "metadata": {},
   "outputs": [
    {
     "data": {
      "text/plain": [
       "(2, 1)"
      ]
     },
     "execution_count": 30,
     "metadata": {},
     "output_type": "execute_result"
    }
   ],
   "source": [
    "decena,unidad"
   ]
  },
  {
   "cell_type": "code",
   "execution_count": 31,
   "metadata": {},
   "outputs": [
    {
     "name": "stdout",
     "output_type": "stream",
     "text": [
      "1 huk\n",
      "2 iskay\n",
      "3 kimsa\n",
      "4 tawa\n",
      "5 pichqa\n",
      "6 suqta\n",
      "7 qanchis\n",
      "8 pusaq\n",
      "9 isqun\n",
      "10 chunka\n",
      "11 chunka huk-ni-yuq\n",
      "12 chunka iskay-ni-yuq\n",
      "13 chunka kimsa-yuq\n",
      "14 chunka tawa-yuq\n",
      "15 chunka pichqa-yuq\n",
      "16 chunka suqta-yuq\n",
      "17 chunka qanchis-ni-yuq\n",
      "18 chunka pusaq-ni-yuq\n",
      "19 chunka isqun-ni-yuq\n"
     ]
    }
   ],
   "source": [
    "for N in range(1,20):\n",
    "    print(N, decimal_menor20_quec(N))"
   ]
  },
  {
   "cell_type": "code",
   "execution_count": 33,
   "metadata": {},
   "outputs": [],
   "source": [
    "N = 19\n",
    "\n",
    "quec = decimal_menor20_quec(N)"
   ]
  },
  {
   "cell_type": "code",
   "execution_count": 34,
   "metadata": {},
   "outputs": [
    {
     "data": {
      "text/plain": [
       "'chunka isqun-ni-yuq'"
      ]
     },
     "execution_count": 34,
     "metadata": {},
     "output_type": "execute_result"
    }
   ],
   "source": [
    "quec"
   ]
  },
  {
   "cell_type": "markdown",
   "metadata": {},
   "source": [
    "## problema 1: ¿Qué forma tiene un string?\n",
    "Los **strings** funcionan como **listas** :O!"
   ]
  },
  {
   "cell_type": "code",
   "execution_count": 37,
   "metadata": {},
   "outputs": [],
   "source": [
    "## tiene un largo que equivale al número de caracteres. Esto incluye, por supuesto, los espacios en blanco!\n",
    "\n",
    "n = len(quec)"
   ]
  },
  {
   "cell_type": "code",
   "execution_count": 38,
   "metadata": {},
   "outputs": [
    {
     "data": {
      "text/plain": [
       "19"
      ]
     },
     "execution_count": 38,
     "metadata": {},
     "output_type": "execute_result"
    }
   ],
   "source": [
    "n"
   ]
  },
  {
   "cell_type": "code",
   "execution_count": 41,
   "metadata": {},
   "outputs": [],
   "source": [
    "## también, como es esperable, podemos acceder a los diferentes caracteres con paréntesis []\n",
    "\n",
    "c = 1\n",
    "\n",
    "caracter = quec[c]"
   ]
  },
  {
   "cell_type": "code",
   "execution_count": 42,
   "metadata": {},
   "outputs": [
    {
     "data": {
      "text/plain": [
       "'h'"
      ]
     },
     "execution_count": 42,
     "metadata": {},
     "output_type": "execute_result"
    }
   ],
   "source": [
    "caracter"
   ]
  },
  {
   "cell_type": "code",
   "execution_count": 45,
   "metadata": {},
   "outputs": [],
   "source": [
    "## si c = -1, accedemos al último caracter del strin\n",
    "\n",
    "c = -1\n",
    "caracter = quec[c]"
   ]
  },
  {
   "cell_type": "code",
   "execution_count": 46,
   "metadata": {},
   "outputs": [
    {
     "data": {
      "text/plain": [
       "'q'"
      ]
     },
     "execution_count": 46,
     "metadata": {},
     "output_type": "execute_result"
    }
   ],
   "source": [
    "caracter"
   ]
  },
  {
   "cell_type": "code",
   "execution_count": 47,
   "metadata": {},
   "outputs": [
    {
     "name": "stdout",
     "output_type": "stream",
     "text": [
      "c\n",
      "h\n",
      "u\n",
      "n\n",
      "k\n",
      "a\n",
      " \n",
      "i\n",
      "s\n",
      "q\n",
      "u\n",
      "n\n",
      "-\n",
      "n\n",
      "i\n",
      "-\n",
      "y\n",
      "u\n",
      "q\n"
     ]
    }
   ],
   "source": [
    "## podemos recorrer los caracteres con un ciclo for\n",
    "\n",
    "for c in quec:\n",
    "    print(c)"
   ]
  },
  {
   "cell_type": "code",
   "execution_count": 48,
   "metadata": {},
   "outputs": [
    {
     "name": "stdout",
     "output_type": "stream",
     "text": [
      "c\n",
      "h\n",
      "u\n",
      "n\n",
      "k\n",
      "a\n",
      " \n",
      "i\n",
      "s\n",
      "q\n",
      "u\n",
      "n\n",
      "-\n",
      "n\n",
      "i\n",
      "-\n",
      "y\n",
      "u\n",
      "q\n"
     ]
    }
   ],
   "source": [
    "## y también, accediendo a los índices\n",
    "\n",
    "## n es el largo del string\n",
    "for i in range(n):\n",
    "    print(quec[i])"
   ]
  },
  {
   "cell_type": "markdown",
   "metadata": {},
   "source": [
    "## problema 2: ¿Cómo accedemos a sub-strings?\n",
    "Nuevamente, los **srings** funcionan como **listas** :O!"
   ]
  },
  {
   "cell_type": "code",
   "execution_count": 49,
   "metadata": {},
   "outputs": [],
   "source": [
    "## tajada inicial: todos los caracteres hasta antes del índice t\n",
    "\n",
    "t = 4\n",
    "tajada_inicial = quec[:4]"
   ]
  },
  {
   "cell_type": "code",
   "execution_count": 50,
   "metadata": {},
   "outputs": [
    {
     "data": {
      "text/plain": [
       "'chun'"
      ]
     },
     "execution_count": 50,
     "metadata": {},
     "output_type": "execute_result"
    }
   ],
   "source": [
    "tajada_inicial"
   ]
  },
  {
   "cell_type": "code",
   "execution_count": 51,
   "metadata": {},
   "outputs": [],
   "source": [
    "## tajada final: todos los caracteres desde el índice t\n",
    "\n",
    "t = 4\n",
    "tajada_final = quec[4:]"
   ]
  },
  {
   "cell_type": "code",
   "execution_count": 52,
   "metadata": {},
   "outputs": [
    {
     "data": {
      "text/plain": [
       "'ka isqun-ni-yuq'"
      ]
     },
     "execution_count": 52,
     "metadata": {},
     "output_type": "execute_result"
    }
   ],
   "source": [
    "tajada_final"
   ]
  },
  {
   "cell_type": "code",
   "execution_count": 53,
   "metadata": {},
   "outputs": [
    {
     "data": {
      "text/plain": [
       "'chunka isqun-ni-yuq'"
      ]
     },
     "execution_count": 53,
     "metadata": {},
     "output_type": "execute_result"
    }
   ],
   "source": [
    "quec[:4] + quec[4:]"
   ]
  },
  {
   "cell_type": "code",
   "execution_count": 57,
   "metadata": {},
   "outputs": [
    {
     "data": {
      "text/plain": [
       "24"
      ]
     },
     "execution_count": 57,
     "metadata": {},
     "output_type": "execute_result"
    }
   ],
   "source": [
    "int('324'[1:])"
   ]
  },
  {
   "cell_type": "markdown",
   "metadata": {},
   "source": [
    "## problema 3: ¿Cómo sabemos si un string empieza o termina con un substring?\n",
    ":O!"
   ]
  },
  {
   "cell_type": "code",
   "execution_count": 62,
   "metadata": {},
   "outputs": [
    {
     "name": "stdout",
     "output_type": "stream",
     "text": [
      "es verdad que chunka isqun-ni-yuq empieza con chun\n"
     ]
    }
   ],
   "source": [
    "## empieza con algo\n",
    "\n",
    "prefijo = 'chun'\n",
    "if quec.startswith(prefijo):\n",
    "    print('es verdad que '+quec+' empieza con '+prefijo)\n",
    "else:\n",
    "    print(quec + ' no comienza con '+prefijo)"
   ]
  },
  {
   "cell_type": "code",
   "execution_count": 64,
   "metadata": {},
   "outputs": [
    {
     "name": "stdout",
     "output_type": "stream",
     "text": [
      "es verdad que chunka isqun-ni-yuq termina con yuq\n"
     ]
    }
   ],
   "source": [
    "## termina con algo\n",
    "\n",
    "sufijo = 'yuq'\n",
    "if quec.endswith(sufijo):\n",
    "    print('es verdad que '+quec+' termina con '+sufijo)\n",
    "else:\n",
    "    print(quec + ' no termina con '+sufijo)"
   ]
  },
  {
   "cell_type": "markdown",
   "metadata": {},
   "source": [
    "## problema 4: ¿Existen magias para mayúscula y minúscula?\n",
    "Por supuesto!"
   ]
  },
  {
   "cell_type": "code",
   "execution_count": 67,
   "metadata": {},
   "outputs": [],
   "source": [
    "## primera letra en mayúscula\n",
    "\n",
    "nuevo = quec.capitalize()"
   ]
  },
  {
   "cell_type": "code",
   "execution_count": 68,
   "metadata": {},
   "outputs": [
    {
     "data": {
      "text/plain": [
       "('chunka isqun-ni-yuq', 'Chunka isqun-ni-yuq')"
      ]
     },
     "execution_count": 68,
     "metadata": {},
     "output_type": "execute_result"
    }
   ],
   "source": [
    "quec, nuevo"
   ]
  },
  {
   "cell_type": "code",
   "execution_count": 69,
   "metadata": {},
   "outputs": [],
   "source": [
    "## todo en mayúscula\n",
    "\n",
    "nuevo = quec.upper()"
   ]
  },
  {
   "cell_type": "code",
   "execution_count": 70,
   "metadata": {},
   "outputs": [
    {
     "data": {
      "text/plain": [
       "('chunka isqun-ni-yuq', 'CHUNKA ISQUN-NI-YUQ')"
      ]
     },
     "execution_count": 70,
     "metadata": {},
     "output_type": "execute_result"
    }
   ],
   "source": [
    "quec, nuevo"
   ]
  },
  {
   "cell_type": "code",
   "execution_count": 71,
   "metadata": {},
   "outputs": [],
   "source": [
    "## todo en minúscula\n",
    "\n",
    "nuevo = nuevo.lower()"
   ]
  },
  {
   "cell_type": "code",
   "execution_count": 72,
   "metadata": {},
   "outputs": [
    {
     "data": {
      "text/plain": [
       "'chunka isqun-ni-yuq'"
      ]
     },
     "execution_count": 72,
     "metadata": {},
     "output_type": "execute_result"
    }
   ],
   "source": [
    "nuevo"
   ]
  },
  {
   "cell_type": "code",
   "execution_count": 73,
   "metadata": {},
   "outputs": [],
   "source": [
    "## creamos un título\n",
    "\n",
    "nuevo = quec.title()"
   ]
  },
  {
   "cell_type": "code",
   "execution_count": 74,
   "metadata": {},
   "outputs": [
    {
     "data": {
      "text/plain": [
       "('chunka isqun-ni-yuq', 'Chunka Isqun-Ni-Yuq')"
      ]
     },
     "execution_count": 74,
     "metadata": {},
     "output_type": "execute_result"
    }
   ],
   "source": [
    "quec, nuevo"
   ]
  },
  {
   "cell_type": "markdown",
   "metadata": {},
   "source": [
    "## problema 4: ¿Cuántas veces aparece un subtring en un string?"
   ]
  },
  {
   "cell_type": "code",
   "execution_count": 76,
   "metadata": {},
   "outputs": [
    {
     "data": {
      "text/plain": [
       "2"
      ]
     },
     "execution_count": 76,
     "metadata": {},
     "output_type": "execute_result"
    }
   ],
   "source": [
    "['a','b','b'].count('b')"
   ]
  },
  {
   "cell_type": "code",
   "execution_count": 79,
   "metadata": {},
   "outputs": [],
   "source": [
    "## usamos count\n",
    "\n",
    "veces = quec.count('un')"
   ]
  },
  {
   "cell_type": "code",
   "execution_count": 80,
   "metadata": {},
   "outputs": [
    {
     "data": {
      "text/plain": [
       "2"
      ]
     },
     "execution_count": 80,
     "metadata": {},
     "output_type": "execute_result"
    }
   ],
   "source": [
    "veces"
   ]
  },
  {
   "cell_type": "markdown",
   "metadata": {},
   "source": [
    "## problema 5: ¿Existen otros trucos?\n",
    "## [ver!](https://realpython.com/python-strings/#built-in-string-methods)"
   ]
  },
  {
   "cell_type": "markdown",
   "metadata": {},
   "source": [
    "## problema 6: ¿Existen formas de transformar de lista a string, y de string a lista?"
   ]
  },
  {
   "cell_type": "code",
   "execution_count": 81,
   "metadata": {},
   "outputs": [],
   "source": [
    "## string a lista\n",
    "\n",
    "lista_desde_string = list(quec)"
   ]
  },
  {
   "cell_type": "code",
   "execution_count": 82,
   "metadata": {},
   "outputs": [
    {
     "data": {
      "text/plain": [
       "['c',\n",
       " 'h',\n",
       " 'u',\n",
       " 'n',\n",
       " 'k',\n",
       " 'a',\n",
       " ' ',\n",
       " 'i',\n",
       " 's',\n",
       " 'q',\n",
       " 'u',\n",
       " 'n',\n",
       " '-',\n",
       " 'n',\n",
       " 'i',\n",
       " '-',\n",
       " 'y',\n",
       " 'u',\n",
       " 'q']"
      ]
     },
     "execution_count": 82,
     "metadata": {},
     "output_type": "execute_result"
    }
   ],
   "source": [
    "lista_desde_string"
   ]
  },
  {
   "cell_type": "code",
   "execution_count": 85,
   "metadata": {},
   "outputs": [],
   "source": [
    "## string a lista: otra forma\n",
    "\n",
    "lista_desde_string = []\n",
    "\n",
    "## recorremos los caracteres\n",
    "for c in quec:\n",
    "    lista_desde_string = lista_desde_string + [c]"
   ]
  },
  {
   "cell_type": "code",
   "execution_count": 86,
   "metadata": {},
   "outputs": [
    {
     "data": {
      "text/plain": [
       "['c',\n",
       " 'h',\n",
       " 'u',\n",
       " 'n',\n",
       " 'k',\n",
       " 'a',\n",
       " ' ',\n",
       " 'i',\n",
       " 's',\n",
       " 'q',\n",
       " 'u',\n",
       " 'n',\n",
       " '-',\n",
       " 'n',\n",
       " 'i',\n",
       " '-',\n",
       " 'y',\n",
       " 'u',\n",
       " 'q']"
      ]
     },
     "execution_count": 86,
     "metadata": {},
     "output_type": "execute_result"
    }
   ],
   "source": [
    "lista_desde_string"
   ]
  },
  {
   "cell_type": "code",
   "execution_count": 87,
   "metadata": {},
   "outputs": [],
   "source": [
    "## de lista a string\n",
    "string_desde_lista = ' '.join(lista_desde_string)"
   ]
  },
  {
   "cell_type": "code",
   "execution_count": 89,
   "metadata": {},
   "outputs": [
    {
     "data": {
      "text/plain": [
       "'c h u n k a   i s q u n - n i - y u q'"
      ]
     },
     "execution_count": 89,
     "metadata": {},
     "output_type": "execute_result"
    }
   ],
   "source": [
    "string_desde_lista"
   ]
  },
  {
   "cell_type": "code",
   "execution_count": 90,
   "metadata": {},
   "outputs": [],
   "source": [
    "## de lista a string: note el efecto de los espacios en blanco\n",
    "string_desde_lista = ''.join(lista_desde_string)"
   ]
  },
  {
   "cell_type": "code",
   "execution_count": 91,
   "metadata": {},
   "outputs": [
    {
     "data": {
      "text/plain": [
       "'chunka isqun-ni-yuq'"
      ]
     },
     "execution_count": 91,
     "metadata": {},
     "output_type": "execute_result"
    }
   ],
   "source": [
    "string_desde_lista"
   ]
  },
  {
   "cell_type": "markdown",
   "metadata": {},
   "source": [
    "## problema 7: ¿Podemos reemplazar un subtring por otro?"
   ]
  },
  {
   "cell_type": "code",
   "execution_count": 94,
   "metadata": {},
   "outputs": [],
   "source": [
    "## usamos replace: el viejo por el nuevo\n",
    "nueva_version = quec.replace('isqun', 'pusaq' )"
   ]
  },
  {
   "cell_type": "code",
   "execution_count": 95,
   "metadata": {},
   "outputs": [
    {
     "data": {
      "text/plain": [
       "'chunka pusaq-ni-yuq'"
      ]
     },
     "execution_count": 95,
     "metadata": {},
     "output_type": "execute_result"
    }
   ],
   "source": [
    "nueva_version"
   ]
  },
  {
   "cell_type": "markdown",
   "metadata": {},
   "source": [
    "## problema 8: ¿Podemos contar el número de vocales de una palabra?"
   ]
  },
  {
   "cell_type": "code",
   "execution_count": 97,
   "metadata": {},
   "outputs": [],
   "source": [
    "## palabra en ashéninka\n",
    "\n",
    "palabra = 'toniro' ## aguaje"
   ]
  },
  {
   "cell_type": "code",
   "execution_count": 98,
   "metadata": {},
   "outputs": [],
   "source": [
    "## supongamos una lista cerrada de vocales (no estoy seguro)\n",
    "\n",
    "vocales = ['a', 'e', 'i', 'o', 'u']"
   ]
  },
  {
   "cell_type": "code",
   "execution_count": 99,
   "metadata": {},
   "outputs": [],
   "source": [
    "## ¿cuántas veces aparece cada vocal?\n",
    "\n",
    "## lista que contiene el número de veces que aparece cada vocal\n",
    "repeticiones = []\n",
    "\n",
    "## recorremos las vocales, no es necesario recorrer los caracteres de palabra\n",
    "for vocal in vocales:\n",
    "    ## usamos .count\n",
    "    repeticiones = repeticiones + [palabra.count(vocal)]"
   ]
  },
  {
   "cell_type": "code",
   "execution_count": 100,
   "metadata": {},
   "outputs": [
    {
     "data": {
      "text/plain": [
       "[0, 0, 1, 2, 0]"
      ]
     },
     "execution_count": 100,
     "metadata": {},
     "output_type": "execute_result"
    }
   ],
   "source": [
    "repeticiones "
   ]
  },
  {
   "cell_type": "code",
   "execution_count": null,
   "metadata": {},
   "outputs": [],
   "source": []
  }
 ],
 "metadata": {
  "colab": {
   "name": "semana-1.ipynb",
   "provenance": []
  },
  "kernelspec": {
   "display_name": "Python 3",
   "language": "python",
   "name": "python3"
  },
  "language_info": {
   "codemirror_mode": {
    "name": "ipython",
    "version": 3
   },
   "file_extension": ".py",
   "mimetype": "text/x-python",
   "name": "python",
   "nbconvert_exporter": "python",
   "pygments_lexer": "ipython3",
   "version": "3.8.8"
  }
 },
 "nbformat": 4,
 "nbformat_minor": 1
}
