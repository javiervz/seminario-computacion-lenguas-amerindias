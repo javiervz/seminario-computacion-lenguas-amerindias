{
 "cells": [
  {
   "cell_type": "markdown",
   "id": "a1bf5850",
   "metadata": {},
   "source": [
    "# **Seminario de métodos computacionales para lenguas amerindias**\n",
    "### Roberto Zariquiey Biondi, rzariquiey@pucp.edu.pe \n",
    "### Javier Vera Zúñiga, jveraz@pucp.edu.pe"
   ]
  },
  {
   "cell_type": "markdown",
   "id": "eb896760",
   "metadata": {},
   "source": [
    "## Funciones en Python\n",
    "Para presentar este concepto fundamental en **Python**, comparemos dos versiones distintas de sufijar y prefijar una palabra en **Kakataibo.** Partamos con la información. "
   ]
  },
  {
   "cell_type": "code",
   "execution_count": 17,
   "id": "12090284",
   "metadata": {},
   "outputs": [],
   "source": [
    "## verbos\n",
    "\n",
    "verbos = ['Tax', 'Chachi', 'Tash', 'Më', 'Pia a', 'Berua']"
   ]
  },
  {
   "cell_type": "code",
   "execution_count": 18,
   "id": "7455b223",
   "metadata": {},
   "outputs": [],
   "source": [
    "## Creamos dos variables, una para el prefijo y otra para el sufijo. \n",
    "\n",
    "## parte del cuerpo: cuyo significado es \"mano\"\n",
    "prefijo = 'më-'\n",
    "## nominalizador\n",
    "sufijo = '-ti'"
   ]
  },
  {
   "cell_type": "markdown",
   "id": "5eb5b865",
   "metadata": {},
   "source": [
    "**VERSIÓN 1** "
   ]
  },
  {
   "cell_type": "code",
   "execution_count": 19,
   "id": "e99bf171",
   "metadata": {},
   "outputs": [],
   "source": [
    "## verbo a consultar\n",
    "verbo_consulta = 'Tax'"
   ]
  },
  {
   "cell_type": "code",
   "execution_count": 20,
   "id": "c6c950e7",
   "metadata": {},
   "outputs": [],
   "source": [
    "## prefijamos \n",
    "verbo_prefijado = prefijo + verbo_consulta\n",
    "## en minúscula\n",
    "verbo_prefijado = verbo_prefijado.lower()\n",
    "## ahora, sufijamos\n",
    "verbo_sufijado = verbo_prefijado + sufijo\n",
    "## en minúscula\n",
    "verbo_sufijado = verbo_sufijado.lower()"
   ]
  },
  {
   "cell_type": "code",
   "execution_count": 21,
   "id": "54a89cce",
   "metadata": {},
   "outputs": [
    {
     "data": {
      "text/plain": [
       "'më-tax-ti'"
      ]
     },
     "execution_count": 21,
     "metadata": {},
     "output_type": "execute_result"
    }
   ],
   "source": [
    "verbo_sufijado"
   ]
  },
  {
   "cell_type": "markdown",
   "id": "fae9abd7",
   "metadata": {},
   "source": [
    "**VERSIÓN 2** "
   ]
  },
  {
   "cell_type": "code",
   "execution_count": 22,
   "id": "f6a3e3b6",
   "metadata": {},
   "outputs": [],
   "source": [
    "## otra forma de expresar las líneas anteriores! usemos una función\n",
    "\n",
    "## noten que la sintaxis es similar al ciclo for\n",
    "\n",
    "def formacion_verbos(verbo_consulta):\n",
    "    \n",
    "    ## prefijamos \n",
    "    verbo_prefijado = prefijo + verbo_consulta\n",
    "    ## en minúscula\n",
    "    verbo_prefijado = verbo_prefijado.lower()\n",
    "    ## ahora, sufijamos\n",
    "    verbo_sufijado = verbo_prefijado + sufijo\n",
    "    ## en minúscula\n",
    "    verbo_sufijado = verbo_sufijado.lower()\n",
    "    \n",
    "    return verbo_sufijado"
   ]
  },
  {
   "cell_type": "code",
   "execution_count": 25,
   "id": "848b84ef",
   "metadata": {},
   "outputs": [],
   "source": [
    "## verbo a consultar\n",
    "verbo_consulta = 'Tax'"
   ]
  },
  {
   "cell_type": "code",
   "execution_count": 24,
   "id": "6e481e04",
   "metadata": {},
   "outputs": [
    {
     "data": {
      "text/plain": [
       "'më-tax-ti'"
      ]
     },
     "execution_count": 24,
     "metadata": {},
     "output_type": "execute_result"
    }
   ],
   "source": [
    "formacion_verbos(verbo_consulta)"
   ]
  },
  {
   "cell_type": "code",
   "execution_count": 26,
   "id": "289e266e",
   "metadata": {},
   "outputs": [
    {
     "data": {
      "application/vnd.jupyter.widget-view+json": {
       "model_id": "dbe7f100d2f148ea9a151d324d1e00a4",
       "version_major": 2,
       "version_minor": 0
      },
      "text/plain": [
       "interactive(children=(Dropdown(description='Verbo: ', options=('Tax', 'Chachi', 'Tash', 'Më', 'Pia a', 'Berua'…"
      ]
     },
     "metadata": {},
     "output_type": "display_data"
    }
   ],
   "source": [
    "## algo extra!\n",
    "\n",
    "from ipywidgets import interact, interactive, fixed, interact_manual\n",
    "import ipywidgets as widgets\n",
    "\n",
    "interact(formacion_verbos2, verbo_consulta = widgets.Dropdown(options = verbos, description=\"Verbo: \"));"
   ]
  },
  {
   "cell_type": "code",
   "execution_count": 27,
   "id": "8eb6995f",
   "metadata": {},
   "outputs": [],
   "source": [
    "## desmenucemos el código de la función anterior. \n"
   ]
  },
  {
   "cell_type": "code",
   "execution_count": null,
   "id": "6f622660",
   "metadata": {},
   "outputs": [],
   "source": []
  }
 ],
 "metadata": {
  "kernelspec": {
   "display_name": "Python 3",
   "language": "python",
   "name": "python3"
  },
  "language_info": {
   "codemirror_mode": {
    "name": "ipython",
    "version": 3
   },
   "file_extension": ".py",
   "mimetype": "text/x-python",
   "name": "python",
   "nbconvert_exporter": "python",
   "pygments_lexer": "ipython3",
   "version": "3.8.8"
  }
 },
 "nbformat": 4,
 "nbformat_minor": 5
}
