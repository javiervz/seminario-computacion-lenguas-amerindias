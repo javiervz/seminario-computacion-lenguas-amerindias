{
 "cells": [
  {
   "cell_type": "markdown",
   "metadata": {
    "id": "Bonrs-i763k3"
   },
   "source": [
    "# **Seminario de métodos computacionales para lenguas amerindias**\n",
    "### Roberto Zariquiey Biondi, rzariquiey@pucp.edu.pe \n",
    "### Javier Vera Zúñiga, jveraz@pucp.edu.pe"
   ]
  },
  {
   "cell_type": "markdown",
   "metadata": {},
   "source": [
    "# Desafío 1"
   ]
  },
  {
   "cell_type": "markdown",
   "metadata": {},
   "source": [
    "## mini desafío 0\n",
    "En este mini desafío, usted y su equipo deben construir una función que reciba un número entero y entregue el número de dígitos que forman el número. Por ejemplo, 7 tiene 1 dígito; 10 tiene 2; 234 tiene 3. **Recomendación 1:** puede servir transformar el entero **N** en string usando **str(N)** y luego usar **len**. **Recomendación 2:** puede no seguir la recomendación 1, y pensar en casos: los números menores a 10; los mayores o iguales a 10 y menores a 99; y los mayores o iguales a 100. "
   ]
  },
  {
   "cell_type": "code",
   "execution_count": 1,
   "metadata": {},
   "outputs": [],
   "source": [
    "## esquema de la función\n",
    "\n",
    "## recibe: entero N menor a 1000\n",
    "## entrega: entero que representa el número de dígitos\n",
    "def numero_digitos(N):\n",
    "    ## escriba su código aquí\n",
    "    \n",
    "    return"
   ]
  },
  {
   "cell_type": "code",
   "execution_count": 2,
   "metadata": {},
   "outputs": [],
   "source": [
    "## pruebe la función con algún entero de ejemplo\n"
   ]
  },
  {
   "cell_type": "markdown",
   "metadata": {},
   "source": [
    "## mini desafío 1\n",
    "En este mini desafío, usted y su equipo deben construir una función que reciba un número entero y entregue una lista con los dígitos que forman el número. Por ejemplo, 7 se transforma en [7]; 10 en [1, 0]; 234 en [2, 3, 4]. **Recomendación 1:** puede servir transformar el entero **N** en string usando **str(N)**. Para volver a enteros desde strings, usen **int('1')**. **Recomendación 2:** puede usar un **ciclo for** sobre los caracteres de **str(N)**."
   ]
  },
  {
   "cell_type": "code",
   "execution_count": 3,
   "metadata": {},
   "outputs": [],
   "source": [
    "## esquema de la función\n",
    "\n",
    "## recibe: entero N\n",
    "## entrega: lista con los dígitos\n",
    "def lista_digitos(N):\n",
    "    ## una lista vacía de digitos\n",
    "    digitos = []\n",
    "    \n",
    "    ## entregamos la lista que hemos poblado en las líneas anteriores\n",
    "    return digitos"
   ]
  },
  {
   "cell_type": "markdown",
   "metadata": {},
   "source": [
    "## mini desafío 2\n",
    "En este mini desafío, usted y su equipo deben construir una función que reciba un string e indique si termina o no en vocal. Asuman que las vocales son a, e, i, o y u."
   ]
  },
  {
   "cell_type": "code",
   "execution_count": 28,
   "metadata": {},
   "outputs": [],
   "source": [
    "## esquema de la función\n",
    "\n",
    "## recibe: string s\n",
    "## entrega: 1 si termina en vocal; 0 en otro caso\n",
    "def vocales(s):\n",
    "    ## escriba su código aquí\n",
    "    \n",
    "    return"
   ]
  },
  {
   "cell_type": "code",
   "execution_count": 29,
   "metadata": {},
   "outputs": [],
   "source": [
    "## pruebe la función con algún string de ejemplo\n"
   ]
  },
  {
   "cell_type": "markdown",
   "metadata": {},
   "source": [
    "## mini desafío 3\n",
    "En este mini desafío, usted y su equipo deben crear una función que reciba un string: si este termina en vocal, deben agregar el sufijo -yuq, en otro caso deben agregar -ni-yuq. Use la función anterior dentro de esta nueva función. "
   ]
  },
  {
   "cell_type": "code",
   "execution_count": 4,
   "metadata": {},
   "outputs": [],
   "source": [
    "## esquema de la función\n",
    "\n",
    "## recibe: string s\n",
    "## entrega: s-yuq termina en vocal; s-ni-yuq en otro caso\n",
    "def sufijo_vocales(s):\n",
    "    ## escriba su código aquí\n",
    "    \n",
    "    ## aqui entregan s + sufijo\n",
    "    return"
   ]
  },
  {
   "cell_type": "code",
   "execution_count": 5,
   "metadata": {},
   "outputs": [],
   "source": [
    "## pruebe la función con algún string de ejemplo\n"
   ]
  },
  {
   "cell_type": "markdown",
   "metadata": {},
   "source": [
    "## mini desafío grupal\n",
    "En este mini desafío, entre todos (ya en la clase) debemos crear una función que reciba un entero menor a 100 y entregue el número expresado en palabras del quechua. Recomendación: use las tres funciones anteriores. "
   ]
  },
  {
   "cell_type": "code",
   "execution_count": 6,
   "metadata": {},
   "outputs": [],
   "source": [
    "## lista números del 1 al 10\n",
    "\n",
    "lista_numeros_0_10 = ['huk', 'iskay', 'kimsa', 'tawa', 'pichqa', 'suqta', 'qanchis', 'pusaq', 'isqun', 'chunka']"
   ]
  },
  {
   "cell_type": "code",
   "execution_count": 7,
   "metadata": {},
   "outputs": [],
   "source": [
    "## esquema de la función\n",
    "\n",
    "## recibe: entero N entre 1 y 99\n",
    "## entrega: s-yuq termina en vocal; s-ni-yuq en otro caso\n",
    "def entero_quechua(N):\n",
    "    ## si el número es mayor a 100\n",
    "    if N > 99:\n",
    "        return 'tranquilxs, estamos trabajando en números mayores a 99'\n",
    "    ## si el número es menor a 100\n",
    "    else:\n",
    "        ## el número es menor o igual a 10\n",
    "        if N <= 10:\n",
    "            return lista_numeros_0_10[N - 1]\n",
    "        ## el número es mayor a 10\n",
    "        else:\n",
    "            ## usamos la función para encontrar los dígitos\n",
    "            digitos = lista_digitos(N)\n",
    "            ## si el primer dígito es 1\n",
    "            if digitos[0] == 1:\n",
    "                ## 'chunka' + string + sufijo\n",
    "                return 'chunka' + ' ' + sufijo_vocales(lista_numeros_0_10[digitos[1] - 1])\n",
    "            ## el primer dígito no es 1\n",
    "            else:\n",
    "                ## string + 'chunka' + string + sufijo\n",
    "                return lista_numeros_0_10[digitos[0] - 1] + ' ' + 'chunka' + ' ' + sufijo_vocales(lista_numeros_0_10[digitos[1] - 1])"
   ]
  },
  {
   "cell_type": "markdown",
   "metadata": {},
   "source": [
    "## ejemplos de números del quechua!"
   ]
  },
  {
   "cell_type": "markdown",
   "metadata": {},
   "source": [
    "| número decimal | quechua | número decimal | quechua | número decimal | quechua | número decimal | quechua |\n",
    "| :-: | :-: | :-: | :-: | :-: | :-: |  :-: | :-: | \n",
    "|  1  |  huk  |  10  |  chunka  |  11  |  chunka huk-ni-yuq |  21   |  iskay chunka huk-ni-yuq |\n",
    "|  2  |  iskay  |  20  |  iskay chunka | 12  |  chunka iskay-ni-yuq |  22  |  iskay chunka iskay-ni-yuq |\n",
    "|  3  |  kimsa  |  30  |  kimsa chunka | 13  |  chunka kimsa-yuq |  23   |  iskay chunka kimsa-yuq |\n",
    "|  4  |  tawa  |  40  |  tawa chunka |  14  |  chunka tawa-yuq |  24   |  iskay chunka tawa-yuq |\n",
    "|  5  |  pichqa   |  50  |  pichqa chunka |  15  |  chunka pichqa-yuq |  25   |  iskay chunka pichqa-yuq |\n",
    "|  6  |  suqta  |  60  |  suqta chunka |  16  |  chunka suqta-yuq |  26   |  iskay chunka suqta-yuq |\n",
    "|  7  |  qanchis  |  70  |  qanchis chunka |  17  |  chunka qanchis-ni-yuq | 27   |  iskay chunka qanchis-ni-yuq |\n",
    "|  8  |  pusaq  |  80  |  pusaq chunka |   18  |  chunka pusaq-ni-yuq |28   |  iskay chunka pusaq-ni-yuq |\n",
    "|  9  |  isqun  |  90  |  isqun chunka |   19  |  chunka isqun-ni-yuq |29   |  iskay chunka isqun-ni-yuq |"
   ]
  },
  {
   "cell_type": "code",
   "execution_count": null,
   "metadata": {},
   "outputs": [],
   "source": []
  }
 ],
 "metadata": {
  "colab": {
   "name": "semana-1.ipynb",
   "provenance": []
  },
  "kernelspec": {
   "display_name": "Python 3",
   "language": "python",
   "name": "python3"
  },
  "language_info": {
   "codemirror_mode": {
    "name": "ipython",
    "version": 3
   },
   "file_extension": ".py",
   "mimetype": "text/x-python",
   "name": "python",
   "nbconvert_exporter": "python",
   "pygments_lexer": "ipython3",
   "version": "3.8.8"
  }
 },
 "nbformat": 4,
 "nbformat_minor": 1
}
