{
 "cells": [
  {
   "cell_type": "markdown",
   "metadata": {
    "id": "Bonrs-i763k3"
   },
   "source": [
    "# **Seminario de métodos computacionales para lenguas amerindias**\n",
    "### Roberto Zariquiey Biondi, rzariquiey@pucp.edu.pe \n",
    "### Javier Vera Zúñiga, jveraz@pucp.edu.pe"
   ]
  },
  {
   "cell_type": "markdown",
   "metadata": {
    "id": "ZLaPW8tD63k6"
   },
   "source": [
    "## Semana 1. Preliminares sobre **Python**\n",
    "\n",
    "## ¿Dónde programar en **Python**?\n",
    "\n",
    "### Posibilidad 1: **Anaconda** (recomiendo instalar esto sí o sí en cada laptop)\n",
    "\n",
    "Para esto sigamos los siguientes pasos (este [link](https://medium.com/saturdays-ai/empezando-a-usar-jupyter-notebook-para-python-parte-1-instalaci%C3%B3n-94e97b4c5f37) puede servir):\n",
    "\n",
    "1. Ir a [link para instalar Anaconda](https://docs.anaconda.com/anaconda/install/) y elegir el sistema operativo.\n",
    "2. Si es **Windows** o **Mac** es similar: deben bajar el instalador. Si es **linux** hay que bajar e instalar por terminal.\n",
    "3. Supongamos que tenemos **Windows**. Elijan los bits de su pc, en **configuración** aparece esa información. Luego bajamos el instalador (un .exe) y lo instalamos.\n",
    "4. Pongan **Next** y **I agree** a todo. Esperen un momento. Pueden hacerse un café o un té mientras esperan. Al final aprieten **Next**. Les recomiendo reiniciar el PC.\n",
    "5. Ahora tenemos un programa que se llama **Anaconda**. En el menú, hacen click y en las opciones debería estar **jupyter notebook** o **jupyter lab**. Elijan el que más les guste. \n",
    "6. En una nueva ventana de su navegador, deberían aparecer las carpetas de su pc. Cree una nueva en su lugar favorito. Aprieten **new -> folder**. Dentro de la carpeta, creen un **new --> Python 3**. Y listo!!!\n",
    "\n",
    "### Posibilidad 2: **Colab** (recomiendo al menos conocer el uso básico o para trabajar con mapas)\n",
    "\n",
    "En [Colab](https://colab.research.google.com/) pueden abrir **Jupyter Notebooks**. Esto tiene ciertas ventajas y desventajas:\n",
    "\n",
    "**Ventajas**\n",
    "\n",
    "1. No hay que instalar nada. \n",
    "2. La sintaxis es igual a los Jupyter notebooks\n",
    "3. Los mapas no tienen problemas de instalación (de librerías y cosas así). \n",
    "\n",
    "**Desventajas**\n",
    "\n",
    "1. Existen pequeñas dificultades en la lectura de datos.\n",
    "2. Cálculos muy grandes pueden malograrse.\n",
    "\n",
    "### Posibilidad 3: Amazon Sagemaker (recomendado, aunque hay que pagar un poco. Hay versiones gratuitas que pueden explorar)\n",
    "\n",
    "En [Link Sagemaker](https://aws.amazon.com/es/pm/sagemaker/), pueden crearse un perfil de **Amazon** para programar en Jupyter en algún computador perdido en el espacio. Tiene el pequeño inconveniente de pagar con tarjeta de crédito. Un uso razonable cuesta alrededor de 10-20 dólares mensuales. \n"
   ]
  },
  {
   "cell_type": "markdown",
   "metadata": {
    "id": "At7d-o9w63k7"
   },
   "source": [
    "## Parte 1. Elementos muy básicos:\n",
    "1. Programar o codificar en **Python** (y quizás en cualquier lenguaje) es crear una lista de instrucciones que resuelven un problema. Es importante, para nuestros fines, proponer problemas bien definidos y simples, que sean expresables usando **Python.**\n",
    "2. Un aspecto esencial de esta codificación es que uno programa para **otros (o para uno mismo del futuro).** Esto es **muy** importante: debemos ser capaces de reproducir nuestros propios códigos para que **otros** lo entiendan. En general, programar debe ser algo que hacemos **lento**, con el fin de reducir errores y comentar nuestro código. \n",
    "3. Los **comentarios se escriben con \"#\":** usemos todos los comentarios posibles!!! Idealmente, cada línea de código debe tener un comentario (algo simple, pero que indique especialmente cómo hicimos cosas que fueron un poco más complicadas).\n",
    "4. Los **códigos evolucionan!!!** Es típico que al mirar un código que hemos hecho antes (por ejemplo, meses antes) en el momento actual lo haríamos de otra forma, quizás más eficientemente. Eso es muy bueno, ya que indica que estamos aprendiendo. \n",
    "5. Cuenta en [github](https://github.com/).\n",
    "6. En **jupyter** hay dos tipos de celdas! **Code** y **Markdown** [link interesante!](https://towardsdatascience.com/write-markdown-latex-in-the-jupyter-notebook-10985edb91fd)\n",
    "7. Instalar **Python**."
   ]
  },
  {
   "cell_type": "markdown",
   "metadata": {
    "id": "ltMhJN2Y63k8"
   },
   "source": [
    "El objetivo de esta parte es doble:\n",
    "1. Proponer las bases de programación en **Python** que sirvan para analizar **datos lingüísticos**; y por sobre todo\n",
    "2. Introducirnos (y motivarnos) a aprender **Python :)**"
   ]
  },
  {
   "cell_type": "markdown",
   "metadata": {},
   "source": [
    "### Elementos de Python\n",
    "**Python** es considerado muchas veces un **lenguaje de programación**. La mención a **lenguaje** debería interesarnos: ¿En qué sentido? **Python** ofrece elementos que permiten transformar una tarea (por ejemplo, identificar las vocales de la palabra \"Lima\") en una instrucción que pueda ser resuelta por una máquina. Entre estos elementos, podemos mencionar:\n",
    "\n",
    "1. Maneras de combinar elementos, o reglas, que son pre-definidas. Una sintaxis.\n",
    "2. Palabras que tienen signifidados \n",
    "3. \n",
    "\n",
    "A pensar en programar en **Python**, tenemos al menos:\n",
    "\n",
    "1. Tareas que queremos que haga un computador, por ejemplo, concatenar dos strings \"hola\" y \"javier\"\n",
    "2. Maneras de representar \n",
    "3. xxx"
   ]
  },
  {
   "cell_type": "markdown",
   "metadata": {},
   "source": [
    "### Variables en Python\n",
    "xxx"
   ]
  },
  {
   "cell_type": "markdown",
   "metadata": {
    "id": "Z94xIrgS63k9"
   },
   "source": [
    "### Listas en **Python.**\n",
    "En general, los lenguajes de programacición ofrecen **estructuras**, que podemos entender cómo formas de organizar información. En **Python**, todo está organizado en torno a las **listas**, que son secuencias ordenadas de cosas (cualquier cosa, incluso otras listas). Podemos decir entonces que a **Python** le gustan las **listas.** Esta estructura aparece en muchos lados como una manera de ordenar datos, y al mismo tiempo como una forma de iterar operaciones (repetir una tarea una cantidad definida de veces). En **Python**, las listas se definen (relajadamente) como una secuencia ordenada de **\"cosas\".** Estas **\"cosas\"** pueden ser cualquier **cosa**, incluso otras listas."
   ]
  },
  {
   "cell_type": "markdown",
   "metadata": {
    "id": "iy9gV5aa63k-"
   },
   "source": [
    "#### definiciones básicas! "
   ]
  },
  {
   "cell_type": "code",
   "execution_count": 1,
   "metadata": {
    "executionInfo": {
     "elapsed": 292,
     "status": "ok",
     "timestamp": 1629826806864,
     "user": {
      "displayName": "Javier Maximiliano Vera Zuñiga",
      "photoUrl": "",
      "userId": "16439660197950043005"
     },
     "user_tz": 240
    },
    "id": "T7RXrwbm63k_"
   },
   "outputs": [],
   "source": [
    "## definamos la lista A. Las listas se pueden definir vacías\n",
    "\n",
    "A = []\n",
    "\n",
    "## o bien con algún elemento adentro\n",
    "\n",
    "B = ['verde','casa','perro'] "
   ]
  },
  {
   "cell_type": "code",
   "execution_count": 2,
   "metadata": {
    "colab": {
     "base_uri": "https://localhost:8080/"
    },
    "executionInfo": {
     "elapsed": 256,
     "status": "ok",
     "timestamp": 1629826820809,
     "user": {
      "displayName": "Javier Maximiliano Vera Zuñiga",
      "photoUrl": "",
      "userId": "16439660197950043005"
     },
     "user_tz": 240
    },
    "id": "UjOhN679P44u",
    "outputId": "451f3494-68e2-4db0-8b27-f07835ed84f5"
   },
   "outputs": [
    {
     "data": {
      "text/plain": [
       "[]"
      ]
     },
     "execution_count": 2,
     "metadata": {},
     "output_type": "execute_result"
    }
   ],
   "source": [
    "A"
   ]
  },
  {
   "cell_type": "code",
   "execution_count": 6,
   "metadata": {
    "colab": {
     "base_uri": "https://localhost:8080/"
    },
    "executionInfo": {
     "elapsed": 240,
     "status": "ok",
     "timestamp": 1629571629538,
     "user": {
      "displayName": "Javier Maximiliano Vera Zuñiga",
      "photoUrl": "",
      "userId": "16439660197950043005"
     },
     "user_tz": 240
    },
    "id": "ABKSuq-F63k_",
    "outputId": "72e26ae7-e5a5-421a-8995-f47be6b937c5"
   },
   "outputs": [
    {
     "data": {
      "text/plain": [
       "['verde', 'casa', 'perro']"
      ]
     },
     "execution_count": 6,
     "metadata": {},
     "output_type": "execute_result"
    }
   ],
   "source": [
    "## ponemos B y apretamos la flecha de la izquierda, así vemos qué tiene adentro B\n",
    "\n",
    "B"
   ]
  },
  {
   "cell_type": "code",
   "execution_count": 7,
   "metadata": {
    "id": "aM5VWgVD63lB"
   },
   "outputs": [],
   "source": [
    "## OJO!!! Si notan en las asignaciones anteriores, utilizamos el signo \"=\". En Python (y en muchos lenguajes), este signo \n",
    "## no indica \"igualdad\", sino algo más interesante: en \"A = []\", decimos \"lo que está a la derecha de \"=\" se asigna al nombre\n",
    "## \"A\". Para la igualdad lógica se usa doble signo de igualdad \"==\".\""
   ]
  },
  {
   "cell_type": "code",
   "execution_count": 8,
   "metadata": {
    "colab": {
     "base_uri": "https://localhost:8080/"
    },
    "executionInfo": {
     "elapsed": 5,
     "status": "ok",
     "timestamp": 1629571650267,
     "user": {
      "displayName": "Javier Maximiliano Vera Zuñiga",
      "photoUrl": "",
      "userId": "16439660197950043005"
     },
     "user_tz": 240
    },
    "id": "LX01AS3_63lC",
    "outputId": "462a02eb-bce4-42fd-c6b6-b74f508af250"
   },
   "outputs": [
    {
     "data": {
      "text/plain": [
       "(False, True, True)"
      ]
     },
     "execution_count": 8,
     "metadata": {},
     "output_type": "execute_result"
    }
   ],
   "source": [
    "2==3,3==3,2==2*1"
   ]
  },
  {
   "cell_type": "code",
   "execution_count": 9,
   "metadata": {},
   "outputs": [
    {
     "data": {
      "text/plain": [
       "3"
      ]
     },
     "execution_count": 9,
     "metadata": {},
     "output_type": "execute_result"
    }
   ],
   "source": [
    "len(A)\n",
    "len(B)"
   ]
  },
  {
   "cell_type": "code",
   "execution_count": 10,
   "metadata": {},
   "outputs": [
    {
     "data": {
      "text/plain": [
       "3"
      ]
     },
     "execution_count": 10,
     "metadata": {},
     "output_type": "execute_result"
    }
   ],
   "source": [
    "len(B)"
   ]
  },
  {
   "cell_type": "code",
   "execution_count": 11,
   "metadata": {
    "colab": {
     "base_uri": "https://localhost:8080/"
    },
    "executionInfo": {
     "elapsed": 303,
     "status": "ok",
     "timestamp": 1629571718065,
     "user": {
      "displayName": "Javier Maximiliano Vera Zuñiga",
      "photoUrl": "",
      "userId": "16439660197950043005"
     },
     "user_tz": 240
    },
    "id": "kh5d_qYp63lD",
    "outputId": "29ac25a3-411b-4788-859d-86d2eeb780a9"
   },
   "outputs": [
    {
     "name": "stdout",
     "output_type": "stream",
     "text": [
      "0\n",
      "3\n"
     ]
    }
   ],
   "source": [
    "## Con \"len\", obtenemos el número de elementos que posee una lista\n",
    "\n",
    "print(len(A)) ## esto es esperable, A no tiene elementos\n",
    "print(len(B)) ## sabemos que B tiene tres elementos, inicialmente"
   ]
  },
  {
   "cell_type": "code",
   "execution_count": 12,
   "metadata": {
    "colab": {
     "base_uri": "https://localhost:8080/"
    },
    "executionInfo": {
     "elapsed": 213,
     "status": "ok",
     "timestamp": 1629571761394,
     "user": {
      "displayName": "Javier Maximiliano Vera Zuñiga",
      "photoUrl": "",
      "userId": "16439660197950043005"
     },
     "user_tz": 240
    },
    "id": "4sPdBzqD63lD",
    "outputId": "89ec2103-bc42-4fc9-807f-c56013f20e0b"
   },
   "outputs": [
    {
     "data": {
      "text/plain": [
       "('verde', 'casa', 'perro')"
      ]
     },
     "execution_count": 12,
     "metadata": {},
     "output_type": "execute_result"
    }
   ],
   "source": [
    "## la propiedad esencial de las listas es que están ordenadas!!!\n",
    "## por esta razón, tienen posiciones! Insisto: los elementos están asociados a un índice, que puede recorrerse\n",
    "## los índices comienzan en 0, o sea terminan en (largo de la lista - 1)\n",
    "\n",
    "B[0],B[1],B[2]"
   ]
  },
  {
   "cell_type": "code",
   "execution_count": 31,
   "metadata": {},
   "outputs": [
    {
     "data": {
      "text/plain": [
       "3"
      ]
     },
     "execution_count": 31,
     "metadata": {},
     "output_type": "execute_result"
    }
   ],
   "source": [
    "len(B)"
   ]
  },
  {
   "cell_type": "code",
   "execution_count": 15,
   "metadata": {},
   "outputs": [
    {
     "data": {
      "text/plain": [
       "'perro'"
      ]
     },
     "execution_count": 15,
     "metadata": {},
     "output_type": "execute_result"
    }
   ],
   "source": [
    "B[2]"
   ]
  },
  {
   "cell_type": "code",
   "execution_count": 16,
   "metadata": {
    "colab": {
     "base_uri": "https://localhost:8080/",
     "height": 207
    },
    "executionInfo": {
     "elapsed": 211,
     "status": "error",
     "timestamp": 1629572125524,
     "user": {
      "displayName": "Javier Maximiliano Vera Zuñiga",
      "photoUrl": "",
      "userId": "16439660197950043005"
     },
     "user_tz": 240
    },
    "id": "1XZ3XZgQ63lG",
    "outputId": "e2be70e5-60e3-488b-b3e0-f7a82aab9d3e"
   },
   "outputs": [
    {
     "ename": "IndexError",
     "evalue": "list index out of range",
     "output_type": "error",
     "traceback": [
      "\u001b[1;31m---------------------------------------------------------------------------\u001b[0m",
      "\u001b[1;31mIndexError\u001b[0m                                Traceback (most recent call last)",
      "\u001b[1;32m<ipython-input-16-0c26308def07>\u001b[0m in \u001b[0;36m<module>\u001b[1;34m\u001b[0m\n\u001b[0;32m      1\u001b[0m \u001b[1;31m## ¿Qué pasa si imprimimos B[3]? ¿A[0]?\u001b[0m\u001b[1;33m\u001b[0m\u001b[1;33m\u001b[0m\u001b[1;33m\u001b[0m\u001b[0m\n\u001b[0;32m      2\u001b[0m \u001b[1;33m\u001b[0m\u001b[0m\n\u001b[1;32m----> 3\u001b[1;33m \u001b[0mA\u001b[0m\u001b[1;33m[\u001b[0m\u001b[1;36m0\u001b[0m\u001b[1;33m]\u001b[0m\u001b[1;33m\u001b[0m\u001b[1;33m\u001b[0m\u001b[0m\n\u001b[0m",
      "\u001b[1;31mIndexError\u001b[0m: list index out of range"
     ]
    }
   ],
   "source": [
    "## ¿Qué pasa si imprimimos B[3]? ¿A[0]?\n",
    "\n",
    "A[0]"
   ]
  },
  {
   "cell_type": "code",
   "execution_count": 17,
   "metadata": {},
   "outputs": [],
   "source": [
    "C=['gato']"
   ]
  },
  {
   "cell_type": "code",
   "execution_count": 37,
   "metadata": {},
   "outputs": [
    {
     "data": {
      "text/plain": [
       "1"
      ]
     },
     "execution_count": 37,
     "metadata": {},
     "output_type": "execute_result"
    }
   ],
   "source": [
    "len(C)"
   ]
  },
  {
   "cell_type": "code",
   "execution_count": 36,
   "metadata": {},
   "outputs": [
    {
     "data": {
      "text/plain": [
       "'gato'"
      ]
     },
     "execution_count": 36,
     "metadata": {},
     "output_type": "execute_result"
    }
   ],
   "source": [
    "C[0]"
   ]
  },
  {
   "cell_type": "code",
   "execution_count": 12,
   "metadata": {
    "id": "u_b-UKu_63lH"
   },
   "outputs": [],
   "source": [
    "## si imprimimos la línea anterior, obtenemos un \"IndexError\". Es decir, Python nos dice que no existen elementos asociados a tales índices\n",
    "## noten que el máximo índice posible es \"largo de la lista menos 1\"!!!"
   ]
  },
  {
   "cell_type": "code",
   "execution_count": 38,
   "metadata": {
    "id": "0EIsqsZA63lI"
   },
   "outputs": [],
   "source": [
    "## => solo podemos imprimir los elementos en posiciones menores al largo\n",
    "\n",
    "b = len(B)\n",
    "a = len(A)"
   ]
  },
  {
   "cell_type": "code",
   "execution_count": 39,
   "metadata": {
    "colab": {
     "base_uri": "https://localhost:8080/"
    },
    "executionInfo": {
     "elapsed": 219,
     "status": "ok",
     "timestamp": 1629572167743,
     "user": {
      "displayName": "Javier Maximiliano Vera Zuñiga",
      "photoUrl": "",
      "userId": "16439660197950043005"
     },
     "user_tz": 240
    },
    "id": "2e6eU6Fx63lI",
    "outputId": "1480ccd3-c3c0-40e3-add7-f3a4c3f8df29"
   },
   "outputs": [
    {
     "name": "stdout",
     "output_type": "stream",
     "text": [
      "0\n",
      "3\n"
     ]
    }
   ],
   "source": [
    "print(a)\n",
    "print(b)"
   ]
  },
  {
   "cell_type": "code",
   "execution_count": 45,
   "metadata": {
    "id": "sQC_nd-k63lI"
   },
   "outputs": [],
   "source": [
    "## ahora, los enteros \"a\" y \"b\" tienen un espacio de memoria asignado que guarda los valores 0 y 3. Podemos utilizarlos \n",
    "## como queramos, por ejemplo\n",
    "\n",
    "numero_resultado = a+3*(2-b)"
   ]
  },
  {
   "cell_type": "code",
   "execution_count": 46,
   "metadata": {
    "colab": {
     "base_uri": "https://localhost:8080/"
    },
    "executionInfo": {
     "elapsed": 5,
     "status": "ok",
     "timestamp": 1629572175980,
     "user": {
      "displayName": "Javier Maximiliano Vera Zuñiga",
      "photoUrl": "",
      "userId": "16439660197950043005"
     },
     "user_tz": 240
    },
    "id": "L2OjN1S263lI",
    "outputId": "008a1def-fc04-4f3f-a63e-26fcf3bc8c0d"
   },
   "outputs": [
    {
     "data": {
      "text/plain": [
       "-3"
      ]
     },
     "execution_count": 46,
     "metadata": {},
     "output_type": "execute_result"
    }
   ],
   "source": [
    "numero_resultado"
   ]
  },
  {
   "cell_type": "code",
   "execution_count": 58,
   "metadata": {},
   "outputs": [],
   "source": [
    "string = \"string string\""
   ]
  },
  {
   "cell_type": "markdown",
   "metadata": {
    "id": "oSUAP_3163lJ"
   },
   "source": [
    "#### agreguemos elementos a listas! :) Las listas son como una **cola** de personas en las cajas de un supermercado. El primero que llega (si nadie se aprovecha) es el primero en ser atendido. Entonces, agregar elementos a una lista implica que estos queden al final "
   ]
  },
  {
   "cell_type": "code",
   "execution_count": 27,
   "metadata": {
    "id": "95hNGEKE63lJ"
   },
   "outputs": [],
   "source": [
    "## ¿Agregar elementos? Sabemos el símbolo \"=\" no es \"igual\": indica que lo que está a la\n",
    "## derecha de \"=\" se asigna a lo que está a la izquierda de \"=\"\n",
    "## ¿Qué pasa si aprietan \"run\" muchas veces?\n",
    "\n",
    "A = A + ['chao']\n",
    "## A += ['chao']"
   ]
  },
  {
   "cell_type": "code",
   "execution_count": 28,
   "metadata": {
    "colab": {
     "base_uri": "https://localhost:8080/"
    },
    "executionInfo": {
     "elapsed": 202,
     "status": "ok",
     "timestamp": 1629572256232,
     "user": {
      "displayName": "Javier Maximiliano Vera Zuñiga",
      "photoUrl": "",
      "userId": "16439660197950043005"
     },
     "user_tz": 240
    },
    "id": "Jh6SmiuJ63lJ",
    "outputId": "258cabb5-af26-46a9-ab27-596ad1fa8e7c"
   },
   "outputs": [
    {
     "data": {
      "text/plain": [
       "['chao', 'chao', 'chao', 'chao', 'chao']"
      ]
     },
     "execution_count": 28,
     "metadata": {},
     "output_type": "execute_result"
    }
   ],
   "source": [
    "A"
   ]
  },
  {
   "cell_type": "code",
   "execution_count": 72,
   "metadata": {
    "id": "jKdcMjyi63lJ"
   },
   "outputs": [],
   "source": [
    "## el símbolo \"+\" indica \"concatenación\", y se usa en muchos contextos!. Noten que para agregar 'hola' a A, es necesario que \n",
    "##'hola' esté adentro de una lista, es decir ['hola']. En general, podemos concatenar (usando \"+\") elementos del mismo tipo. \n",
    "## Prueben la siguiente asignación y miren el error!"
   ]
  },
  {
   "cell_type": "code",
   "execution_count": 20,
   "metadata": {
    "colab": {
     "base_uri": "https://localhost:8080/",
     "height": 171
    },
    "executionInfo": {
     "elapsed": 213,
     "status": "error",
     "timestamp": 1629572274979,
     "user": {
      "displayName": "Javier Maximiliano Vera Zuñiga",
      "photoUrl": "",
      "userId": "16439660197950043005"
     },
     "user_tz": 240
    },
    "id": "Hvb0p7TC63lK",
    "outputId": "0e55d87a-f62a-41be-e1f5-2488bc826f9c"
   },
   "outputs": [
    {
     "ename": "TypeError",
     "evalue": "can only concatenate list (not \"str\") to list",
     "output_type": "error",
     "traceback": [
      "\u001b[1;31m---------------------------------------------------------------------------\u001b[0m",
      "\u001b[1;31mTypeError\u001b[0m                                 Traceback (most recent call last)",
      "\u001b[1;32m<ipython-input-20-81b5202b8158>\u001b[0m in \u001b[0;36m<module>\u001b[1;34m\u001b[0m\n\u001b[1;32m----> 1\u001b[1;33m \u001b[0mA\u001b[0m \u001b[1;33m=\u001b[0m \u001b[0mA\u001b[0m \u001b[1;33m+\u001b[0m \u001b[1;34m'hola'\u001b[0m\u001b[1;33m\u001b[0m\u001b[1;33m\u001b[0m\u001b[0m\n\u001b[0m",
      "\u001b[1;31mTypeError\u001b[0m: can only concatenate list (not \"str\") to list"
     ]
    }
   ],
   "source": [
    "A = A + 'hola'"
   ]
  },
  {
   "cell_type": "code",
   "execution_count": 74,
   "metadata": {
    "colab": {
     "base_uri": "https://localhost:8080/"
    },
    "executionInfo": {
     "elapsed": 221,
     "status": "ok",
     "timestamp": 1629572280246,
     "user": {
      "displayName": "Javier Maximiliano Vera Zuñiga",
      "photoUrl": "",
      "userId": "16439660197950043005"
     },
     "user_tz": 240
    },
    "id": "gW94ktps63lK",
    "outputId": "ba0b4206-7d4a-4ff6-e6f3-e2ec72aec07b"
   },
   "outputs": [
    {
     "data": {
      "text/plain": [
       "['chao', 'chao', 'chao', 'chao', 'chao', 'chao', 'chao', 'chao']"
      ]
     },
     "execution_count": 74,
     "metadata": {},
     "output_type": "execute_result"
    }
   ],
   "source": [
    "## miremos A\n",
    "\n",
    "A"
   ]
  },
  {
   "cell_type": "markdown",
   "metadata": {
    "id": "iLijWRP663lL"
   },
   "source": [
    "#### ciclos for :)"
   ]
  },
  {
   "cell_type": "code",
   "execution_count": 80,
   "metadata": {
    "colab": {
     "base_uri": "https://localhost:8080/"
    },
    "executionInfo": {
     "elapsed": 232,
     "status": "ok",
     "timestamp": 1629572923150,
     "user": {
      "displayName": "Javier Maximiliano Vera Zuñiga",
      "photoUrl": "",
      "userId": "16439660197950043005"
     },
     "user_tz": 240
    },
    "id": "hAI2SZC463lL",
    "outputId": "6d6937b4-7d2d-4586-bd98-af5d0dc6c7f7"
   },
   "outputs": [
    {
     "data": {
      "text/plain": [
       "8"
      ]
     },
     "execution_count": 80,
     "metadata": {},
     "output_type": "execute_result"
    }
   ],
   "source": [
    "len(A)"
   ]
  },
  {
   "cell_type": "code",
   "execution_count": 37,
   "metadata": {},
   "outputs": [],
   "source": [
    "variable = 1"
   ]
  },
  {
   "cell_type": "code",
   "execution_count": 38,
   "metadata": {},
   "outputs": [
    {
     "data": {
      "text/plain": [
       "2"
      ]
     },
     "execution_count": 38,
     "metadata": {},
     "output_type": "execute_result"
    }
   ],
   "source": [
    "variable*2"
   ]
  },
  {
   "cell_type": "code",
   "execution_count": 32,
   "metadata": {},
   "outputs": [
    {
     "name": "stdout",
     "output_type": "stream",
     "text": [
      "1\n"
     ]
    }
   ],
   "source": [
    "print(variable)"
   ]
  },
  {
   "cell_type": "code",
   "execution_count": 39,
   "metadata": {},
   "outputs": [],
   "source": [
    "variable = 2"
   ]
  },
  {
   "cell_type": "code",
   "execution_count": 40,
   "metadata": {},
   "outputs": [
    {
     "data": {
      "text/plain": [
       "4"
      ]
     },
     "execution_count": 40,
     "metadata": {},
     "output_type": "execute_result"
    }
   ],
   "source": [
    "variable*2"
   ]
  },
  {
   "cell_type": "code",
   "execution_count": 34,
   "metadata": {},
   "outputs": [
    {
     "name": "stdout",
     "output_type": "stream",
     "text": [
      "2\n"
     ]
    }
   ],
   "source": [
    "print(variable)"
   ]
  },
  {
   "cell_type": "code",
   "execution_count": 47,
   "metadata": {},
   "outputs": [],
   "source": [
    "variable_copia = []\n",
    "\n",
    "for variable in [1,2,3,4]:\n",
    "    variable_copia+=[variable*2]"
   ]
  },
  {
   "cell_type": "code",
   "execution_count": 48,
   "metadata": {},
   "outputs": [
    {
     "data": {
      "text/plain": [
       "[2, 4, 6, 8]"
      ]
     },
     "execution_count": 48,
     "metadata": {},
     "output_type": "execute_result"
    }
   ],
   "source": [
    "variable_copia"
   ]
  },
  {
   "cell_type": "code",
   "execution_count": 82,
   "metadata": {
    "colab": {
     "base_uri": "https://localhost:8080/"
    },
    "executionInfo": {
     "elapsed": 216,
     "status": "ok",
     "timestamp": 1629572935227,
     "user": {
      "displayName": "Javier Maximiliano Vera Zuñiga",
      "photoUrl": "",
      "userId": "16439660197950043005"
     },
     "user_tz": 240
    },
    "id": "bJ8IsGhO63lL",
    "outputId": "071adbf1-6be8-4eb6-ea75-9f99d10423fa"
   },
   "outputs": [
    {
     "name": "stdout",
     "output_type": "stream",
     "text": [
      "chao\n",
      "chao\n",
      "chao\n",
      "chao\n",
      "chao\n",
      "chao\n",
      "chao\n",
      "chao\n"
     ]
    }
   ],
   "source": [
    "## ¿Podemos automatizar el proceso de agregar elementos a una lista? Sí se puede!!!, usemos \"ciclos for\"!!!\n",
    "## Un ciclo \"for\" ejecuta una acción muchas veces, y esas veces están definidas con una lista!!!\n",
    "\n",
    "for item in A: ## ciclo \"for\" definido con los elementos de A\n",
    "    print(item)"
   ]
  },
  {
   "cell_type": "code",
   "execution_count": 24,
   "metadata": {
    "id": "SnBwUc4C63lN"
   },
   "outputs": [],
   "source": [
    "## OJO!!! Para Python, las listas y los ciclos \"for\" son lo mismo! Esto puede parecer raro al principio, pero encierra algo\n",
    "## muy conveniente: debemos aprender qué representación es mejor para cada contexto. "
   ]
  },
  {
   "cell_type": "markdown",
   "metadata": {
    "id": "Gq8dgp9463lO"
   },
   "source": [
    "Desmenucemos un poco el ciclo **for** de más arriba. \n",
    "\n",
    "La primera línea\n",
    "```python\n",
    "for item in A:\n",
    "```\n",
    "tiene varios elementos: (1) **for**; (2) **item**; (3) **in**; (4) **A**; y (5) **:**.\n",
    "1. **for**: esta palabra (que se colorea en **jupyter**) es un indicador de que viene un ciclo de este tipo (hay otros!)\n",
    "2. **item** es un nombre: **Python** nos dice que en cada paso del ciclo **for** tomamos un nuevo elemento de **A** que se llama **item**. Podríamos usar cualquier nombre. \n",
    "3. **in** es otra palabra coloreada (que no podemos usar como nombre para algo) y que dice **dónde**.\n",
    "4. **A** es la lista que recorremos!\n",
    "5. El signo **:** es imprescindible. Además, si apretamos **enter** luego de este signo, el salto de línea aparece automáticamente. \n",
    "\n",
    "La segunda línea\n",
    "```python\n",
    "print(item)\n",
    "```\n",
    "siempre indica qué queremos hacer en cada paso. "
   ]
  },
  {
   "cell_type": "code",
   "execution_count": 25,
   "metadata": {
    "colab": {
     "base_uri": "https://localhost:8080/"
    },
    "executionInfo": {
     "elapsed": 213,
     "status": "ok",
     "timestamp": 1629573021666,
     "user": {
      "displayName": "Javier Maximiliano Vera Zuñiga",
      "photoUrl": "",
      "userId": "16439660197950043005"
     },
     "user_tz": 240
    },
    "id": "Mpj-E4VF63lP",
    "outputId": "73bed206-8ac8-4fa1-ab05-5878d0476d10"
   },
   "outputs": [
    {
     "name": "stdout",
     "output_type": "stream",
     "text": [
      "chao\n"
     ]
    }
   ],
   "source": [
    "## otra versión de lo mismo. Un ciclo \"for\" puede recorrer directamente los elementos de una lista, como arriba, o bien los\n",
    "## elementos asociados a posiciones específicas. Veamos!\n",
    "\n",
    "for i in range(len(A)): ## ciclo \"for\" definido con los índices (las posiciones) de A\n",
    "    print(A[i])"
   ]
  },
  {
   "cell_type": "code",
   "execution_count": 26,
   "metadata": {
    "colab": {
     "base_uri": "https://localhost:8080/"
    },
    "executionInfo": {
     "elapsed": 220,
     "status": "ok",
     "timestamp": 1629573515416,
     "user": {
      "displayName": "Javier Maximiliano Vera Zuñiga",
      "photoUrl": "",
      "userId": "16439660197950043005"
     },
     "user_tz": 240
    },
    "id": "Cm6o1-GN63lR",
    "outputId": "ce34d64f-3821-4093-ed69-623a0761307c"
   },
   "outputs": [
    {
     "name": "stdout",
     "output_type": "stream",
     "text": [
      "range(0, 1)\n",
      "[0]\n"
     ]
    }
   ],
   "source": [
    "## range!\n",
    "\n",
    "print(range(len(A)))\n",
    "print(list(range(len(A))))"
   ]
  },
  {
   "cell_type": "code",
   "execution_count": 27,
   "metadata": {
    "id": "aS5VX_4i63lR"
   },
   "outputs": [],
   "source": [
    "## es decir, \"range(X)\" entrega todos los números entre 0 y X-1. \"range\" es, a su vez, un tipo de lista. \n",
    "## Conclusión: ciclos \"for\" son equivalentes a listas. Eso es muy cómodo!\n",
    "\n",
    "for i in range(len(A)):\n",
    "    A = A + ['hola'] ## aquí en cada paso agregamos 'hola' a \"A\""
   ]
  },
  {
   "cell_type": "code",
   "execution_count": 28,
   "metadata": {
    "colab": {
     "base_uri": "https://localhost:8080/"
    },
    "executionInfo": {
     "elapsed": 208,
     "status": "ok",
     "timestamp": 1629573540797,
     "user": {
      "displayName": "Javier Maximiliano Vera Zuñiga",
      "photoUrl": "",
      "userId": "16439660197950043005"
     },
     "user_tz": 240
    },
    "id": "Ru9JsGCc63lR",
    "outputId": "4c28ada5-efb8-4c9b-f0fb-f6d473e037e4"
   },
   "outputs": [
    {
     "name": "stdout",
     "output_type": "stream",
     "text": [
      "['chao', 'hola']\n"
     ]
    }
   ],
   "source": [
    "print(A)"
   ]
  },
  {
   "cell_type": "code",
   "execution_count": 29,
   "metadata": {
    "colab": {
     "base_uri": "https://localhost:8080/"
    },
    "executionInfo": {
     "elapsed": 200,
     "status": "ok",
     "timestamp": 1629573557361,
     "user": {
      "displayName": "Javier Maximiliano Vera Zuñiga",
      "photoUrl": "",
      "userId": "16439660197950043005"
     },
     "user_tz": 240
    },
    "id": "OnwBB08963lR",
    "outputId": "0cab4c16-c1a5-48b9-fc97-af76d906f35b"
   },
   "outputs": [
    {
     "name": "stdout",
     "output_type": "stream",
     "text": [
      "2\n",
      "3\n",
      "['chao', 'hola', 'verde', 'casa', 'perro']\n",
      "5\n"
     ]
    }
   ],
   "source": [
    "## otro ejemplo: \n",
    "\n",
    "print(len(A))\n",
    "print(len(B))\n",
    "\n",
    "for item in B:\n",
    "    A = A + [item]\n",
    "\n",
    "print(A)\n",
    "print(len(A))\n",
    "\n",
    "## Es decir, agregamos (por cada elemento de B) un 'hola' a A!"
   ]
  },
  {
   "cell_type": "code",
   "execution_count": 30,
   "metadata": {
    "id": "tntGEVIl63lS"
   },
   "outputs": [],
   "source": [
    "## otro ejemplo: definimos una lista vacía y guardamos los elementos de \"A\" en \"C\". \n",
    "\n",
    "C = []\n",
    "for item in A:\n",
    "    C = C + ['hola']"
   ]
  },
  {
   "cell_type": "code",
   "execution_count": 31,
   "metadata": {
    "colab": {
     "base_uri": "https://localhost:8080/"
    },
    "executionInfo": {
     "elapsed": 397,
     "status": "ok",
     "timestamp": 1629573579534,
     "user": {
      "displayName": "Javier Maximiliano Vera Zuñiga",
      "photoUrl": "",
      "userId": "16439660197950043005"
     },
     "user_tz": 240
    },
    "id": "_bPAWZeP63lS",
    "outputId": "125845cd-fbfd-4a1c-eded-430ae9cc8ace"
   },
   "outputs": [
    {
     "data": {
      "text/plain": [
       "['hola', 'hola', 'hola', 'hola', 'hola']"
      ]
     },
     "execution_count": 31,
     "metadata": {},
     "output_type": "execute_result"
    }
   ],
   "source": [
    "C"
   ]
  }
 ],
 "metadata": {
  "colab": {
   "name": "semana-1.ipynb",
   "provenance": []
  },
  "kernelspec": {
   "display_name": "Python 3",
   "language": "python",
   "name": "python3"
  },
  "language_info": {
   "codemirror_mode": {
    "name": "ipython",
    "version": 3
   },
   "file_extension": ".py",
   "mimetype": "text/x-python",
   "name": "python",
   "nbconvert_exporter": "python",
   "pygments_lexer": "ipython3",
   "version": "3.8.8"
  }
 },
 "nbformat": 4,
 "nbformat_minor": 1
}
