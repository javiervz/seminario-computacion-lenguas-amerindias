{
 "cells": [
  {
   "cell_type": "markdown",
   "metadata": {
    "id": "Bonrs-i763k3"
   },
   "source": [
    "# **Seminario de métodos computacionales para lenguas amerindias**\n",
    "### Roberto Zariquiey Biondi, rzariquiey@pucp.edu.pe \n",
    "### Javier Vera Zúñiga, jveraz@pucp.edu.pe"
   ]
  },
  {
   "cell_type": "markdown",
   "metadata": {},
   "source": [
    "# diccionarios :)"
   ]
  },
  {
   "cell_type": "code",
   "execution_count": 1,
   "metadata": {},
   "outputs": [],
   "source": [
    "## definamos una lista con los números del 1 al 19 en quechua\n",
    "\n",
    "lista_numeros_1_19 = ['huk', 'iskay', 'kimsa', 'tawa', 'pichqa', 'suqta', 'qanchis', 'pusaq', 'isqun', 'chunka',\n",
    "'chunka huk-ni-yuq', 'chunka iskay-ni-yuq', 'chunka kimsa-yuq', 'chunka tawa-yuq', 'chunka pichqa-yuq',\n",
    "'chunka suqta-yuq', 'chunka qanchis-ni-yuq', 'chunka pusaq-ni-yuq', 'chunka isqun-ni-yuq']"
   ]
  },
  {
   "cell_type": "markdown",
   "metadata": {},
   "source": [
    "Noten que sabemos cuál es cada número (bueno, si no sabemos quechua) solo por su posición en la lista \n",
    "¿Existirá otra forma? **¿Existirá una forma de acceder (a alguna estructura) con el número, y que se entregue el string?** ¿Existen los **diccionarios en Python**? ¿Cómo agruparíamos todos los números que tienen por substring a 'iskay'?"
   ]
  },
  {
   "cell_type": "code",
   "execution_count": 2,
   "metadata": {},
   "outputs": [],
   "source": [
    "## usemos un diccionario\n",
    "\n",
    "## como siempre, lo definimos vacío\n",
    "## los diccionarios usan paréntesis {} y pueden definirse, de forma simple, como un contenedor de información en el cual\n",
    "## el acceso a un elemento se realiza a través de su etiqueta (que llamamos key). La información asociada a una key es su value\n",
    "\n",
    "D = {}"
   ]
  },
  {
   "cell_type": "code",
   "execution_count": 3,
   "metadata": {},
   "outputs": [],
   "source": [
    "## los diccionarios tiene pares de elementos, que son combinaciones de un key y un value\n",
    "\n",
    "D[1] = 'huk'"
   ]
  },
  {
   "cell_type": "code",
   "execution_count": 4,
   "metadata": {},
   "outputs": [],
   "source": [
    "## 1 no es el índice 1, sino que es la entrada o key 1, como en un diccionario \"real\" ¿y si queremos agregar otro elemento?\n",
    "\n",
    "D[2] = 'iskay'"
   ]
  },
  {
   "cell_type": "code",
   "execution_count": 5,
   "metadata": {},
   "outputs": [
    {
     "data": {
      "text/plain": [
       "{1: 'huk', 2: 'iskay'}"
      ]
     },
     "execution_count": 5,
     "metadata": {},
     "output_type": "execute_result"
    }
   ],
   "source": [
    "## ahora vemos el diccionario\n",
    "\n",
    "D"
   ]
  },
  {
   "cell_type": "code",
   "execution_count": 6,
   "metadata": {},
   "outputs": [],
   "source": [
    "## también, los diccionarios pueden escribirse manualmente. Los pares están separados por comas, mientras que dentro de cada par\n",
    "## usamos :\n",
    "\n",
    "D = {1: 'huk', 2: 'iskay'}"
   ]
  },
  {
   "cell_type": "code",
   "execution_count": 7,
   "metadata": {},
   "outputs": [
    {
     "data": {
      "text/plain": [
       "{1: 'huk', 2: 'iskay'}"
      ]
     },
     "execution_count": 7,
     "metadata": {},
     "output_type": "execute_result"
    }
   ],
   "source": [
    "D"
   ]
  },
  {
   "cell_type": "code",
   "execution_count": 8,
   "metadata": {},
   "outputs": [],
   "source": [
    "## en general, los keys son strings o enteros; los values son cualquier cosa, cualquier cosa!"
   ]
  },
  {
   "cell_type": "code",
   "execution_count": 9,
   "metadata": {},
   "outputs": [],
   "source": [
    "## ¿Cómo rellenamos D de forma más automatizada?\n",
    "## obviamente, con un ciclo for\n",
    "\n",
    "## usamos los índices\n",
    "for i in range(len(lista_numeros_1_19)):\n",
    "    ## extrañamente, también accedemos a los values usando paréntesis cuadrados! (cosas de Python)\n",
    "    ## sumamos 1, porque los índices empiezan de cero\n",
    "    ## en esta línea, se asigna un key (al modo de la entrada de un diccionaro \"real\") a un value (el significado de ese\n",
    "    ## diccionario \"real\"). Esta asignación se hace con \"=\"\n",
    "    D[i+1] = lista_numeros_1_19[i]"
   ]
  },
  {
   "cell_type": "code",
   "execution_count": 10,
   "metadata": {},
   "outputs": [
    {
     "data": {
      "text/plain": [
       "{1: 'huk',\n",
       " 2: 'iskay',\n",
       " 3: 'kimsa',\n",
       " 4: 'tawa',\n",
       " 5: 'pichqa',\n",
       " 6: 'suqta',\n",
       " 7: 'qanchis',\n",
       " 8: 'pusaq',\n",
       " 9: 'isqun',\n",
       " 10: 'chunka',\n",
       " 11: 'chunka huk-ni-yuq',\n",
       " 12: 'chunka iskay-ni-yuq',\n",
       " 13: 'chunka kimsa-yuq',\n",
       " 14: 'chunka tawa-yuq',\n",
       " 15: 'chunka pichqa-yuq',\n",
       " 16: 'chunka suqta-yuq',\n",
       " 17: 'chunka qanchis-ni-yuq',\n",
       " 18: 'chunka pusaq-ni-yuq',\n",
       " 19: 'chunka isqun-ni-yuq'}"
      ]
     },
     "execution_count": 10,
     "metadata": {},
     "output_type": "execute_result"
    }
   ],
   "source": [
    "D"
   ]
  },
  {
   "cell_type": "code",
   "execution_count": 11,
   "metadata": {},
   "outputs": [],
   "source": [
    "## otra forma\n",
    "D = {}\n",
    "\n",
    "## usamos los números de la lista\n",
    "for numero in lista_numeros_1_19:\n",
    "    ## ¿cómo accedemos el índice del número?\n",
    "    i = lista_numeros_1_19.index(numero)\n",
    "    ## sumamos 1, porque los índices empiezan de cero\n",
    "    ## en esta línea, se asigna un key (al modo de la entrada de un diccionaro \"real\") a un value (el significado de ese\n",
    "    ## diccionario \"real\"). Esta asignación se hace con \"=\"\n",
    "    D[i+1] = lista_numeros_1_19[i]"
   ]
  },
  {
   "cell_type": "code",
   "execution_count": 12,
   "metadata": {},
   "outputs": [
    {
     "data": {
      "text/plain": [
       "'chunka huk-ni-yuq'"
      ]
     },
     "execution_count": 12,
     "metadata": {},
     "output_type": "execute_result"
    }
   ],
   "source": [
    "## ahora, para acceder a un número no usamos su índice, como en las listas, sino que su identificador: el número entero asociado\n",
    "\n",
    "D[11]"
   ]
  },
  {
   "cell_type": "code",
   "execution_count": 13,
   "metadata": {},
   "outputs": [],
   "source": [
    "## 11 no es el índice 11! es el key 11 ¿Cómo agregaríamos otro elemento al diccionario?\n",
    "## simplemente lo asignamos!\n",
    "\n",
    "D[100] = 'pachak'"
   ]
  },
  {
   "cell_type": "code",
   "execution_count": 14,
   "metadata": {},
   "outputs": [
    {
     "data": {
      "text/plain": [
       "{1: 'huk',\n",
       " 2: 'iskay',\n",
       " 3: 'kimsa',\n",
       " 4: 'tawa',\n",
       " 5: 'pichqa',\n",
       " 6: 'suqta',\n",
       " 7: 'qanchis',\n",
       " 8: 'pusaq',\n",
       " 9: 'isqun',\n",
       " 10: 'chunka',\n",
       " 11: 'chunka huk-ni-yuq',\n",
       " 12: 'chunka iskay-ni-yuq',\n",
       " 13: 'chunka kimsa-yuq',\n",
       " 14: 'chunka tawa-yuq',\n",
       " 15: 'chunka pichqa-yuq',\n",
       " 16: 'chunka suqta-yuq',\n",
       " 17: 'chunka qanchis-ni-yuq',\n",
       " 18: 'chunka pusaq-ni-yuq',\n",
       " 19: 'chunka isqun-ni-yuq',\n",
       " 100: 'pachak'}"
      ]
     },
     "execution_count": 14,
     "metadata": {},
     "output_type": "execute_result"
    }
   ],
   "source": [
    "D"
   ]
  },
  {
   "cell_type": "code",
   "execution_count": 15,
   "metadata": {},
   "outputs": [],
   "source": [
    "## algo de terminología de diccionarios en Python. Los diccionarios parecen estar formados por dos listas. Más formalmente,\n",
    "## tenemos, keys y values\n",
    "\n",
    "enteros = list(D.keys())\n",
    "string_numeros = list(D.values())"
   ]
  },
  {
   "cell_type": "code",
   "execution_count": 16,
   "metadata": {},
   "outputs": [
    {
     "data": {
      "text/plain": [
       "[1, 2, 3, 4, 5, 6, 7, 8, 9, 10, 11, 12, 13, 14, 15, 16, 17, 18, 19, 100]"
      ]
     },
     "execution_count": 16,
     "metadata": {},
     "output_type": "execute_result"
    }
   ],
   "source": [
    "enteros"
   ]
  },
  {
   "cell_type": "code",
   "execution_count": 17,
   "metadata": {},
   "outputs": [
    {
     "data": {
      "text/plain": [
       "['huk',\n",
       " 'iskay',\n",
       " 'kimsa',\n",
       " 'tawa',\n",
       " 'pichqa',\n",
       " 'suqta',\n",
       " 'qanchis',\n",
       " 'pusaq',\n",
       " 'isqun',\n",
       " 'chunka',\n",
       " 'chunka huk-ni-yuq',\n",
       " 'chunka iskay-ni-yuq',\n",
       " 'chunka kimsa-yuq',\n",
       " 'chunka tawa-yuq',\n",
       " 'chunka pichqa-yuq',\n",
       " 'chunka suqta-yuq',\n",
       " 'chunka qanchis-ni-yuq',\n",
       " 'chunka pusaq-ni-yuq',\n",
       " 'chunka isqun-ni-yuq',\n",
       " 'pachak']"
      ]
     },
     "execution_count": 17,
     "metadata": {},
     "output_type": "execute_result"
    }
   ],
   "source": [
    "string_numeros"
   ]
  },
  {
   "cell_type": "code",
   "execution_count": 18,
   "metadata": {},
   "outputs": [],
   "source": [
    "## un aspecto crucial! los keys son esenciales para crear ciclos for a partir de diccionarios. Esto es MUY importante. \n",
    "## Con los keys, podemos \"recorrer\" un diccionario, accedemos a un value, y hacemos algo. "
   ]
  },
  {
   "cell_type": "markdown",
   "metadata": {},
   "source": [
    "## Ideas centrales de los diccionarios\n",
    "\n",
    "- Los diccionarios son estructuras que almacenan información\n",
    "- El acceso NO es por la posición (o el índice) como en las listas, sino por los **keys** (o entradas del diccionario)\n",
    "- Los diccionarios son de alguna forma dos listas **pegadas**\n",
    "- Los keys son todos distintos!"
   ]
  },
  {
   "cell_type": "code",
   "execution_count": 19,
   "metadata": {},
   "outputs": [],
   "source": [
    "## ¿Cómo reconstruimos un diccionario a partir de las listas enteros y string_numeros?\n",
    "\n",
    "## definimos un diccionario vacío\n",
    "diccionario_1_10 = {}\n",
    "\n",
    "## las dos listas tienen el mismo largo, asi que elegimos cualquiera\n",
    "n = len(enteros)\n",
    "## recorremos usando índices\n",
    "for i in range(n):\n",
    "    ## extraemos el entero\n",
    "    entero = enteros[i]\n",
    "    ## extraemos el string\n",
    "    string_numero = string_numeros[i]\n",
    "    ## ahora, los guardamos en el diccionario\n",
    "    diccionario_1_10[entero] = string_numero"
   ]
  },
  {
   "cell_type": "code",
   "execution_count": 20,
   "metadata": {},
   "outputs": [
    {
     "data": {
      "text/plain": [
       "{1: 'huk',\n",
       " 2: 'iskay',\n",
       " 3: 'kimsa',\n",
       " 4: 'tawa',\n",
       " 5: 'pichqa',\n",
       " 6: 'suqta',\n",
       " 7: 'qanchis',\n",
       " 8: 'pusaq',\n",
       " 9: 'isqun',\n",
       " 10: 'chunka',\n",
       " 11: 'chunka huk-ni-yuq',\n",
       " 12: 'chunka iskay-ni-yuq',\n",
       " 13: 'chunka kimsa-yuq',\n",
       " 14: 'chunka tawa-yuq',\n",
       " 15: 'chunka pichqa-yuq',\n",
       " 16: 'chunka suqta-yuq',\n",
       " 17: 'chunka qanchis-ni-yuq',\n",
       " 18: 'chunka pusaq-ni-yuq',\n",
       " 19: 'chunka isqun-ni-yuq',\n",
       " 100: 'pachak'}"
      ]
     },
     "execution_count": 20,
     "metadata": {},
     "output_type": "execute_result"
    }
   ],
   "source": [
    "diccionario_1_10"
   ]
  },
  {
   "cell_type": "markdown",
   "metadata": {},
   "source": [
    "## ESPACIO PARA DESAFÍOS"
   ]
  },
  {
   "cell_type": "code",
   "execution_count": 21,
   "metadata": {},
   "outputs": [],
   "source": [
    "## con esto, podemos reescribir la función que entrega los números del 1 al 19 en quechua :)\n",
    "\n",
    "##nueva versión\n",
    "\n",
    "## input::: número entero N\n",
    "## output::: string\n",
    "\n",
    "def entero_quec(N):\n",
    "    ## números menores a 20\n",
    "    if N < 20:\n",
    "        ## números menores o iguales a 10\n",
    "        if N <= 10:\n",
    "            ## usamos el diccionario\n",
    "            return diccionario_1_10[N]\n",
    "        ## o sea, números mayores a 10 y menores a 20 (la magia de else)\n",
    "        else:\n",
    "            ## manera simple de extraer la unidad\n",
    "            unidad = N - 10 \n",
    "            ## usamos nuevamente nuestro diccionario para ver qué string es el entero unidad\n",
    "            numero_quec = 'chunka' + ' ' + diccionario_1_10[unidad]\n",
    "            ## ahora usamos el diccionario de terminaciones\n",
    "            ## si termina en consonante\n",
    "            if terminaciones[diccionario_1_10[unidad]] == 'consonante':\n",
    "                return numero_quec + '-ni-yuq'\n",
    "            ## si termina en otro caso, o sea, en vocal\n",
    "            else:\n",
    "                return numero_quec + '-yuq'\n",
    "    else:\n",
    "        ## números mayores a 19\n",
    "        print('estoy trabajando en números tan grandes!')"
   ]
  },
  {
   "cell_type": "code",
   "execution_count": null,
   "metadata": {},
   "outputs": [],
   "source": []
  }
 ],
 "metadata": {
  "colab": {
   "name": "semana-1.ipynb",
   "provenance": []
  },
  "kernelspec": {
   "display_name": "Python 3 (ipykernel)",
   "language": "python",
   "name": "python3"
  },
  "language_info": {
   "codemirror_mode": {
    "name": "ipython",
    "version": 3
   },
   "file_extension": ".py",
   "mimetype": "text/x-python",
   "name": "python",
   "nbconvert_exporter": "python",
   "pygments_lexer": "ipython3",
   "version": "3.9.7"
  }
 },
 "nbformat": 4,
 "nbformat_minor": 1
}
