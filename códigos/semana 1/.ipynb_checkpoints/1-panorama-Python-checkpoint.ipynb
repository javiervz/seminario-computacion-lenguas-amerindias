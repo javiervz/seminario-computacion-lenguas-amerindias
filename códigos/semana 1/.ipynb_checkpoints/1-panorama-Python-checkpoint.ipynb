{
 "cells": [
  {
   "cell_type": "markdown",
   "metadata": {
    "id": "Bonrs-i763k3"
   },
   "source": [
    "# **Seminario de métodos computacionales para lenguas amerindias**\n",
    "### Roberto Zariquiey Biondi, rzariquiey@pucp.edu.pe \n",
    "### Javier Vera Zúñiga, jveraz@pucp.edu.pe"
   ]
  },
  {
   "cell_type": "markdown",
   "metadata": {
    "id": "ZLaPW8tD63k6"
   },
   "source": [
    "# Panorama rápido sobre **Python**\n",
    "\n",
    "## ¿Dónde programar en **Python**?\n",
    "\n",
    "### **Posibilidad 1:** **Anaconda** (recomiendo instalar esto sí o sí en cada laptop)\n",
    "\n",
    "Para esto sigamos los siguientes pasos (este [link](https://medium.com/saturdays-ai/empezando-a-usar-jupyter-notebook-para-python-parte-1-instalaci%C3%B3n-94e97b4c5f37) puede servir):\n",
    "\n",
    "1. Ir a [link para instalar Anaconda](https://docs.anaconda.com/anaconda/install/) y elegir el sistema operativo.\n",
    "2. Si es **Windows** o **Mac** es similar: deben bajar el instalador. Si es **linux** hay que bajar e instalar por terminal.\n",
    "3. Supongamos que tenemos **Windows**. Elijan los bits de su pc, en **configuración** aparece esa información. Luego bajamos el instalador (un .exe) y lo instalamos.\n",
    "4. Pongan **Next** y **I agree** a todo. Esperen un momento. Pueden hacerse un café o un té mientras esperan. Al final aprieten **Next**. Les recomiendo reiniciar el PC.\n",
    "5. Ahora tenemos un programa que se llama **Anaconda**. En el menú, hacen click y en las opciones debería estar **jupyter notebook** o **jupyter lab**. Elijan el que más les guste. \n",
    "6. En una nueva ventana de su navegador, deberían aparecer las carpetas de su pc. Cree una nueva en su lugar favorito. Aprieten **new -> folder**. Dentro de la carpeta, creen un **new --> Python 3**. Y listo!!!\n",
    "\n",
    "### **Posibilidad 2:** **Colab** (recomiendo al menos conocer el uso básico o para trabajar con mapas)\n",
    "\n",
    "En [Colab](https://colab.research.google.com/) pueden abrir **Jupyter Notebooks**. Esto tiene ciertas ventajas y desventajas:\n",
    "\n",
    "**Ventajas**\n",
    "\n",
    "1. No hay que instalar nada. \n",
    "2. La sintaxis es igual a los Jupyter notebooks\n",
    "3. Los mapas no tienen problemas de instalación (de librerías y cosas así). \n",
    "\n",
    "**Desventajas**\n",
    "\n",
    "1. Existen pequeñas dificultades en la lectura de datos.\n",
    "2. Cálculos muy grandes pueden malograrse.\n",
    "\n",
    "### **Posibilidad 3:** Amazon Sagemaker (recomendado, aunque hay que pagar un poco. Hay versiones gratuitas que pueden explorar)\n",
    "\n",
    "En [Link Sagemaker](https://aws.amazon.com/es/pm/sagemaker/), pueden crearse un perfil de **Amazon** para programar en Jupyter en algún computador perdido en el espacio. Tiene el pequeño inconveniente de pagar con tarjeta de crédito. Un uso razonable cuesta alrededor de 10-20 dólares mensuales. \n"
   ]
  },
  {
   "cell_type": "markdown",
   "metadata": {
    "id": "At7d-o9w63k7"
   },
   "source": [
    "## Aspectos esenciales!\n",
    "1. Programar o codificar en **Python** (y quizás en cualquier lenguaje) es crear una lista de instrucciones que resuelven un problema. Es importante, para nuestros fines, proponer problemas bien definidos y simples, que sean expresables usando **Python.**\n",
    "2. Un aspecto esencial de esta codificación es que uno programa para **otros (o para uno mismo del futuro).** Esto es **muy** importante: debemos ser capaces de reproducir nuestros propios códigos para que **otros** lo entiendan. En general, programar debe ser algo que hacemos de forma **pausada**, con el fin de reducir errores y comentar nuestro código. \n",
    "3. Los **comentarios se escriben con \"#\":** usemos todos los comentarios posibles!!! Idealmente, cada línea de código debe tener un comentario (algo simple, pero que indique especialmente cómo hicimos cosas que fueron un poco más complicadas). \n",
    "4. Crear cuenta en [github](https://github.com/)."
   ]
  },
  {
   "cell_type": "markdown",
   "metadata": {},
   "source": [
    "## Elementos de Python\n",
    "**Python** es un **lenguaje de programación**. **Python** ofrece elementos que permiten transformar una tarea (por ejemplo, identificar las vocales de la palabra \"Lima\") en una instrucción que pueda ser resuelta por una máquina. Entre estos **elementos**, podemos mencionar (como una primera mirada):\n",
    "\n",
    "- Palabras de funciones pre-definidas. En general, estas tiene un color verdoso en **Jupyter**. Entre estas, destacan:\n",
    "```python\n",
    "for, in, map, list, int, str, dict, if, else\n",
    "```\n",
    "Estas palabras no podrán ser usadas como nombres de **variables** (como veremos mpás adelante). \n",
    "- Maneras de representar palabras, o **strings**, que son cadenas ordenada de caracteres (reconocidos por **Python**). Simplemente escribimos:\n",
    "```python\n",
    "'Lima'\n",
    "```\n",
    "- El **orden** de esta cadena es un aspecto esencial, que incluso estará presente durante todo el curso (o la vida, si les interesa mucho **Python** :)). Por el momento, tengan en mente que el orden del string 'Lima' permite **recorrerlo**. Es decir, podemos determinar el primer elemento, el segundo, y así.  \n",
    "- **Variables.** Para poder hacer algo con el string 'Lima', lo asignamos a una **variable**. Podemos escribir:\n",
    "```python\n",
    "palabra = 'Lima'\n",
    "```\n",
    "En este mini código, es importante el orden: lo que está a la derecha del signo \"=\" se asigna al nombre \"palabra\". \"palabra\" no es un string, sino el nombre del string 'Lima'. "
   ]
  },
  {
   "cell_type": "markdown",
   "metadata": {},
   "source": [
    "**Ejercicio 1:** ¿Qué ocurre si escribimos? \n",
    "```python\n",
    "palabra = 'Lima'\n",
    "```\n",
    "y luego\n",
    "\n",
    "```python\n",
    "palabra = 'Santiago'\n",
    "```\n",
    "¿Qué es \"palabra\"? "
   ]
  },
  {
   "cell_type": "code",
   "execution_count": 1,
   "metadata": {},
   "outputs": [],
   "source": [
    "palabra = 'Lima'\n",
    "palabra = 'Santiago'\n",
    "palabra = 'Lima'"
   ]
  },
  {
   "cell_type": "code",
   "execution_count": 2,
   "metadata": {},
   "outputs": [
    {
     "data": {
      "text/plain": [
       "'Lima'"
      ]
     },
     "execution_count": 2,
     "metadata": {},
     "output_type": "execute_result"
    }
   ],
   "source": [
    "palabra"
   ]
  },
  {
   "cell_type": "code",
   "execution_count": 3,
   "metadata": {},
   "outputs": [],
   "source": [
    "palabra = 'Santiago'"
   ]
  },
  {
   "cell_type": "code",
   "execution_count": 4,
   "metadata": {},
   "outputs": [
    {
     "data": {
      "text/plain": [
       "'Santiago'"
      ]
     },
     "execution_count": 4,
     "metadata": {},
     "output_type": "execute_result"
    }
   ],
   "source": [
    "palabra"
   ]
  },
  {
   "cell_type": "markdown",
   "metadata": {},
   "source": [
    "Sigamos con los **elementos:**\n",
    "\n",
    "- Formas de construir **instrucciones repetitivas.** Por ejemplo, si queremos recorrer los caracteres de 'Lima' en busca de vocales, usamos un \"for\", de la forma:\n",
    "```python\n",
    "for caracter in 'Lima':\n",
    "        print(caracter)\n",
    "```\n",
    "\n",
    "**Ejercicio 2:** ¿Es el código anterior igual al que mostramos a continuación? ¿Qué diferencias puede encontrar?\n",
    "```python\n",
    "palabra = 'Lima'\n",
    "for caracter in palabra:\n",
    "        print(caracter)\n",
    "```\n",
    "- Formas de expresar **condiciones lógicas.** Por ejemplo, si queremos imprimir las vocales de 'Lima', usamos\n",
    "```python\n",
    "for caracter in 'Lima':\n",
    "        if caracter es vocal:\n",
    "            print(caracter)\n",
    "```"
   ]
  },
  {
   "cell_type": "code",
   "execution_count": 57,
   "metadata": {},
   "outputs": [
    {
     "name": "stdout",
     "output_type": "stream",
     "text": [
      "L\n",
      "i\n",
      "m\n",
      "a\n"
     ]
    }
   ],
   "source": [
    "for caracter in 'Lima':\n",
    "    print(caracter)"
   ]
  },
  {
   "cell_type": "code",
   "execution_count": 58,
   "metadata": {},
   "outputs": [
    {
     "name": "stdout",
     "output_type": "stream",
     "text": [
      "L\n",
      "i\n",
      "m\n",
      "a\n"
     ]
    }
   ],
   "source": [
    "palabra = 'Lima'\n",
    "for caracter in palabra:\n",
    "    print(caracter)"
   ]
  },
  {
   "cell_type": "markdown",
   "metadata": {},
   "source": [
    "**Ejercicio 3:** ¿Cómo podemos decir que un caracter es una vocal? ¿Cómo lo harían?"
   ]
  }
 ],
 "metadata": {
  "colab": {
   "name": "semana-1.ipynb",
   "provenance": []
  },
  "kernelspec": {
   "display_name": "Python 3 (ipykernel)",
   "language": "python",
   "name": "python3"
  },
  "language_info": {
   "codemirror_mode": {
    "name": "ipython",
    "version": 3
   },
   "file_extension": ".py",
   "mimetype": "text/x-python",
   "name": "python",
   "nbconvert_exporter": "python",
   "pygments_lexer": "ipython3",
   "version": "3.9.7"
  }
 },
 "nbformat": 4,
 "nbformat_minor": 1
}
