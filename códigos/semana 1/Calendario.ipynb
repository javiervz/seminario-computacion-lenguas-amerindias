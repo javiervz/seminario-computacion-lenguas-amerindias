{
 "cells": [
  {
   "cell_type": "markdown",
   "id": "120ccac7",
   "metadata": {},
   "source": [
    "## Seminario de métodos computacionales para lenguas amerindias\n",
    "\n",
    "[R.Zariquiey](https://github.com/rzariquiey) y [J. Vera](https://github.com/javiervz). \n",
    "\n",
    "**Calendario (tentativo)**\n",
    "\n",
    "| # clase | tema | contenidos lingüísticos | contenidos computacionales | papers | tareas |\n",
    "| :-: | :-: | :-: | :-: | :-: | :-: |\n",
    "| 1 | introducción a la lingüística computacional | análisis computacional de lenguas amerindias desde Perú | elementos básicos de **Python**, variables |  |  |\n",
    "| 2 | nociones básicas de **Python** | anotación computacional de lenguas ameridindias | variables, listas, ciclos for | papers sobre aproximaciones computacionales a lenguas amerindias |  |              \n",
    "| 3 | nociones básicas de **Python** (continuación) | anotación computacional de lenguas ameridindias | listas, ciclo for, if/else | papers sobre aproximaciones computacionales a lenguas amerindias |   |\n",
    "| 4 | representación de información morfológica | Unimorph | diccionarios | paper sobre Unimorph | tarea 1 |\n",
    "| 5 | representación de información sobre lenguas amerindias | bases de datos tipológicas y lenguas amerindias | diccionarios, uso básico de pandas | paper sobre bases de datos y lenguas amerindias |  |\n",
    "| 6 | Estadísticas sobre lenguas peruanas | panorama sobre lenguas peruanas | diccionarios, estadística básica, gráficos | paper sobre estado de lenguas peruanas |  |\n",
    "| 7 | Comparaciones entre lenguas | distancias tipológicas | diccionarios, cálculos de distancias, representación | paper sobre distancias entre lenguas | entrega tarea 1, tarea 2 |\n",
    "| 8 | archivos de texto | corpus lingüísticos de lenguas amerindias | bases de datos de texto, lectura de archivos de texto, cálculos básicos | paper sobre archivos de texto en lenguas amerindias|  |\n",
    "| 9 | archivos de texto (continuación) | corpus lingüísticos de lenguas amerindias | nociones de complejidad y lenguas amerindias | paper sobre entropía |  | \n",
    "| 10-16 | Seminario de problemas | recapitulación sobre **Python** | problemas sobre datos lingüísticos | | entrega tarea 2 | "
   ]
  },
  {
   "cell_type": "code",
   "execution_count": null,
   "id": "f8526315",
   "metadata": {},
   "outputs": [],
   "source": []
  }
 ],
 "metadata": {
  "kernelspec": {
   "display_name": "Python 3 (ipykernel)",
   "language": "python",
   "name": "python3"
  },
  "language_info": {
   "codemirror_mode": {
    "name": "ipython",
    "version": 3
   },
   "file_extension": ".py",
   "mimetype": "text/x-python",
   "name": "python",
   "nbconvert_exporter": "python",
   "pygments_lexer": "ipython3",
   "version": "3.9.7"
  }
 },
 "nbformat": 4,
 "nbformat_minor": 5
}
