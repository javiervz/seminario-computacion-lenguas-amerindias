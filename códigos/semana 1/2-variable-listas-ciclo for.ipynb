{
 "cells": [
  {
   "cell_type": "markdown",
   "metadata": {
    "id": "Bonrs-i763k3"
   },
   "source": [
    "# **Seminario de métodos computacionales para lenguas amerindias**\n",
    "### Roberto Zariquiey Biondi, rzariquiey@pucp.edu.pe \n",
    "### Javier Vera Zúñiga, jveraz@pucp.edu.pe"
   ]
  },
  {
   "cell_type": "markdown",
   "metadata": {},
   "source": [
    "# Variables en Python\n",
    "Recapitulemos un poco. En la expresión\n",
    "```python\n",
    "palabra = 'Lima'\n",
    "```\n",
    "\n",
    "el contenido (el **string**) 'Lima' se asigna a la variable \"palabra\". Ya sabemos que la variable \"palabra\" tiene como valor el que asignamos en su última asignación. Existen varios tipos de variables:\n",
    "\n",
    "- **Strings.** \n",
    "Si tenemos dos strings, por ejemplo,\n",
    "```python\n",
    "palabra1 = 'Lima'\n",
    "palabra2 = 'Santiago'\n",
    "```\n",
    "\n",
    "podemos concatenarlos (pegarlas) usando\n",
    "```python\n",
    "'Lima' + 'Santiago'\n",
    "```\n",
    "o\n",
    "```python\n",
    "palabra1 + palabra2\n",
    "```\n",
    "o\n",
    "\n",
    "```python\n",
    "palabra3 = palabra1 + palabra2\n",
    "```\n",
    "\n",
    "¿Cuál es la diferencia? ¿Qué hace el operador \"+\"?"
   ]
  },
  {
   "cell_type": "code",
   "execution_count": 4,
   "metadata": {},
   "outputs": [],
   "source": [
    "palabra1 = 'Lima'\n",
    "palabra2 = 'Santiago'"
   ]
  },
  {
   "cell_type": "code",
   "execution_count": 5,
   "metadata": {},
   "outputs": [
    {
     "data": {
      "text/plain": [
       "'Lima'"
      ]
     },
     "execution_count": 5,
     "metadata": {},
     "output_type": "execute_result"
    }
   ],
   "source": [
    "palabra1"
   ]
  },
  {
   "cell_type": "code",
   "execution_count": 6,
   "metadata": {},
   "outputs": [
    {
     "data": {
      "text/plain": [
       "'Santiago'"
      ]
     },
     "execution_count": 6,
     "metadata": {},
     "output_type": "execute_result"
    }
   ],
   "source": [
    "palabra2"
   ]
  },
  {
   "cell_type": "code",
   "execution_count": 7,
   "metadata": {},
   "outputs": [
    {
     "data": {
      "text/plain": [
       "'LimaSantiago'"
      ]
     },
     "execution_count": 7,
     "metadata": {},
     "output_type": "execute_result"
    }
   ],
   "source": [
    "'Lima' + 'Santiago'"
   ]
  },
  {
   "cell_type": "code",
   "execution_count": 8,
   "metadata": {},
   "outputs": [],
   "source": [
    "palabra3 = palabra1 + palabra2"
   ]
  },
  {
   "cell_type": "code",
   "execution_count": 9,
   "metadata": {},
   "outputs": [
    {
     "data": {
      "text/plain": [
       "'LimaSantiago'"
      ]
     },
     "execution_count": 9,
     "metadata": {},
     "output_type": "execute_result"
    }
   ],
   "source": [
    "palabra3"
   ]
  },
  {
   "cell_type": "markdown",
   "metadata": {},
   "source": [
    "- **Números.** Los números tienen dos variantes divertidas:\n",
    "    - **enteros** como 0, 1 o -342\n",
    "    ```python\n",
    "    a = 1\n",
    "    b = 2\n",
    "    ```\n",
    "    - *reales* como 1.1 o -0.01\n",
    "    ```python\n",
    "    a = 1.1\n",
    "    b = -0.1\n",
    "    ```\n",
    "    \n",
    "Como es esperable, podemos sumar los números:\n",
    "\n",
    "```python\n",
    "suma = a + b\n",
    "```\n",
    "\n",
    "¿Qué es \"+\"? ¿Qué puede concluir? Pueden realizarse todas las operaciones posibles, pruebe usando \"*\" y \"/\""
   ]
  },
  {
   "cell_type": "code",
   "execution_count": 10,
   "metadata": {},
   "outputs": [],
   "source": [
    "a = 1"
   ]
  },
  {
   "cell_type": "code",
   "execution_count": 11,
   "metadata": {},
   "outputs": [],
   "source": [
    "b = 2"
   ]
  },
  {
   "cell_type": "code",
   "execution_count": 15,
   "metadata": {},
   "outputs": [],
   "source": [
    "suma = a + b"
   ]
  },
  {
   "cell_type": "code",
   "execution_count": 16,
   "metadata": {},
   "outputs": [
    {
     "data": {
      "text/plain": [
       "3"
      ]
     },
     "execution_count": 16,
     "metadata": {},
     "output_type": "execute_result"
    }
   ],
   "source": [
    "suma"
   ]
  },
  {
   "cell_type": "markdown",
   "metadata": {},
   "source": [
    "- **Estructuras (más) complejas.** Podemos mencionar (por el momento) las listas:\n",
    "\n",
    "```python\n",
    "lista_numeros = [a,b]\n",
    "```\n",
    "\n",
    "que deben convertirse de ahora en adelante en las estructuras favoritas de todos :) Pruebe con las siguientes variantes:\n",
    "\n",
    "```python\n",
    "lista_numeros = lista_numeros + [c]\n",
    "lista_numeros += [d]\n",
    "lista_numeros = [a]*5\n",
    "lista_numeros[0]\n",
    "lista_numeros[-1]\n",
    "len(lista_numeros)\n",
    "```"
   ]
  },
  {
   "cell_type": "code",
   "execution_count": 17,
   "metadata": {},
   "outputs": [],
   "source": [
    "a = 'Lima'\n",
    "b = 'Santiago'"
   ]
  },
  {
   "cell_type": "code",
   "execution_count": 31,
   "metadata": {},
   "outputs": [],
   "source": [
    "c= a +b"
   ]
  },
  {
   "cell_type": "code",
   "execution_count": 32,
   "metadata": {},
   "outputs": [
    {
     "data": {
      "text/plain": [
       "'LimaSantiago'"
      ]
     },
     "execution_count": 32,
     "metadata": {},
     "output_type": "execute_result"
    }
   ],
   "source": [
    "c"
   ]
  },
  {
   "cell_type": "code",
   "execution_count": 33,
   "metadata": {},
   "outputs": [],
   "source": [
    "lista_ciudades = [a,b]"
   ]
  },
  {
   "cell_type": "code",
   "execution_count": 34,
   "metadata": {},
   "outputs": [
    {
     "data": {
      "text/plain": [
       "['Lima', 'Santiago']"
      ]
     },
     "execution_count": 34,
     "metadata": {},
     "output_type": "execute_result"
    }
   ],
   "source": [
    "lista_ciudades"
   ]
  },
  {
   "cell_type": "code",
   "execution_count": 35,
   "metadata": {},
   "outputs": [],
   "source": [
    "lista_ciudades = lista_ciudades + ['Chiloé']"
   ]
  },
  {
   "cell_type": "code",
   "execution_count": 36,
   "metadata": {},
   "outputs": [
    {
     "data": {
      "text/plain": [
       "['Lima', 'Santiago', 'Chiloé']"
      ]
     },
     "execution_count": 36,
     "metadata": {},
     "output_type": "execute_result"
    }
   ],
   "source": [
    "lista_ciudades"
   ]
  },
  {
   "cell_type": "markdown",
   "metadata": {
    "id": "Z94xIrgS63k9"
   },
   "source": [
    "# Una primera mirada a las listas en **Python**\n",
    "En general, los lenguajes de programación ofrecen **estructuras** que almacenan información. En **Python**, todo (o casi) está organizado en torno a las **listas**, definidas como secuencias ordenadas de cosas (cualquier cosa, incluso otras listas). Podemos decir entonces que a **Python** le gustan las **listas** (entonces, a ustedes también). Esta estructura aparece en muchos lados como una manera de ordenar datos, y al mismo tiempo como una forma de iterar operaciones (repetir una tarea una cantidad definida de veces). \n",
    "\n",
    "Una buena estrategia para programar en **Python** es, casi siempre, responder ¿Puedo usar una lista para resolver este problema? Traten siempre de usar **listas** (si no, hay otras estructuras que veremos en las siguientes semanas). "
   ]
  },
  {
   "cell_type": "markdown",
   "metadata": {
    "id": "iy9gV5aa63k-"
   },
   "source": [
    "## Definiciones básicas"
   ]
  },
  {
   "cell_type": "code",
   "execution_count": 52,
   "metadata": {},
   "outputs": [
    {
     "data": {
      "text/plain": [
       "'Lima'"
      ]
     },
     "execution_count": 52,
     "metadata": {},
     "output_type": "execute_result"
    }
   ],
   "source": [
    "a"
   ]
  },
  {
   "cell_type": "code",
   "execution_count": 43,
   "metadata": {},
   "outputs": [],
   "source": [
    "lista_numeros = [a,b]"
   ]
  },
  {
   "cell_type": "code",
   "execution_count": 44,
   "metadata": {},
   "outputs": [
    {
     "data": {
      "text/plain": [
       "[1, 2]"
      ]
     },
     "execution_count": 44,
     "metadata": {},
     "output_type": "execute_result"
    }
   ],
   "source": [
    "lista_numeros"
   ]
  },
  {
   "cell_type": "code",
   "execution_count": 47,
   "metadata": {},
   "outputs": [],
   "source": [
    "a = 'Lima'\n",
    "b = 'Santiago'"
   ]
  },
  {
   "cell_type": "code",
   "execution_count": 48,
   "metadata": {},
   "outputs": [],
   "source": [
    "lista_ciudades = [a,b]"
   ]
  },
  {
   "cell_type": "code",
   "execution_count": 49,
   "metadata": {},
   "outputs": [
    {
     "data": {
      "text/plain": [
       "['Lima', 'Santiago']"
      ]
     },
     "execution_count": 49,
     "metadata": {},
     "output_type": "execute_result"
    }
   ],
   "source": [
    "lista_ciudades"
   ]
  },
  {
   "cell_type": "code",
   "execution_count": 37,
   "metadata": {
    "executionInfo": {
     "elapsed": 292,
     "status": "ok",
     "timestamp": 1629826806864,
     "user": {
      "displayName": "Javier Maximiliano Vera Zuñiga",
      "photoUrl": "",
      "userId": "16439660197950043005"
     },
     "user_tz": 240
    },
    "id": "T7RXrwbm63k_"
   },
   "outputs": [],
   "source": [
    "## definamos la lista A. Las listas se pueden definir vacías\n",
    "\n",
    "A = []\n",
    "\n",
    "## o bien con algún elemento adentro\n",
    "\n",
    "B = ['Lima','Santiago','Chiloé'] "
   ]
  },
  {
   "cell_type": "code",
   "execution_count": 38,
   "metadata": {
    "colab": {
     "base_uri": "https://localhost:8080/"
    },
    "executionInfo": {
     "elapsed": 256,
     "status": "ok",
     "timestamp": 1629826820809,
     "user": {
      "displayName": "Javier Maximiliano Vera Zuñiga",
      "photoUrl": "",
      "userId": "16439660197950043005"
     },
     "user_tz": 240
    },
    "id": "UjOhN679P44u",
    "outputId": "451f3494-68e2-4db0-8b27-f07835ed84f5"
   },
   "outputs": [
    {
     "data": {
      "text/plain": [
       "[]"
      ]
     },
     "execution_count": 38,
     "metadata": {},
     "output_type": "execute_result"
    }
   ],
   "source": [
    "A"
   ]
  },
  {
   "cell_type": "code",
   "execution_count": 39,
   "metadata": {
    "colab": {
     "base_uri": "https://localhost:8080/"
    },
    "executionInfo": {
     "elapsed": 240,
     "status": "ok",
     "timestamp": 1629571629538,
     "user": {
      "displayName": "Javier Maximiliano Vera Zuñiga",
      "photoUrl": "",
      "userId": "16439660197950043005"
     },
     "user_tz": 240
    },
    "id": "ABKSuq-F63k_",
    "outputId": "72e26ae7-e5a5-421a-8995-f47be6b937c5"
   },
   "outputs": [
    {
     "data": {
      "text/plain": [
       "['Lima', 'Santiago', 'Chiloé']"
      ]
     },
     "execution_count": 39,
     "metadata": {},
     "output_type": "execute_result"
    }
   ],
   "source": [
    "B"
   ]
  },
  {
   "cell_type": "code",
   "execution_count": 22,
   "metadata": {
    "id": "aM5VWgVD63lB"
   },
   "outputs": [],
   "source": [
    "## Si notan en las asignaciones anteriores, utilizamos el signo \"=\". En Python (y en muchos lenguajes), este signo \n",
    "## no indica \"igualdad\", sino algo más interesante: en \"A = []\", decimos \"lo que está a la derecha de \"=\" se asigna al nombre\n",
    "## \"A\"."
   ]
  },
  {
   "cell_type": "code",
   "execution_count": 55,
   "metadata": {},
   "outputs": [
    {
     "name": "stdout",
     "output_type": "stream",
     "text": [
      "0\n",
      "3\n"
     ]
    }
   ],
   "source": [
    "print(len(A))\n",
    "print(len(B))"
   ]
  },
  {
   "cell_type": "code",
   "execution_count": 24,
   "metadata": {},
   "outputs": [
    {
     "data": {
      "text/plain": [
       "3"
      ]
     },
     "execution_count": 24,
     "metadata": {},
     "output_type": "execute_result"
    }
   ],
   "source": [
    "len(B)"
   ]
  },
  {
   "cell_type": "code",
   "execution_count": 56,
   "metadata": {
    "colab": {
     "base_uri": "https://localhost:8080/"
    },
    "executionInfo": {
     "elapsed": 303,
     "status": "ok",
     "timestamp": 1629571718065,
     "user": {
      "displayName": "Javier Maximiliano Vera Zuñiga",
      "photoUrl": "",
      "userId": "16439660197950043005"
     },
     "user_tz": 240
    },
    "id": "kh5d_qYp63lD",
    "outputId": "29ac25a3-411b-4788-859d-86d2eeb780a9"
   },
   "outputs": [
    {
     "name": "stdout",
     "output_type": "stream",
     "text": [
      "0\n",
      "3\n"
     ]
    }
   ],
   "source": [
    "## Con \"len\", obtenemos el número de elementos que posee una lista\n",
    "\n",
    "print(len(A)) ## esto es esperable, A no tiene elementos\n",
    "print(len(B)) ## sabemos que B tiene tres elementos, inicialmente"
   ]
  },
  {
   "cell_type": "code",
   "execution_count": 59,
   "metadata": {
    "colab": {
     "base_uri": "https://localhost:8080/"
    },
    "executionInfo": {
     "elapsed": 213,
     "status": "ok",
     "timestamp": 1629571761394,
     "user": {
      "displayName": "Javier Maximiliano Vera Zuñiga",
      "photoUrl": "",
      "userId": "16439660197950043005"
     },
     "user_tz": 240
    },
    "id": "4sPdBzqD63lD",
    "outputId": "89ec2103-bc42-4fc9-807f-c56013f20e0b"
   },
   "outputs": [
    {
     "data": {
      "text/plain": [
       "('Lima', 'Santiago', 'Chiloé')"
      ]
     },
     "execution_count": 59,
     "metadata": {},
     "output_type": "execute_result"
    }
   ],
   "source": [
    "## la propiedad esencial de las listas es que están ordenadas!!!\n",
    "## por esta razón, tienen posiciones! Insisto: los elementos están asociados a un índice, que puede recorrerse\n",
    "## los índices comienzan en 0, o sea terminan en (largo de la lista - 1)\n",
    "\n",
    "B[0],B[1],B[2]"
   ]
  },
  {
   "cell_type": "code",
   "execution_count": 60,
   "metadata": {},
   "outputs": [
    {
     "data": {
      "text/plain": [
       "3"
      ]
     },
     "execution_count": 60,
     "metadata": {},
     "output_type": "execute_result"
    }
   ],
   "source": [
    "len(B)"
   ]
  },
  {
   "cell_type": "code",
   "execution_count": 61,
   "metadata": {},
   "outputs": [
    {
     "data": {
      "text/plain": [
       "'Chiloé'"
      ]
     },
     "execution_count": 61,
     "metadata": {},
     "output_type": "execute_result"
    }
   ],
   "source": [
    "B[2]"
   ]
  },
  {
   "cell_type": "code",
   "execution_count": 62,
   "metadata": {
    "colab": {
     "base_uri": "https://localhost:8080/",
     "height": 207
    },
    "executionInfo": {
     "elapsed": 211,
     "status": "error",
     "timestamp": 1629572125524,
     "user": {
      "displayName": "Javier Maximiliano Vera Zuñiga",
      "photoUrl": "",
      "userId": "16439660197950043005"
     },
     "user_tz": 240
    },
    "id": "1XZ3XZgQ63lG",
    "outputId": "e2be70e5-60e3-488b-b3e0-f7a82aab9d3e"
   },
   "outputs": [
    {
     "ename": "IndexError",
     "evalue": "list index out of range",
     "output_type": "error",
     "traceback": [
      "\u001b[1;31m---------------------------------------------------------------------------\u001b[0m",
      "\u001b[1;31mIndexError\u001b[0m                                Traceback (most recent call last)",
      "\u001b[1;32m<ipython-input-62-0c26308def07>\u001b[0m in \u001b[0;36m<module>\u001b[1;34m\u001b[0m\n\u001b[0;32m      1\u001b[0m \u001b[1;31m## ¿Qué pasa si imprimimos B[3]? ¿A[0]?\u001b[0m\u001b[1;33m\u001b[0m\u001b[1;33m\u001b[0m\u001b[1;33m\u001b[0m\u001b[0m\n\u001b[0;32m      2\u001b[0m \u001b[1;33m\u001b[0m\u001b[0m\n\u001b[1;32m----> 3\u001b[1;33m \u001b[0mA\u001b[0m\u001b[1;33m[\u001b[0m\u001b[1;36m0\u001b[0m\u001b[1;33m]\u001b[0m\u001b[1;33m\u001b[0m\u001b[1;33m\u001b[0m\u001b[0m\n\u001b[0m",
      "\u001b[1;31mIndexError\u001b[0m: list index out of range"
     ]
    }
   ],
   "source": [
    "## ¿Qué pasa si imprimimos B[3]? ¿A[0]?\n",
    "\n",
    "A[0]"
   ]
  },
  {
   "cell_type": "code",
   "execution_count": 63,
   "metadata": {
    "id": "u_b-UKu_63lH"
   },
   "outputs": [],
   "source": [
    "## si imprimimos la línea anterior, obtenemos un \"IndexError\". Es decir, Python nos dice que no existen elementos asociados a tales índices\n",
    "## noten que el máximo índice posible es \"largo de la lista menos 1\"!!!"
   ]
  },
  {
   "cell_type": "code",
   "execution_count": 64,
   "metadata": {
    "id": "0EIsqsZA63lI"
   },
   "outputs": [],
   "source": [
    "## => solo podemos imprimir los elementos en posiciones menores al largo\n",
    "\n",
    "b = len(B)\n",
    "a = len(A)"
   ]
  },
  {
   "cell_type": "code",
   "execution_count": 65,
   "metadata": {
    "colab": {
     "base_uri": "https://localhost:8080/"
    },
    "executionInfo": {
     "elapsed": 219,
     "status": "ok",
     "timestamp": 1629572167743,
     "user": {
      "displayName": "Javier Maximiliano Vera Zuñiga",
      "photoUrl": "",
      "userId": "16439660197950043005"
     },
     "user_tz": 240
    },
    "id": "2e6eU6Fx63lI",
    "outputId": "1480ccd3-c3c0-40e3-add7-f3a4c3f8df29"
   },
   "outputs": [
    {
     "name": "stdout",
     "output_type": "stream",
     "text": [
      "0\n",
      "3\n"
     ]
    }
   ],
   "source": [
    "print(a)\n",
    "print(b)"
   ]
  },
  {
   "cell_type": "code",
   "execution_count": 71,
   "metadata": {
    "id": "sQC_nd-k63lI"
   },
   "outputs": [],
   "source": [
    "## ahora, los enteros \"a\" y \"b\" tienen un espacio de memoria asignado que guarda los valores 0 y 3. Podemos utilizarlos \n",
    "## como queramos, por ejemplo\n",
    "\n",
    "numero_resultado = a+3/(2-b)"
   ]
  },
  {
   "cell_type": "code",
   "execution_count": 72,
   "metadata": {
    "colab": {
     "base_uri": "https://localhost:8080/"
    },
    "executionInfo": {
     "elapsed": 5,
     "status": "ok",
     "timestamp": 1629572175980,
     "user": {
      "displayName": "Javier Maximiliano Vera Zuñiga",
      "photoUrl": "",
      "userId": "16439660197950043005"
     },
     "user_tz": 240
    },
    "id": "L2OjN1S263lI",
    "outputId": "008a1def-fc04-4f3f-a63e-26fcf3bc8c0d"
   },
   "outputs": [
    {
     "data": {
      "text/plain": [
       "-3.0"
      ]
     },
     "execution_count": 72,
     "metadata": {},
     "output_type": "execute_result"
    }
   ],
   "source": [
    "numero_resultado"
   ]
  },
  {
   "cell_type": "markdown",
   "metadata": {
    "id": "oSUAP_3163lJ"
   },
   "source": [
    "## agreguemos elementos a listas! :) \n",
    "Las listas son como una **cola** de personas en las cajas de un supermercado. El primero que llega (si nadie se aprovecha) es el primero en ser atendido. Entonces, agregar elementos a una lista implica que estos queden al final "
   ]
  },
  {
   "cell_type": "code",
   "execution_count": 73,
   "metadata": {},
   "outputs": [
    {
     "data": {
      "text/plain": [
       "[]"
      ]
     },
     "execution_count": 73,
     "metadata": {},
     "output_type": "execute_result"
    }
   ],
   "source": [
    "A"
   ]
  },
  {
   "cell_type": "code",
   "execution_count": 91,
   "metadata": {
    "id": "95hNGEKE63lJ"
   },
   "outputs": [],
   "source": [
    "## ¿Agregar elementos? Sabemos el símbolo \"=\" no es \"igual\": indica que lo que está a la\n",
    "## derecha de \"=\" se asigna a lo que está a la izquierda de \"=\"\n",
    "## ¿Qué pasa si aprietan \"run\" muchas veces?\n",
    "\n",
    "A = A + ['chao']\n",
    "\n",
    "## Lo anterior es equivalente a:\n",
    "## A += ['chao']"
   ]
  },
  {
   "cell_type": "code",
   "execution_count": 92,
   "metadata": {
    "colab": {
     "base_uri": "https://localhost:8080/"
    },
    "executionInfo": {
     "elapsed": 202,
     "status": "ok",
     "timestamp": 1629572256232,
     "user": {
      "displayName": "Javier Maximiliano Vera Zuñiga",
      "photoUrl": "",
      "userId": "16439660197950043005"
     },
     "user_tz": 240
    },
    "id": "Jh6SmiuJ63lJ",
    "outputId": "258cabb5-af26-46a9-ab27-596ad1fa8e7c"
   },
   "outputs": [
    {
     "data": {
      "text/plain": [
       "['chao', 'chao', 'chao', 'chao', 'chao', 'chao', 'chao', 'chao', 'chao']"
      ]
     },
     "execution_count": 92,
     "metadata": {},
     "output_type": "execute_result"
    }
   ],
   "source": [
    "A"
   ]
  },
  {
   "cell_type": "code",
   "execution_count": 42,
   "metadata": {
    "id": "jKdcMjyi63lJ"
   },
   "outputs": [],
   "source": [
    "## el símbolo \"+\" indica \"concatenación\", y se usa en muchos contextos!. Noten que para agregar 'hola' a A, es necesario que \n",
    "##'hola' esté adentro de una lista, es decir ['hola']. En general, podemos concatenar (usando \"+\") elementos del mismo tipo. \n",
    "## Prueben la siguiente asignación y miren el error!"
   ]
  },
  {
   "cell_type": "code",
   "execution_count": 43,
   "metadata": {
    "colab": {
     "base_uri": "https://localhost:8080/",
     "height": 171
    },
    "executionInfo": {
     "elapsed": 213,
     "status": "error",
     "timestamp": 1629572274979,
     "user": {
      "displayName": "Javier Maximiliano Vera Zuñiga",
      "photoUrl": "",
      "userId": "16439660197950043005"
     },
     "user_tz": 240
    },
    "id": "Hvb0p7TC63lK",
    "outputId": "0e55d87a-f62a-41be-e1f5-2488bc826f9c"
   },
   "outputs": [
    {
     "ename": "TypeError",
     "evalue": "can only concatenate list (not \"str\") to list",
     "output_type": "error",
     "traceback": [
      "\u001b[1;31m---------------------------------------------------------------------------\u001b[0m",
      "\u001b[1;31mTypeError\u001b[0m                                 Traceback (most recent call last)",
      "\u001b[1;32m~\\AppData\\Local\\Temp/ipykernel_11660/2788445238.py\u001b[0m in \u001b[0;36m<module>\u001b[1;34m\u001b[0m\n\u001b[1;32m----> 1\u001b[1;33m \u001b[0mA\u001b[0m \u001b[1;33m=\u001b[0m \u001b[0mA\u001b[0m \u001b[1;33m+\u001b[0m \u001b[1;34m'hola'\u001b[0m\u001b[1;33m\u001b[0m\u001b[1;33m\u001b[0m\u001b[0m\n\u001b[0m",
      "\u001b[1;31mTypeError\u001b[0m: can only concatenate list (not \"str\") to list"
     ]
    }
   ],
   "source": [
    "A = A + 'hola'"
   ]
  },
  {
   "cell_type": "code",
   "execution_count": 44,
   "metadata": {
    "colab": {
     "base_uri": "https://localhost:8080/"
    },
    "executionInfo": {
     "elapsed": 221,
     "status": "ok",
     "timestamp": 1629572280246,
     "user": {
      "displayName": "Javier Maximiliano Vera Zuñiga",
      "photoUrl": "",
      "userId": "16439660197950043005"
     },
     "user_tz": 240
    },
    "id": "gW94ktps63lK",
    "outputId": "ba0b4206-7d4a-4ff6-e6f3-e2ec72aec07b"
   },
   "outputs": [
    {
     "data": {
      "text/plain": [
       "['chao']"
      ]
     },
     "execution_count": 44,
     "metadata": {},
     "output_type": "execute_result"
    }
   ],
   "source": [
    "## miremos A\n",
    "\n",
    "A"
   ]
  },
  {
   "cell_type": "markdown",
   "metadata": {
    "id": "iLijWRP663lL"
   },
   "source": [
    "## listas y ciclos for :)"
   ]
  },
  {
   "cell_type": "code",
   "execution_count": 95,
   "metadata": {},
   "outputs": [
    {
     "data": {
      "text/plain": [
       "9"
      ]
     },
     "execution_count": 95,
     "metadata": {},
     "output_type": "execute_result"
    }
   ],
   "source": [
    "len(A)"
   ]
  },
  {
   "cell_type": "code",
   "execution_count": 96,
   "metadata": {},
   "outputs": [],
   "source": [
    "#A += ['hola']\n",
    "A = A + ['hola']"
   ]
  },
  {
   "cell_type": "code",
   "execution_count": 105,
   "metadata": {},
   "outputs": [],
   "source": [
    "A = []"
   ]
  },
  {
   "cell_type": "code",
   "execution_count": 106,
   "metadata": {},
   "outputs": [],
   "source": [
    "A = ['chao']*9+['hola']"
   ]
  },
  {
   "cell_type": "code",
   "execution_count": 107,
   "metadata": {
    "colab": {
     "base_uri": "https://localhost:8080/"
    },
    "executionInfo": {
     "elapsed": 216,
     "status": "ok",
     "timestamp": 1629572935227,
     "user": {
      "displayName": "Javier Maximiliano Vera Zuñiga",
      "photoUrl": "",
      "userId": "16439660197950043005"
     },
     "user_tz": 240
    },
    "id": "bJ8IsGhO63lL",
    "outputId": "071adbf1-6be8-4eb6-ea75-9f99d10423fa"
   },
   "outputs": [
    {
     "name": "stdout",
     "output_type": "stream",
     "text": [
      "chao\n",
      "chao\n",
      "chao\n",
      "chao\n",
      "chao\n",
      "chao\n",
      "chao\n",
      "chao\n",
      "chao\n",
      "hola\n"
     ]
    }
   ],
   "source": [
    "## ¿Podemos automatizar el proceso de agregar elementos a una lista? Sí se puede!!!, usemos \"ciclos for\"!!!\n",
    "## Un ciclo \"for\" ejecuta una acción muchas veces, y esas veces están definidas con una lista!!!\n",
    "\n",
    "for item in A: ## ciclo \"for\" definido con los elementos de A\n",
    "    print(item)"
   ]
  },
  {
   "cell_type": "code",
   "execution_count": 99,
   "metadata": {},
   "outputs": [
    {
     "data": {
      "text/plain": [
       "'hola'"
      ]
     },
     "execution_count": 99,
     "metadata": {},
     "output_type": "execute_result"
    }
   ],
   "source": [
    "item"
   ]
  },
  {
   "cell_type": "code",
   "execution_count": 45,
   "metadata": {
    "id": "SnBwUc4C63lN"
   },
   "outputs": [],
   "source": [
    "## Para Python, las listas y los ciclos \"for\" son lo mismo! Esto puede parecer raro al principio, pero encierra algo\n",
    "## muy conveniente, que iremos aprendiendo. "
   ]
  },
  {
   "cell_type": "markdown",
   "metadata": {
    "id": "Gq8dgp9463lO"
   },
   "source": [
    "Desmenucemos un poco el ciclo **for** de más arriba. \n",
    "\n",
    "La primera línea\n",
    "```python\n",
    "for item in A:\n",
    "```\n",
    "tiene varios elementos: (1) **for**; (2) **item**; (3) **in**; (4) **A**; y (5) **:**.\n",
    "1. **for**: esta palabra (que se colorea en **jupyter**) es un indicador de que viene un **ciclo for.**\n",
    "2. **item** es un nombre: **Python** nos dice que en cada paso del ciclo **for** tomamos un nuevo elemento de **A** que se llama **item**. Podríamos usar cualquier nombre. \n",
    "3. **in** es otra palabra coloreada (que no podemos usar como nombre para algo) y que dice **dónde**.\n",
    "4. **A** es la lista que recorremos!\n",
    "5. El signo **:** es imprescindible. Además, si apretamos **enter** luego de este signo, el salto de línea aparece automáticamente. \n",
    "\n",
    "La segunda línea\n",
    "```python\n",
    "print(item)\n",
    "```\n",
    "siempre indica qué queremos hacer en cada paso. "
   ]
  },
  {
   "cell_type": "code",
   "execution_count": 108,
   "metadata": {},
   "outputs": [
    {
     "name": "stdout",
     "output_type": "stream",
     "text": [
      "chao\n",
      "chao\n",
      "chao\n",
      "chao\n",
      "chao\n",
      "chao\n",
      "chao\n",
      "chao\n",
      "chao\n",
      "hola\n"
     ]
    }
   ],
   "source": [
    "for item in A: ## ciclo \"for\" definido con los elementos de A\n",
    "    print(item)"
   ]
  },
  {
   "cell_type": "code",
   "execution_count": null,
   "metadata": {},
   "outputs": [],
   "source": [
    "A = []"
   ]
  },
  {
   "cell_type": "code",
   "execution_count": 114,
   "metadata": {},
   "outputs": [
    {
     "data": {
      "text/plain": [
       "('chao', 'chao', 'chao', 'hola')"
      ]
     },
     "execution_count": 114,
     "metadata": {},
     "output_type": "execute_result"
    }
   ],
   "source": [
    "A[0],A[1],A[2],A[9]"
   ]
  },
  {
   "cell_type": "code",
   "execution_count": 117,
   "metadata": {},
   "outputs": [
    {
     "data": {
      "text/plain": [
       "[0, 1, 2, 3, 4, 5, 6, 7, 8, 9]"
      ]
     },
     "execution_count": 117,
     "metadata": {},
     "output_type": "execute_result"
    }
   ],
   "source": [
    "range(len(A))"
   ]
  },
  {
   "cell_type": "code",
   "execution_count": 121,
   "metadata": {},
   "outputs": [
    {
     "data": {
      "text/plain": [
       "[0, 1, 2, 3, 4, 5, 6, 7, 8, 9]"
      ]
     },
     "execution_count": 121,
     "metadata": {},
     "output_type": "execute_result"
    }
   ],
   "source": [
    "list(range(10))"
   ]
  },
  {
   "cell_type": "code",
   "execution_count": 120,
   "metadata": {},
   "outputs": [
    {
     "name": "stdout",
     "output_type": "stream",
     "text": [
      "chao\n",
      "chao\n",
      "chao\n",
      "chao\n",
      "chao\n",
      "chao\n",
      "chao\n",
      "chao\n",
      "chao\n",
      "hola\n"
     ]
    }
   ],
   "source": [
    "for item in A:\n",
    "    print(item)"
   ]
  },
  {
   "cell_type": "code",
   "execution_count": 129,
   "metadata": {},
   "outputs": [],
   "source": [
    "i = 100"
   ]
  },
  {
   "cell_type": "code",
   "execution_count": 130,
   "metadata": {},
   "outputs": [
    {
     "data": {
      "text/plain": [
       "100"
      ]
     },
     "execution_count": 130,
     "metadata": {},
     "output_type": "execute_result"
    }
   ],
   "source": [
    "i"
   ]
  },
  {
   "cell_type": "code",
   "execution_count": null,
   "metadata": {},
   "outputs": [],
   "source": [
    "'Lima'\n",
    "\n",
    "['lim','ima','ma']"
   ]
  },
  {
   "cell_type": "code",
   "execution_count": 132,
   "metadata": {},
   "outputs": [
    {
     "name": "stdout",
     "output_type": "stream",
     "text": [
      "L\n",
      "i\n",
      "m\n",
      "a\n"
     ]
    }
   ],
   "source": [
    "A = 'Lima'\n",
    "\n",
    "for c in A:\n",
    "    print(c)"
   ]
  },
  {
   "cell_type": "code",
   "execution_count": 128,
   "metadata": {},
   "outputs": [],
   "source": [
    "## ¿qué for en qué situación? falta ejemplos!\n",
    "## ¿qué se puede hacer con un ciclo for en un análisis lingüístico?"
   ]
  },
  {
   "cell_type": "code",
   "execution_count": 131,
   "metadata": {},
   "outputs": [
    {
     "name": "stdout",
     "output_type": "stream",
     "text": [
      "0 chao\n",
      "1 chao\n",
      "2 chao\n",
      "3 chao\n",
      "4 chao\n",
      "5 chao\n",
      "6 chao\n",
      "7 chao\n",
      "8 chao\n",
      "9 hola\n"
     ]
    }
   ],
   "source": [
    "for i in range(len(A)): ## ciclo \"for\" definido con los índices (las posiciones) de A\n",
    "    print(i,A[i])"
   ]
  },
  {
   "cell_type": "code",
   "execution_count": 125,
   "metadata": {
    "colab": {
     "base_uri": "https://localhost:8080/"
    },
    "executionInfo": {
     "elapsed": 213,
     "status": "ok",
     "timestamp": 1629573021666,
     "user": {
      "displayName": "Javier Maximiliano Vera Zuñiga",
      "photoUrl": "",
      "userId": "16439660197950043005"
     },
     "user_tz": 240
    },
    "id": "Mpj-E4VF63lP",
    "outputId": "73bed206-8ac8-4fa1-ab05-5878d0476d10"
   },
   "outputs": [
    {
     "name": "stdout",
     "output_type": "stream",
     "text": [
      "0 chao\n",
      "1 chao\n",
      "2 chao\n",
      "3 chao\n",
      "4 chao\n",
      "5 chao\n",
      "6 chao\n",
      "7 chao\n",
      "8 chao\n",
      "9 hola\n"
     ]
    }
   ],
   "source": [
    "## escribir bien range\n",
    "## otra versión de lo mismo. Un ciclo \"for\" puede recorrer directamente los elementos de una lista, como arriba, o bien los\n",
    "## elementos asociados a posiciones específicas. Veamos!\n",
    "\n",
    "for i in range(len(A)): ## ciclo \"for\" definido con los índices (las posiciones) de A\n",
    "    print(i,A[i]+'-chao')"
   ]
  },
  {
   "cell_type": "code",
   "execution_count": 124,
   "metadata": {},
   "outputs": [
    {
     "data": {
      "text/plain": [
       "9"
      ]
     },
     "execution_count": 124,
     "metadata": {},
     "output_type": "execute_result"
    }
   ],
   "source": [
    "i"
   ]
  },
  {
   "cell_type": "code",
   "execution_count": 47,
   "metadata": {
    "colab": {
     "base_uri": "https://localhost:8080/"
    },
    "executionInfo": {
     "elapsed": 220,
     "status": "ok",
     "timestamp": 1629573515416,
     "user": {
      "displayName": "Javier Maximiliano Vera Zuñiga",
      "photoUrl": "",
      "userId": "16439660197950043005"
     },
     "user_tz": 240
    },
    "id": "Cm6o1-GN63lR",
    "outputId": "ce34d64f-3821-4093-ed69-623a0761307c"
   },
   "outputs": [
    {
     "name": "stdout",
     "output_type": "stream",
     "text": [
      "range(0, 1)\n",
      "[0]\n"
     ]
    }
   ],
   "source": [
    "## range!\n",
    "\n",
    "print(range(len(A)))\n",
    "print(list(range(len(A))))"
   ]
  },
  {
   "cell_type": "code",
   "execution_count": 48,
   "metadata": {
    "id": "aS5VX_4i63lR"
   },
   "outputs": [],
   "source": [
    "## es decir, \"range(X)\" entrega todos los números entre 0 y X-1. \"range\" es, a su vez, un tipo de lista. \n",
    "## Conclusión: ciclos \"for\" son equivalentes a listas. Eso es muy cómodo!\n",
    "\n",
    "for i in range(len(A)):\n",
    "    A = A + ['hola'] ## aquí en cada paso agregamos 'hola' a \"A\""
   ]
  },
  {
   "cell_type": "code",
   "execution_count": 49,
   "metadata": {
    "colab": {
     "base_uri": "https://localhost:8080/"
    },
    "executionInfo": {
     "elapsed": 208,
     "status": "ok",
     "timestamp": 1629573540797,
     "user": {
      "displayName": "Javier Maximiliano Vera Zuñiga",
      "photoUrl": "",
      "userId": "16439660197950043005"
     },
     "user_tz": 240
    },
    "id": "Ru9JsGCc63lR",
    "outputId": "4c28ada5-efb8-4c9b-f0fb-f6d473e037e4"
   },
   "outputs": [
    {
     "name": "stdout",
     "output_type": "stream",
     "text": [
      "['chao', 'hola']\n"
     ]
    }
   ],
   "source": [
    "print(A)"
   ]
  },
  {
   "cell_type": "code",
   "execution_count": 50,
   "metadata": {
    "colab": {
     "base_uri": "https://localhost:8080/"
    },
    "executionInfo": {
     "elapsed": 200,
     "status": "ok",
     "timestamp": 1629573557361,
     "user": {
      "displayName": "Javier Maximiliano Vera Zuñiga",
      "photoUrl": "",
      "userId": "16439660197950043005"
     },
     "user_tz": 240
    },
    "id": "OnwBB08963lR",
    "outputId": "0cab4c16-c1a5-48b9-fc97-af76d906f35b"
   },
   "outputs": [
    {
     "name": "stdout",
     "output_type": "stream",
     "text": [
      "2\n",
      "3\n",
      "['chao', 'hola', 'Lima', 'Santiago', 'Chiloé']\n",
      "5\n"
     ]
    }
   ],
   "source": [
    "## otro ejemplo: \n",
    "\n",
    "print(len(A))\n",
    "print(len(B))\n",
    "\n",
    "for item in B:\n",
    "    A = A + [item]\n",
    "\n",
    "print(A)\n",
    "print(len(A))\n",
    "\n",
    "## Es decir, agregamos (por cada elemento de B) un 'hola' a A!"
   ]
  },
  {
   "cell_type": "code",
   "execution_count": 51,
   "metadata": {
    "id": "tntGEVIl63lS"
   },
   "outputs": [],
   "source": [
    "## otro ejemplo: definimos una lista vacía y guardamos los elementos de \"A\" en \"C\". \n",
    "\n",
    "C = []\n",
    "for item in A:\n",
    "    C = C + ['hola']"
   ]
  },
  {
   "cell_type": "code",
   "execution_count": 52,
   "metadata": {
    "colab": {
     "base_uri": "https://localhost:8080/"
    },
    "executionInfo": {
     "elapsed": 397,
     "status": "ok",
     "timestamp": 1629573579534,
     "user": {
      "displayName": "Javier Maximiliano Vera Zuñiga",
      "photoUrl": "",
      "userId": "16439660197950043005"
     },
     "user_tz": 240
    },
    "id": "_bPAWZeP63lS",
    "outputId": "125845cd-fbfd-4a1c-eded-430ae9cc8ace"
   },
   "outputs": [
    {
     "data": {
      "text/plain": [
       "['hola', 'hola', 'hola', 'hola', 'hola']"
      ]
     },
     "execution_count": 52,
     "metadata": {},
     "output_type": "execute_result"
    }
   ],
   "source": [
    "C"
   ]
  },
  {
   "cell_type": "code",
   "execution_count": null,
   "metadata": {},
   "outputs": [],
   "source": [
    "A = ['mesa','gato','perro']"
   ]
  }
 ],
 "metadata": {
  "colab": {
   "name": "semana-1.ipynb",
   "provenance": []
  },
  "kernelspec": {
   "display_name": "Python 3",
   "language": "python",
   "name": "python3"
  },
  "language_info": {
   "codemirror_mode": {
    "name": "ipython",
    "version": 3
   },
   "file_extension": ".py",
   "mimetype": "text/x-python",
   "name": "python",
   "nbconvert_exporter": "python",
   "pygments_lexer": "ipython3",
   "version": "3.8.8"
  }
 },
 "nbformat": 4,
 "nbformat_minor": 1
}
