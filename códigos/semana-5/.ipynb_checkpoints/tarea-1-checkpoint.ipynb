{
 "cells": [
  {
   "cell_type": "markdown",
   "metadata": {
    "id": "Bonrs-i763k3"
   },
   "source": [
    "# **Seminario de métodos computacionales para lenguas amerindias**\n",
    "### Roberto Zariquiey Biondi, rzariquiey@pucp.edu.pe \n",
    "### Javier Vera Zúñiga, jveraz@pucp.edu.pe"
   ]
  },
  {
   "cell_type": "markdown",
   "metadata": {},
   "source": [
    "# Números en Quechua!"
   ]
  },
  {
   "cell_type": "markdown",
   "metadata": {},
   "source": [
    "| número decimal | quechua | número decimal | quechua | número decimal | quechua | número decimal | quechua |\n",
    "| :-: | :-: | :-: | :-: | :-: | :-: |  :-: | :-: | \n",
    "|  1  |  huk  |  10  |  chunka  |  11  |  chunka huk-ni-yuq |  21   |  iskay chunka huk-ni-yuq |\n",
    "|  2  |  iskay  |  20  |  iskay chunka | 12  |  chunka iskay-ni-yuq |  22  |  iskay chunka iskay-ni-yuq |\n",
    "|  3  |  kimsa  |  30  |  kimsa chunka | 13  |  chunka kimsa-yuq |  23   |  iskay chunka kimsa-yuq |\n",
    "|  4  |  tawa  |  40  |  tawa chunka |  14  |  chunka tawa-yuq |  24   |  iskay chunka tawa-yuq |\n",
    "|  5  |  pichqa   |  50  |  pichqa chunka |  15  |  chunka pichqa-yuq |  25   |  iskay chunka pichqa-yuq |\n",
    "|  6  |  suqta  |  60  |  suqta chunka |  16  |  chunka suqta-yuq |  26   |  iskay chunka suqta-yuq |\n",
    "|  7  |  qanchis  |  70  |  qanchis chunka |  17  |  chunka qanchis-ni-yuq | 27   |  iskay chunka qanchis-ni-yuq |\n",
    "|  8  |  pusaq  |  80  |  pusaq chunka |   18  |  chunka pusaq-ni-yuq |28   |  iskay chunka pusaq-ni-yuq |\n",
    "|  9  |  isqun  |  90  |  isqun chunka |   19  |  chunka isqun-ni-yuq |29   |  iskay chunka isqun-ni-yuq |\n",
    "\n",
    "¿Cómo implementamos esto en **Python**? Buscamos un código que **reciba** un número (por ejemplo, 34) y **entregue** el número en **Quechua.**"
   ]
  },
  {
   "cell_type": "code",
   "execution_count": 21,
   "metadata": {},
   "outputs": [],
   "source": [
    "## Definamos los números de 1 a 10\n",
    "\n",
    "numeros_1_10 = ['huk', 'iskay', 'kimsa', 'tawa', 'pichqa', 'suqta', 'qanchis', 'pusaq', 'isqun', 'chunka']"
   ]
  },
  {
   "cell_type": "code",
   "execution_count": 22,
   "metadata": {},
   "outputs": [],
   "source": [
    "## para esto creamos una función que recibe N (el número decimal) y  entrega el número en palabras (Quechua)\n",
    "\n",
    "## input:::N: número decimal\n",
    "## output::: número en palabras (Quechua)\n",
    "def decimal_quec(N):\n",
    "    ## la posicion en la lista numeros_1_10 es N - 1\n",
    "    posicion = N - 1\n",
    "    ## buscamos la posición en la lista\n",
    "    numero_quechua = numeros_1_10[posicion]\n",
    "    ## entregamos el número\n",
    "    return numero_quechua"
   ]
  },
  {
   "cell_type": "code",
   "execution_count": 24,
   "metadata": {},
   "outputs": [
    {
     "data": {
      "text/plain": [
       "'chunka'"
      ]
     },
     "execution_count": 24,
     "metadata": {},
     "output_type": "execute_result"
    }
   ],
   "source": [
    "N = 10\n",
    "\n",
    "decimal_quec(N)"
   ]
  },
  {
   "cell_type": "markdown",
   "metadata": {},
   "source": [
    "Nuestra función solo sirve para números menores o iguales 10, ¿cómo agregamos esta información? En esto, hay una condición lógica encubierta: **si** el número es menor a 10, la función tiene sentido; en otro caso, la función va a fallar. Esto nos recuerda al condicional de la forma **if A, (then) B**, en donde si se cumple cierta condición **A**, ocurrirá **B**. ¿Cómo traducimos estas ideas a **Python**? Vamos por partes:\n",
    "\n",
    "- Condición **if A**: el número es menor a 10\n",
    "```python\n",
    "if N <= 10:\n",
    "```\n",
    "Noten la coloración de **if**, el uso de **in** y el **:** final. \n",
    "\n",
    "- Condición **(then) B**: esta consecuencia equivale a que si se cumple **A**, entonces usamos **sufijo1**\n",
    "```python\n",
    "if N <= 10:\n",
    "    posicion = N - 1 \n",
    "```"
   ]
  },
  {
   "cell_type": "code",
   "execution_count": 25,
   "metadata": {},
   "outputs": [],
   "source": [
    "## input:::N: número decimal\n",
    "## output::: número en palabras (Quechua)\n",
    "def decimal_quec(N):\n",
    "    \n",
    "    ## agregamos la condición\n",
    "    if N <= 10:\n",
    "        ## la posicion en la lista numeros_1_10 es N - 1\n",
    "        posicion = N - 1\n",
    "        ## buscamos la posición en la lista\n",
    "        numero_quechua = numeros_1_10[posicion]\n",
    "        ## entregamos el número\n",
    "        return numero_quechua"
   ]
  },
  {
   "cell_type": "code",
   "execution_count": 26,
   "metadata": {},
   "outputs": [],
   "source": [
    "N = 9000\n",
    "\n",
    "decimal_quec(N)"
   ]
  },
  {
   "cell_type": "markdown",
   "metadata": {},
   "source": [
    "¿Existe una forma de expresar lo que ocurre con números mayores a 10? Esto nos recuerda a uan estructura lógica del tipo **if A, (then) B; else, C**. En este caso, **else, C** indica que en otro caso, o sea, para los números mayores a 10 existe el caso **C**. En **Python**, queda:"
   ]
  },
  {
   "cell_type": "code",
   "execution_count": 28,
   "metadata": {},
   "outputs": [],
   "source": [
    "## input:::N: número decimal\n",
    "## output::: número en palabras (Quechua)\n",
    "def decimal_quec(N):\n",
    "    \n",
    "    ## agregamos la condición\n",
    "    if N <= 10:\n",
    "        ## la posicion en la lista numeros_1_10 es N - 1\n",
    "        posicion = N - 1\n",
    "        ## buscamos la posición en la lista\n",
    "        numero_quechua = numeros_1_10[posicion]\n",
    "        ## entregamos el número\n",
    "        return numero_quechua\n",
    "    ## en otro caso\n",
    "    else:\n",
    "        print('no conozco números tan grandes :(')"
   ]
  },
  {
   "cell_type": "code",
   "execution_count": 31,
   "metadata": {},
   "outputs": [
    {
     "name": "stdout",
     "output_type": "stream",
     "text": [
      "no conozco números tan grandes :(\n"
     ]
    }
   ],
   "source": [
    "N = 11\n",
    "\n",
    "decimal_quec(N)"
   ]
  },
  {
   "cell_type": "markdown",
   "metadata": {},
   "source": [
    "Veamos ahora los números mayores a 10 y menores a 20. ¿Cómo es un número? Para este rango de números, debemos saber cuál es la unidad (ya que la decena es 1). Un pequeño truco!"
   ]
  },
  {
   "cell_type": "code",
   "execution_count": 37,
   "metadata": {},
   "outputs": [],
   "source": [
    "unidad = N - 10"
   ]
  },
  {
   "cell_type": "code",
   "execution_count": 38,
   "metadata": {},
   "outputs": [
    {
     "data": {
      "text/plain": [
       "1"
      ]
     },
     "execution_count": 38,
     "metadata": {},
     "output_type": "execute_result"
    }
   ],
   "source": [
    "unidad"
   ]
  },
  {
   "cell_type": "code",
   "execution_count": 56,
   "metadata": {},
   "outputs": [],
   "source": [
    "## input:::N: número decimal\n",
    "## output::: número en palabras (Quechua)\n",
    "def decimal_quec(N):\n",
    "    \n",
    "    ## desarmamos el número. Interesa la unidad \n",
    "    unidad = N - 10\n",
    "    ## agregamos la condición\n",
    "    if N <= 10:\n",
    "        ## la posicion en la lista numeros_1_10 es N - 1\n",
    "        posicion = N - 1\n",
    "        ## buscamos la posición en la lista\n",
    "        numero_quechua = numeros_1_10[posicion]\n",
    "        ## entregamos el número\n",
    "        return numero_quechua\n",
    "    ## dos condiciones simultáneas\n",
    "    elif N > 10 and N < 20:\n",
    "        ## restamos uno porque la posición empieza en cero\n",
    "        numero_quechua = 'chunka' + ' ' + numeros_1_10[unidad - 1]\n",
    "        ## si termina en vocal, ponemos -yuq\n",
    "        if numero_quechua[-1] in ['a','e','i','o','u']:\n",
    "            numero_quechua = numero_quechua + '-yuq'\n",
    "        ## si termina en consonante\n",
    "        else:\n",
    "            numero_quechua = numero_quechua + '-ni' + '-yuq'\n",
    "        ## entregamos el número\n",
    "        return numero_quechua\n",
    "    ## en otro caso\n",
    "    else:\n",
    "        print('no conozco números tan grandes :(')"
   ]
  },
  {
   "cell_type": "code",
   "execution_count": 57,
   "metadata": {},
   "outputs": [
    {
     "data": {
      "text/plain": [
       "'chunka isqun-ni-yuq'"
      ]
     },
     "execution_count": 57,
     "metadata": {},
     "output_type": "execute_result"
    }
   ],
   "source": [
    "N = 19\n",
    "\n",
    "decimal_quec(N)"
   ]
  },
  {
   "cell_type": "markdown",
   "metadata": {},
   "source": [
    "# Tarea 1\n",
    "## Números en Quechua! [Fuente](https://www.academia.edu/4120815/QAYNA_KUNAN_PAQARIN_Una_introducci%C3%B3n_pr%C3%A1ctica_al_quechua_chanca_Lima_PUCP_2008)\n",
    "\n",
    "## **Plazo** \n",
    "**2 semanas** (entrega el lunes 26 de septiembre)\n",
    "## **Modalidad** \n",
    "Cada estudiante, debe entregar un **jupyter notebook.** Las tareas son individuales, salvo que elijan alguno de los bonus. En ese caso, pueden ser grupos de 1, 2 o 3. \n",
    "## **Objetivo** \n",
    "Implemente una **función** que **reciba un número decimal** (entre 1 y 999) y **entregue** el número expresado en **Quechua.** La función debe usar reglas (**if-else**) para generar los números (**no use** una tabla con los resultados). \n",
    "## **Bonus opcional 1** \n",
    "Implemente una **función** que **reciba** un **número expresado en palabras del Quechua** (entre 1 y 999) y **entregue** el **número decimal** correspondiente.\n",
    "## **Bonus opcional 2** \n",
    "Implemente una **función** que **reciba un número decimal** (entre 1 y 999) y **entregue** el **número expresado** en **otra** lengua Sudamericana (que no sea Quechua). \n",
    "## **Indicaciones**\n",
    "- El **código debe ser ordenado**, y adecuadamente **comentado.**\n",
    "- Utilice las posibilidades que entregan los **jupyter notebook!**\n",
    "- **Experimente** con números de ejemplo. Explore que las funciones que implemente están funcionando correctamente.\n",
    "- **Funciones!** les recomiendo ir creando funciones de complejidad creciente.\n",
    "- Ante cualquier duda/problema, consulte a los profesores. "
   ]
  },
  {
   "cell_type": "code",
   "execution_count": null,
   "metadata": {},
   "outputs": [],
   "source": []
  }
 ],
 "metadata": {
  "colab": {
   "name": "semana-1.ipynb",
   "provenance": []
  },
  "kernelspec": {
   "display_name": "Python 3",
   "language": "python",
   "name": "python3"
  },
  "language_info": {
   "codemirror_mode": {
    "name": "ipython",
    "version": 3
   },
   "file_extension": ".py",
   "mimetype": "text/x-python",
   "name": "python",
   "nbconvert_exporter": "python",
   "pygments_lexer": "ipython3",
   "version": "3.8.8"
  }
 },
 "nbformat": 4,
 "nbformat_minor": 1
}
