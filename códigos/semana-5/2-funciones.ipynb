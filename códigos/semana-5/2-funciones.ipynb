{
 "cells": [
  {
   "cell_type": "markdown",
   "id": "a1bf5850",
   "metadata": {},
   "source": [
    "# **Seminario de métodos computacionales para lenguas amerindias**\n",
    "### Roberto Zariquiey Biondi, rzariquiey@pucp.edu.pe \n",
    "### Javier Vera Zúñiga, jveraz@pucp.edu.pe"
   ]
  },
  {
   "cell_type": "markdown",
   "id": "eb896760",
   "metadata": {},
   "source": [
    "## Funciones en Python\n",
    "Para presentar este concepto fundamental en **Python**, comparemos dos versiones distintas de inflexionar verbos en **Mapudungun.** Partamos con la información. "
   ]
  },
  {
   "cell_type": "code",
   "execution_count": 23,
   "id": "12090284",
   "metadata": {},
   "outputs": [],
   "source": [
    "## verbos\n",
    "\n",
    "verbos = ['Tax', 'Chachi', 'Tash', 'Më', 'Pia a', 'Berua']"
   ]
  },
  {
   "cell_type": "code",
   "execution_count": 35,
   "id": "754a695d",
   "metadata": {},
   "outputs": [],
   "source": [
    "## lista vacía\n",
    "verbos_minuscula = []"
   ]
  },
  {
   "cell_type": "code",
   "execution_count": 31,
   "id": "8f718962",
   "metadata": {},
   "outputs": [],
   "source": [
    "for verbo in verbos:\n",
    "    ## en minuscula\n",
    "    verbo_min = verbo.lower()\n",
    "    ## lo guardo\n",
    "    #verbos_minuscula = verbos_minuscula + [verbo_min]\n",
    "    verbos_minuscula += [verbo_min]"
   ]
  },
  {
   "cell_type": "code",
   "execution_count": 36,
   "id": "0a55a96d",
   "metadata": {},
   "outputs": [],
   "source": [
    "for verbo in verbos:\n",
    "    ## en minuscula y lo guardo\n",
    "    verbos_minuscula = verbos_minuscula + [verbo.lower()]"
   ]
  },
  {
   "cell_type": "code",
   "execution_count": 37,
   "id": "bb89215e",
   "metadata": {},
   "outputs": [
    {
     "data": {
      "text/plain": [
       "['tax', 'chachi', 'tash', 'më', 'pia a', 'berua']"
      ]
     },
     "execution_count": 37,
     "metadata": {},
     "output_type": "execute_result"
    }
   ],
   "source": [
    "verbos_minuscula"
   ]
  },
  {
   "cell_type": "code",
   "execution_count": 33,
   "id": "6246fd79",
   "metadata": {},
   "outputs": [],
   "source": [
    "verbo_minuscula = [verbo.lower() for verbo in verbos]"
   ]
  },
  {
   "cell_type": "code",
   "execution_count": 34,
   "id": "ba2e06c1",
   "metadata": {},
   "outputs": [
    {
     "data": {
      "text/plain": [
       "['tax', 'chachi', 'tash', 'më', 'pia a', 'berua']"
      ]
     },
     "execution_count": 34,
     "metadata": {},
     "output_type": "execute_result"
    }
   ],
   "source": [
    "verbo_minuscula"
   ]
  },
  {
   "cell_type": "code",
   "execution_count": 38,
   "id": "55de3761",
   "metadata": {},
   "outputs": [
    {
     "name": "stdout",
     "output_type": "stream",
     "text": [
      "5\n",
      "5\n"
     ]
    }
   ],
   "source": [
    "a = 2\n",
    "\n",
    "a = a + 3\n",
    "print(a)\n",
    "\n",
    "a = 2\n",
    "a += 3\n",
    "print(a)"
   ]
  },
  {
   "cell_type": "code",
   "execution_count": 2,
   "id": "7455b223",
   "metadata": {},
   "outputs": [],
   "source": [
    "## Creamos dos variables, una para el prefijo y otra para el sufijo. \n",
    "\n",
    "## parte del cuerpo: cuyo significado es \"mano\"\n",
    "prefijo = 'më-'\n",
    "## nominalizador\n",
    "sufijo = '-ti'"
   ]
  },
  {
   "cell_type": "markdown",
   "id": "5eb5b865",
   "metadata": {},
   "source": [
    "**VERSIÓN 1** "
   ]
  },
  {
   "cell_type": "code",
   "execution_count": 39,
   "id": "e99bf171",
   "metadata": {},
   "outputs": [],
   "source": [
    "## verbo a consultar\n",
    "verbo_consulta = 'Tax'"
   ]
  },
  {
   "cell_type": "code",
   "execution_count": 40,
   "id": "c6c950e7",
   "metadata": {},
   "outputs": [
    {
     "name": "stdout",
     "output_type": "stream",
     "text": [
      "më-Tax\n",
      "më-tax\n"
     ]
    }
   ],
   "source": [
    "## prefijamos \n",
    "verbo_prefijado = prefijo + verbo_consulta\n",
    "print(verbo_prefijado)\n",
    "## en minúscula\n",
    "verbo_prefijado = verbo_prefijado.lower()\n",
    "print(verbo_prefijado)\n",
    "## ahora, sufijamos\n",
    "verbo_sufijado = verbo_prefijado + sufijo\n",
    "## en minúscula\n",
    "#verbo_sufijado = verbo_sufijado.lower()"
   ]
  },
  {
   "cell_type": "code",
   "execution_count": 41,
   "id": "54a89cce",
   "metadata": {},
   "outputs": [
    {
     "data": {
      "text/plain": [
       "'më-tax-ti'"
      ]
     },
     "execution_count": 41,
     "metadata": {},
     "output_type": "execute_result"
    }
   ],
   "source": [
    "verbo_sufijado"
   ]
  },
  {
   "cell_type": "markdown",
   "id": "fae9abd7",
   "metadata": {},
   "source": [
    "**VERSIÓN 2** "
   ]
  },
  {
   "cell_type": "code",
   "execution_count": 42,
   "id": "f6a3e3b6",
   "metadata": {},
   "outputs": [],
   "source": [
    "## otra forma de expresar las líneas anteriores! usemos una función\n",
    "\n",
    "## noten que la sintaxis es similar al ciclo for\n",
    "\n",
    "##  input::: verbo_consulta: string\n",
    "## output::: verbo_sufijado: string\n",
    "def formacion_verbos(verbo_consulta):\n",
    "    \n",
    "    ## prefijamos \n",
    "    verbo_prefijado = prefijo + verbo_consulta\n",
    "    ## en minúscula\n",
    "    verbo_prefijado = verbo_prefijado.lower()\n",
    "    ## ahora, sufijamos\n",
    "    verbo_sufijado = verbo_prefijado + sufijo\n",
    "    ## en minúscula\n",
    "    verbo_sufijado = verbo_sufijado.lower()\n",
    "    \n",
    "    return verbo_sufijado"
   ]
  },
  {
   "cell_type": "code",
   "execution_count": 47,
   "id": "914ef26f",
   "metadata": {},
   "outputs": [
    {
     "data": {
      "text/plain": [
       "['Tax', 'Chachi', 'Tash', 'Më', 'Pia a', 'Berua']"
      ]
     },
     "execution_count": 47,
     "metadata": {},
     "output_type": "execute_result"
    }
   ],
   "source": [
    "verbos"
   ]
  },
  {
   "cell_type": "code",
   "execution_count": 52,
   "id": "848b84ef",
   "metadata": {},
   "outputs": [],
   "source": [
    "## verbo a consultar\n",
    "verbo_consulta = 'Pia a'"
   ]
  },
  {
   "cell_type": "code",
   "execution_count": 53,
   "id": "6e481e04",
   "metadata": {},
   "outputs": [
    {
     "data": {
      "text/plain": [
       "'më-pia a-ti'"
      ]
     },
     "execution_count": 53,
     "metadata": {},
     "output_type": "execute_result"
    }
   ],
   "source": [
    "formacion_verbos(verbo_consulta)"
   ]
  },
  {
   "cell_type": "code",
   "execution_count": 55,
   "id": "1cd6870d",
   "metadata": {},
   "outputs": [],
   "source": [
    "verbos_flexionados = []\n",
    "\n",
    "## recorremos la lista de verbos\n",
    "for verbo in verbos:\n",
    "    ## usamos la función\n",
    "    verbo_flexionado = formacion_verbos(verbo)\n",
    "    ## guardamos\n",
    "    verbos_flexionados = verbos_flexionados + [verbo_flexionado]"
   ]
  },
  {
   "cell_type": "code",
   "execution_count": 56,
   "id": "47acf49e",
   "metadata": {},
   "outputs": [
    {
     "data": {
      "text/plain": [
       "['më-tax-ti',\n",
       " 'më-chachi-ti',\n",
       " 'më-tash-ti',\n",
       " 'më-më-ti',\n",
       " 'më-pia a-ti',\n",
       " 'më-berua-ti']"
      ]
     },
     "execution_count": 56,
     "metadata": {},
     "output_type": "execute_result"
    }
   ],
   "source": [
    "verbos_flexionados"
   ]
  },
  {
   "cell_type": "code",
   "execution_count": 57,
   "id": "289e266e",
   "metadata": {},
   "outputs": [
    {
     "data": {
      "application/vnd.jupyter.widget-view+json": {
       "model_id": "59857101b9e143e5a5f3b717c8d2e111",
       "version_major": 2,
       "version_minor": 0
      },
      "text/plain": [
       "interactive(children=(Dropdown(description='Verbo: ', options=('Tax', 'Chachi', 'Tash', 'Më', 'Pia a', 'Berua'…"
      ]
     },
     "metadata": {},
     "output_type": "display_data"
    }
   ],
   "source": [
    "## algo extra!\n",
    "\n",
    "from ipywidgets import interact, interactive, fixed, interact_manual\n",
    "import ipywidgets as widgets\n",
    "\n",
    "interact(formacion_verbos, verbo_consulta = widgets.Dropdown(options = verbos, description=\"Verbo: \"));"
   ]
  },
  {
   "cell_type": "code",
   "execution_count": 27,
   "id": "8eb6995f",
   "metadata": {},
   "outputs": [],
   "source": [
    "## desmenucemos el código de la función anterior. \n"
   ]
  },
  {
   "cell_type": "code",
   "execution_count": null,
   "id": "6f622660",
   "metadata": {},
   "outputs": [],
   "source": []
  }
 ],
 "metadata": {
  "kernelspec": {
   "display_name": "Python 3",
   "language": "python",
   "name": "python3"
  },
  "language_info": {
   "codemirror_mode": {
    "name": "ipython",
    "version": 3
   },
   "file_extension": ".py",
   "mimetype": "text/x-python",
   "name": "python",
   "nbconvert_exporter": "python",
   "pygments_lexer": "ipython3",
   "version": "3.8.8"
  }
 },
 "nbformat": 4,
 "nbformat_minor": 5
}
