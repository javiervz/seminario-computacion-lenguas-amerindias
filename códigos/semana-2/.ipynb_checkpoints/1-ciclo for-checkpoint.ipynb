{
 "cells": [
  {
   "cell_type": "markdown",
   "id": "a1bf5850",
   "metadata": {},
   "source": [
    "# **Seminario de métodos computacionales para lenguas amerindias**\n",
    "### Roberto Zariquiey Biondi, rzariquiey@pucp.edu.pe \n",
    "### Javier Vera Zúñiga, jveraz@pucp.edu.pe"
   ]
  },
  {
   "cell_type": "markdown",
   "id": "79a5f087",
   "metadata": {},
   "source": [
    "# Más sobre sobre listas (y algo sobre el ciclo for)\n",
    "## Una pequeña aplicación lingüística\n",
    "Vamos a insistir en un aspecto esencial de **Python**: la mayoría de las cosas se resuelven mediante **listas!** Una **lista** es una secuencia ordenada de cosas, que funciona como la fila de un supermercado. En una fila típica (digamos, sin que nadie se adelante), las personas van siendo atentidas por su orden de llegada a la fila. En una **lista** pasa lo mismo, a medida que agregamos elementos estos van siendo almacenados al **final** de la lista. Hay dos sutilezas muy importantes en esto: \n",
    "\n",
    "- Las **listas** son, por un lado, contenedores de cosas; y, por otro,\n",
    "- Las **listas** definen un orden. \n",
    "\n",
    "Con respecto al primer punto, quiero remarcar el hecho de que cualquier cosa (bueno casi) puede ser guardada temporalmente en una **lista**. El segundo punto es aún más interesante porque el orden que definen la listas puede ser usado para generar procesos sucesivos o iterativos. Es decir, el orden de las **listas** define una especie de temporalidad de procesos sucesivos. "
   ]
  },
  {
   "cell_type": "code",
   "execution_count": 46,
   "id": "9a9fe5d3",
   "metadata": {},
   "outputs": [],
   "source": [
    "## Partamos con un problema (muy) simple. En la lista lista_palabras, tenemos un conjunto de strings\n",
    "\n",
    "lista_palabras = ['palabra1','palabra2','palabra3','palabra4','palabra5','palabra6']"
   ]
  },
  {
   "cell_type": "code",
   "execution_count": 47,
   "id": "976c1c9a",
   "metadata": {},
   "outputs": [
    {
     "data": {
      "text/plain": [
       "['palabra1', 'palabra2', 'palabra3', 'palabra4', 'palabra5', 'palabra6']"
      ]
     },
     "execution_count": 47,
     "metadata": {},
     "output_type": "execute_result"
    }
   ],
   "source": [
    "lista_palabras"
   ]
  },
  {
   "cell_type": "code",
   "execution_count": 48,
   "id": "831c23f0",
   "metadata": {},
   "outputs": [],
   "source": [
    "## la idea es agregar a cada string un sufijo\n",
    "\n",
    "sufijo = '-plural'"
   ]
  },
  {
   "cell_type": "code",
   "execution_count": 49,
   "id": "9020a9ce",
   "metadata": {},
   "outputs": [],
   "source": [
    "## NOTA: para concatenar dos strings, simplemente usamos \"+\". Por ejemplo,\n",
    "\n",
    "string1 = 'a'\n",
    "string2 = 'b'"
   ]
  },
  {
   "cell_type": "code",
   "execution_count": 50,
   "id": "0f3ddf90",
   "metadata": {},
   "outputs": [],
   "source": [
    "string_concatenado = string1+string2"
   ]
  },
  {
   "cell_type": "code",
   "execution_count": 51,
   "id": "bd369771",
   "metadata": {},
   "outputs": [
    {
     "data": {
      "text/plain": [
       "'ab'"
      ]
     },
     "execution_count": 51,
     "metadata": {},
     "output_type": "execute_result"
    }
   ],
   "source": [
    "string_concatenado"
   ]
  },
  {
   "cell_type": "code",
   "execution_count": 52,
   "id": "9465084f",
   "metadata": {},
   "outputs": [
    {
     "data": {
      "text/plain": [
       "'palabra1-plural'"
      ]
     },
     "execution_count": 52,
     "metadata": {},
     "output_type": "execute_result"
    }
   ],
   "source": [
    "'palabra1'+sufijo"
   ]
  },
  {
   "cell_type": "code",
   "execution_count": 53,
   "id": "685a00a4",
   "metadata": {},
   "outputs": [],
   "source": [
    "## ahora, volvamos a nuestro problema! :) Supongamos que en cada string de \"lista_palabras\" queremos agregar el sufijo sufijo.\n",
    "## ¿Cómo lo hacemos? Primero, de una forma al parecer un poco lenta!\n",
    "\n",
    "lista_palabras_sufijadas = ['palabra1'+sufijo,'palabra2'+sufijo,'palabra3'+sufijo,'palabra4'+sufijo,'palabra5'+sufijo,'palabra6'+sufijo,]"
   ]
  },
  {
   "cell_type": "code",
   "execution_count": 54,
   "id": "278d88ec",
   "metadata": {},
   "outputs": [
    {
     "data": {
      "text/plain": [
       "['palabra1-plural',\n",
       " 'palabra2-plural',\n",
       " 'palabra3-plural',\n",
       " 'palabra4-plural',\n",
       " 'palabra5-plural',\n",
       " 'palabra6-plural']"
      ]
     },
     "execution_count": 54,
     "metadata": {},
     "output_type": "execute_result"
    }
   ],
   "source": [
    "lista_palabras_sufijadas"
   ]
  },
  {
   "cell_type": "code",
   "execution_count": 55,
   "id": "087bcf91",
   "metadata": {},
   "outputs": [
    {
     "data": {
      "text/plain": [
       "['palabra1', 'palabra2', 'palabra3', 'palabra4', 'palabra5', 'palabra6']"
      ]
     },
     "execution_count": 55,
     "metadata": {},
     "output_type": "execute_result"
    }
   ],
   "source": [
    "lista_palabras"
   ]
  },
  {
   "cell_type": "code",
   "execution_count": 56,
   "id": "b304bc17",
   "metadata": {},
   "outputs": [
    {
     "data": {
      "text/plain": [
       "6"
      ]
     },
     "execution_count": 56,
     "metadata": {},
     "output_type": "execute_result"
    }
   ],
   "source": [
    "len(lista_palabras)"
   ]
  },
  {
   "cell_type": "code",
   "execution_count": 57,
   "id": "1b9b1874",
   "metadata": {},
   "outputs": [
    {
     "data": {
      "text/plain": [
       "'palabra6'"
      ]
     },
     "execution_count": 57,
     "metadata": {},
     "output_type": "execute_result"
    }
   ],
   "source": [
    "lista_palabras[len(lista_palabras)-1]"
   ]
  },
  {
   "cell_type": "code",
   "execution_count": 58,
   "id": "c04c1a39",
   "metadata": {},
   "outputs": [
    {
     "data": {
      "text/plain": [
       "'palabras1'"
      ]
     },
     "execution_count": 58,
     "metadata": {},
     "output_type": "execute_result"
    }
   ],
   "source": [
    "'palabras'+str(1)"
   ]
  },
  {
   "cell_type": "code",
   "execution_count": 59,
   "id": "1ec93122",
   "metadata": {},
   "outputs": [
    {
     "ename": "SyntaxError",
     "evalue": "cannot assign to literal (<ipython-input-59-464e65d16c14>, line 1)",
     "output_type": "error",
     "traceback": [
      "\u001b[1;36m  File \u001b[1;32m\"<ipython-input-59-464e65d16c14>\"\u001b[1;36m, line \u001b[1;32m1\u001b[0m\n\u001b[1;33m    1 = 'hola'\u001b[0m\n\u001b[1;37m    ^\u001b[0m\n\u001b[1;31mSyntaxError\u001b[0m\u001b[1;31m:\u001b[0m cannot assign to literal\n"
     ]
    }
   ],
   "source": [
    "1 = 'hola'"
   ]
  },
  {
   "cell_type": "code",
   "execution_count": 60,
   "id": "6bfe478a",
   "metadata": {},
   "outputs": [
    {
     "data": {
      "text/plain": [
       "'palabra1'"
      ]
     },
     "execution_count": 60,
     "metadata": {},
     "output_type": "execute_result"
    }
   ],
   "source": [
    "lista_palabras[0]"
   ]
  },
  {
   "cell_type": "code",
   "execution_count": 61,
   "id": "f70d7ab3",
   "metadata": {},
   "outputs": [],
   "source": [
    "## es decir, manualmente agregamos el sufijo a cada palabra. Esto parece ser inmanejable si tenemos muchas palabras!\n",
    "## usemos un ciclo for!!!!\n",
    "\n",
    "## Los ciclos for, en Python, se basan en que las listas están ordenadas! Esto significa que existe un primer elemento, asociado al índice 0,\n",
    "## un segundo elemento, asociado al índice 1, y así sucesivamente hasta el elemento final, asociado al índice (largo de la lista menos 1)\n",
    "\n",
    "## En términos prácticos, al elegir los índices (o los elementos) de una lista sucesivamente podemos realizar cualquier operación\n",
    "## que deba realizarse tantas veces como el largo de una lista. Esto es muy importante :) Miren esto,\n",
    "\n",
    "palabra_sufijada1 = lista_palabras[0]+sufijo"
   ]
  },
  {
   "cell_type": "code",
   "execution_count": 62,
   "id": "ae2b048f",
   "metadata": {},
   "outputs": [
    {
     "data": {
      "text/plain": [
       "'palabra1-plural'"
      ]
     },
     "execution_count": 62,
     "metadata": {},
     "output_type": "execute_result"
    }
   ],
   "source": [
    "palabra_sufijada1"
   ]
  },
  {
   "cell_type": "code",
   "execution_count": 63,
   "id": "c67e7eea",
   "metadata": {},
   "outputs": [],
   "source": [
    "## y si esto lo realizamos para todas las palabras que faltan\n",
    "\n",
    "palabra_sufijada2 = lista_palabras[1]+sufijo\n",
    "palabra_sufijada3 = lista_palabras[2]+sufijo\n",
    "palabra_sufijada4 = lista_palabras[3]+sufijo\n",
    "palabra_sufijada5 = lista_palabras[4]+sufijo\n",
    "palabra_sufijada6 = lista_palabras[5]+sufijo"
   ]
  },
  {
   "cell_type": "code",
   "execution_count": 64,
   "id": "6698ec28",
   "metadata": {},
   "outputs": [],
   "source": [
    "## Con esto,\n",
    "\n",
    "lista_palabras_sufijadas = [palabra_sufijada1,palabra_sufijada2,palabra_sufijada3,palabra_sufijada4,palabra_sufijada5,palabra_sufijada6]"
   ]
  },
  {
   "cell_type": "code",
   "execution_count": 65,
   "id": "d8f83674",
   "metadata": {},
   "outputs": [
    {
     "data": {
      "text/plain": [
       "['palabra1-plural',\n",
       " 'palabra2-plural',\n",
       " 'palabra3-plural',\n",
       " 'palabra4-plural',\n",
       " 'palabra5-plural',\n",
       " 'palabra6-plural']"
      ]
     },
     "execution_count": 65,
     "metadata": {},
     "output_type": "execute_result"
    }
   ],
   "source": [
    "lista_palabras_sufijadas"
   ]
  },
  {
   "cell_type": "code",
   "execution_count": 86,
   "id": "70df15e7",
   "metadata": {},
   "outputs": [],
   "source": [
    "## Seguimos haciendo muchas veces una misma operación! Lo importante es que necesitamos una forma de \"iterar\", es decir, de recorrer\n",
    "## la lista lista_palabras, y ordenadamente desde el primer elemento, hasta el último, ir agregando el sufijo. Para esto, \n",
    "## usamos un ciclo \"for\"!!!\n",
    "\n",
    "## definamos una lista vacía\n",
    "\n",
    "lista_palabras_sufijadas = []"
   ]
  },
  {
   "cell_type": "code",
   "execution_count": 87,
   "id": "02426e83",
   "metadata": {},
   "outputs": [
    {
     "data": {
      "text/plain": [
       "[]"
      ]
     },
     "execution_count": 87,
     "metadata": {},
     "output_type": "execute_result"
    }
   ],
   "source": [
    "lista_palabras_sufijadas"
   ]
  },
  {
   "cell_type": "code",
   "execution_count": 88,
   "id": "c41839ef",
   "metadata": {},
   "outputs": [],
   "source": [
    "#lista_palabras = lista_palabras + ['palabra6']"
   ]
  },
  {
   "cell_type": "code",
   "execution_count": 89,
   "id": "2d76b3d0",
   "metadata": {},
   "outputs": [],
   "source": [
    "#lista_palabras[5],lista_palabras[6]"
   ]
  },
  {
   "cell_type": "code",
   "execution_count": 90,
   "id": "5a957607",
   "metadata": {},
   "outputs": [],
   "source": [
    "## En esta lista, iremos guardando los elementos de \"lista_palabras\" que vayamos sufijando ¿Cómo hacemos esto?\n",
    "## Esencialmente, de dos formas equivalentes:\n",
    "\n",
    "### o bien, recorremos los \"índices\" de lista_palabras \n",
    "\n",
    "### o bien, recorremos los \"elementos\" de lista_palabras\n",
    "\n",
    "## y vamos sufijando!"
   ]
  },
  {
   "cell_type": "code",
   "execution_count": 91,
   "id": "1794e5c8",
   "metadata": {},
   "outputs": [
    {
     "data": {
      "text/plain": [
       "[0, 1, 2, 3, 4, 5, 6, 7, 8, 9]"
      ]
     },
     "execution_count": 91,
     "metadata": {},
     "output_type": "execute_result"
    }
   ],
   "source": [
    "## OPCIÓN 1: índices de lista_palabras\n",
    "## para obtener los índices, usamos range! range es una lista (o casi) que nos entrega números entre 0 y el número que indiquemos\n",
    "## Es decir,\n",
    "\n",
    "list(range(10))"
   ]
  },
  {
   "cell_type": "code",
   "execution_count": 92,
   "id": "ebad8c22",
   "metadata": {},
   "outputs": [],
   "source": [
    "## entrega números entre 0 y 9. Esto calza perfecto con los índices de los elementos de una lista de largo 10!!!\n",
    "## en nuestro caso, esto queda\n",
    "\n",
    "N = list(range(len(lista_palabras)))"
   ]
  },
  {
   "cell_type": "code",
   "execution_count": 93,
   "id": "074d527c",
   "metadata": {},
   "outputs": [
    {
     "data": {
      "text/plain": [
       "[0, 1, 2, 3, 4, 5]"
      ]
     },
     "execution_count": 93,
     "metadata": {},
     "output_type": "execute_result"
    }
   ],
   "source": [
    "N"
   ]
  },
  {
   "cell_type": "code",
   "execution_count": 124,
   "id": "2f3b0a04",
   "metadata": {},
   "outputs": [],
   "source": [
    "## noten que N es una lista que contiene los índices de los elementos de la lista lista_palabras ¿Cómo usamos esto?\n",
    "lista_palabras_sufijadas = []\n",
    "\n",
    "## recorremos los elementos de lista_palabras a través de sus índices. \n",
    "for i in N: \n",
    "    ## i es una variable, que en cada paso cambia de valor (0,1,...,5)\n",
    "    ## elemento de lista_palabras en la posición i\n",
    "    palabra = lista_palabras[i]\n",
    "    ## sufijamos!\n",
    "    palabra_sufijada = palabra+sufijo\n",
    "    ## guardamos!\n",
    "    lista_palabras_sufijadas = lista_palabras_sufijadas + [palabra_sufijada]"
   ]
  },
  {
   "cell_type": "code",
   "execution_count": 125,
   "id": "3f12daa5",
   "metadata": {},
   "outputs": [
    {
     "data": {
      "text/plain": [
       "5"
      ]
     },
     "execution_count": 125,
     "metadata": {},
     "output_type": "execute_result"
    }
   ],
   "source": [
    "i"
   ]
  },
  {
   "cell_type": "code",
   "execution_count": 126,
   "id": "305a3bed",
   "metadata": {},
   "outputs": [
    {
     "data": {
      "text/plain": [
       "['palabra1-plural',\n",
       " 'palabra2-plural',\n",
       " 'palabra3-plural',\n",
       " 'palabra4-plural',\n",
       " 'palabra5-plural',\n",
       " 'palabra6-plural']"
      ]
     },
     "execution_count": 126,
     "metadata": {},
     "output_type": "execute_result"
    }
   ],
   "source": [
    "## y mágicamente estamos ok!\n",
    "\n",
    "lista_palabras_sufijadas"
   ]
  },
  {
   "cell_type": "code",
   "execution_count": 130,
   "id": "bd2bca4f",
   "metadata": {},
   "outputs": [],
   "source": [
    "## volvemos a definir esta lista como vacía\n",
    "\n",
    "lista_palabras_sufijadas = []"
   ]
  },
  {
   "cell_type": "code",
   "execution_count": 131,
   "id": "1b86114a",
   "metadata": {},
   "outputs": [
    {
     "data": {
      "text/plain": [
       "['palabra1', 'palabra2', 'palabra3', 'palabra4', 'palabra5', 'palabra6']"
      ]
     },
     "execution_count": 131,
     "metadata": {},
     "output_type": "execute_result"
    }
   ],
   "source": [
    "lista_palabras"
   ]
  },
  {
   "cell_type": "code",
   "execution_count": 132,
   "id": "f056047d",
   "metadata": {},
   "outputs": [
    {
     "name": "stdout",
     "output_type": "stream",
     "text": [
      "palabra1\n",
      "palabra1-plural\n",
      "palabra2\n",
      "palabra2-plural\n",
      "palabra3\n",
      "palabra3-plural\n",
      "palabra4\n",
      "palabra4-plural\n",
      "palabra5\n",
      "palabra5-plural\n",
      "palabra6\n",
      "palabra6-plural\n"
     ]
    }
   ],
   "source": [
    "## OPCIÓN 2: elementos de lista_palabras\n",
    "## la idea es recorrer los elementos de lista_palabras, que sabemos están ordenados\n",
    "\n",
    "## ahora, recorremos los elementos de lista_palabras. Sabemos que están ordenados! Por esto, palabra es primero, el primer elemento\n",
    "## luego, el segundo elemento, y así sucesivamente hasta el último elemento de la lista\n",
    "\n",
    "## palabra es una variable en este caso, que en cada paso se reasigna a un elemento de la lista lista_palabras\n",
    "for palabra in lista_palabras:\n",
    "    print(palabra)\n",
    "    ## sufijamos!\n",
    "    palabra_sufijada = palabra+sufijo\n",
    "    print(palabra_sufijada)\n",
    "    ## guardamos!\n",
    "    lista_palabras_sufijadas+=[palabra_sufijada]"
   ]
  },
  {
   "cell_type": "code",
   "execution_count": 133,
   "id": "01379a1c",
   "metadata": {},
   "outputs": [
    {
     "data": {
      "text/plain": [
       "['palabra1-plural',\n",
       " 'palabra2-plural',\n",
       " 'palabra3-plural',\n",
       " 'palabra4-plural',\n",
       " 'palabra5-plural',\n",
       " 'palabra6-plural']"
      ]
     },
     "execution_count": 133,
     "metadata": {},
     "output_type": "execute_result"
    }
   ],
   "source": [
    "## y nuevamente obtenemos lo que buscábamos!\n",
    "\n",
    "lista_palabras_sufijadas"
   ]
  },
  {
   "cell_type": "code",
   "execution_count": 134,
   "id": "b3e3d88a",
   "metadata": {},
   "outputs": [
    {
     "data": {
      "text/plain": [
       "['palabra1', 'palabra2', 'palabra3', 'palabra4', 'palabra5', 'palabra6']"
      ]
     },
     "execution_count": 134,
     "metadata": {},
     "output_type": "execute_result"
    }
   ],
   "source": [
    "lista_palabras"
   ]
  },
  {
   "cell_type": "code",
   "execution_count": 148,
   "id": "6fcd0986",
   "metadata": {},
   "outputs": [],
   "source": [
    "## ejercicio kakataibo\n",
    "\n",
    "## significados: golpear, hincar, dar una cachetada, golpear de cualquier forma, flechar, cuidar \n",
    "#lista_verbos = ['Tax','Chachi','Tash','Më','Pia a','Berua']\n",
    "lista_verbos = [['Tax','golpear con puño'],['Chachi','hincar'],['Tash','palmear'],['Më','golpear'],['Pia a','flechar'],['Berua','cuidarse uno mismo']]\n",
    "\n",
    "## parte del cuerpo: mano\n",
    "prefijo = 'më-'\n",
    "## nominalizador\n",
    "sufijo = '-ti'"
   ]
  },
  {
   "cell_type": "code",
   "execution_count": 151,
   "id": "651f62eb",
   "metadata": {},
   "outputs": [],
   "source": [
    "## problema 1: entradas de diccionario de verbos nominalizados sufijados con -ti\n",
    "\n",
    "## en esta lista, guardaremos sub-listas de tres elementos:\n",
    "## primero: verbo\n",
    "## segundo: glosa\n",
    "## tercero: verbo prefijado\n",
    "## cuarto: verbo prefijado+sufijado\n",
    "lista_verbos_nom_pref = []\n",
    "\n",
    "for par_verbo in lista_verbos:\n",
    "    ## verbo\n",
    "    verbo = par_verbo[0]\n",
    "    ## entrada de \"diccionario\"\n",
    "    entrada = []\n",
    "    ## en entrada guardamos el verbo\n",
    "    entrada = entrada + [verbo]\n",
    "    ## agregamos la glosa\n",
    "    entrada = entrada + [par_verbo[1]]\n",
    "    ## prefijemos primero\n",
    "    verbo_prefijado = prefijo + verbo\n",
    "    ## guardamos el verbo prefijado\n",
    "    entrada = entrada + [verbo_prefijado]\n",
    "    ## ahora, sufijamos\n",
    "    verbo_sufijado = verbo_prefijado + sufijo\n",
    "    ## guardamos la forma sufijada\n",
    "    entrada = entrada + [verbo_sufijado]\n",
    "    ## guardamos las entradas\n",
    "    lista_verbos_nom_pref = lista_verbos_nom_pref + [entrada]"
   ]
  },
  {
   "cell_type": "code",
   "execution_count": 152,
   "id": "2e9d387c",
   "metadata": {},
   "outputs": [
    {
     "data": {
      "text/plain": [
       "[['Tax', 'golpear con puño', 'më-Tax', 'më-Tax-ti'],\n",
       " ['Chachi', 'hincar', 'më-Chachi', 'më-Chachi-ti'],\n",
       " ['Tash', 'palmear', 'më-Tash', 'më-Tash-ti'],\n",
       " ['Më', 'golpear', 'më-Më', 'më-Më-ti'],\n",
       " ['Pia a', 'flechar', 'më-Pia a', 'më-Pia a-ti'],\n",
       " ['Berua', 'cuidarse uno mismo', 'më-Berua', 'më-Berua-ti']]"
      ]
     },
     "execution_count": 152,
     "metadata": {},
     "output_type": "execute_result"
    }
   ],
   "source": [
    "lista_verbos_nom_pref"
   ]
  },
  {
   "cell_type": "code",
   "execution_count": 153,
   "id": "47012a64",
   "metadata": {},
   "outputs": [],
   "source": [
    "## problemas pendientes:\n",
    "## 1. según el número de segmentos, depende el prefijo. Alomorfía del ergativo (eminentemente prosódica)\n",
    "## 2. Anotar las sílabas\n",
    "## 3. Silabificador para kakataibo\n",
    "## 4. Conjugar los verbos con sufijos\n",
    "## 5. tres formas -> encontrar la glosa (clase if/else)\n",
    "## 6. Generar datos computarizados"
   ]
  },
  {
   "cell_type": "code",
   "execution_count": null,
   "id": "3d136ce9",
   "metadata": {},
   "outputs": [],
   "source": [
    "['Tax',[1,2,3]]"
   ]
  }
 ],
 "metadata": {
  "kernelspec": {
   "display_name": "Python 3",
   "language": "python",
   "name": "python3"
  },
  "language_info": {
   "codemirror_mode": {
    "name": "ipython",
    "version": 3
   },
   "file_extension": ".py",
   "mimetype": "text/x-python",
   "name": "python",
   "nbconvert_exporter": "python",
   "pygments_lexer": "ipython3",
   "version": "3.8.8"
  }
 },
 "nbformat": 4,
 "nbformat_minor": 5
}
