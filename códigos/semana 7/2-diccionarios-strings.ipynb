{
 "cells": [
  {
   "cell_type": "markdown",
   "metadata": {
    "id": "Bonrs-i763k3"
   },
   "source": [
    "# **Seminario de métodos computacionales para lenguas amerindias**\n",
    "### Roberto Zariquiey Biondi, rzariquiey@pucp.edu.pe \n",
    "### Javier Vera Zúñiga, jveraz@pucp.edu.pe"
   ]
  },
  {
   "cell_type": "markdown",
   "metadata": {},
   "source": [
    "# diccionarios y strings!"
   ]
  },
  {
   "cell_type": "code",
   "execution_count": 8,
   "metadata": {},
   "outputs": [],
   "source": [
    "## definamos una lista con los números del 1 al 19 en quechua\n",
    "\n",
    "lista_numeros_1_19 = ['huk', 'iskay', 'kimsa', 'tawa', 'pichqa', 'suqta', 'qanchis', 'pusaq', 'isqun', 'chunka',\n",
    "'chunka huk-ni-yuq', 'chunka iskay-ni-yuq', 'chunka kimsa-yuq', 'chunka tawa-yuq', 'chunka pichqa-yuq',\n",
    "'chunka suqta-yuq', 'chunka qanchis-ni-yuq', 'chunka pusaq-ni-yuq', 'chunka isqun-ni-yuq']"
   ]
  },
  {
   "cell_type": "markdown",
   "metadata": {},
   "source": [
    "Noten que sabemos cuál es cada número (bueno, si no sabemos quechua) solo por su posición en la lista \n",
    "¿Existirá otra forma? ¿Existen los **diccionarios en Python**? \n",
    "¿Cómo agruparíamos todos los números que tienen por substring a 'iskay'?"
   ]
  },
  {
   "cell_type": "code",
   "execution_count": 9,
   "metadata": {},
   "outputs": [],
   "source": [
    "## usemos un diccionario\n",
    "\n",
    "## como siempre, lo definimos vacío\n",
    "## los diccionarios usan paréntesis {} y pueden definirse, de forma simple, como un contenedor de información en el cual\n",
    "## el acceso a un elemento se realiza a través de su etiqueta (que llamamos key). La información asociada a una key es su value\n",
    "\n",
    "D = {}"
   ]
  },
  {
   "cell_type": "code",
   "execution_count": 10,
   "metadata": {},
   "outputs": [],
   "source": [
    "## como rellenamos D\n",
    "## obviamente, con un ciclo for\n",
    "\n",
    "## usamos los índices, sería más difícil hacer este ciclo usando los elementos de la lista\n",
    "for i in range(len(lista_numeros_1_19)):\n",
    "    ## extrañamente, también accedemos a los values usando paréntesis cuadrados!\n",
    "    ## sumamos 1, porque los índices empiezan de cero\n",
    "    ## en esta línea, se asigna un key (al modo de la entrada de un diccionaro \"real\") a un value (el significado de ese\n",
    "    ## diccionario \"real\"). Esta asignación se hace con \"=\"\n",
    "    D[i+1] = lista_numeros_1_19[i]"
   ]
  },
  {
   "cell_type": "code",
   "execution_count": 11,
   "metadata": {},
   "outputs": [
    {
     "data": {
      "text/plain": [
       "{1: 'huk',\n",
       " 2: 'iskay',\n",
       " 3: 'kimsa',\n",
       " 4: 'tawa',\n",
       " 5: 'pichqa',\n",
       " 6: 'suqta',\n",
       " 7: 'qanchis',\n",
       " 8: 'pusaq',\n",
       " 9: 'isqun',\n",
       " 10: 'chunka',\n",
       " 11: 'chunka huk-ni-yuq',\n",
       " 12: 'chunka iskay-ni-yuq',\n",
       " 13: 'chunka kimsa-yuq',\n",
       " 14: 'chunka tawa-yuq',\n",
       " 15: 'chunka pichqa-yuq',\n",
       " 16: 'chunka suqta-yuq',\n",
       " 17: 'chunka qanchis-ni-yuq',\n",
       " 18: 'chunka pusaq-ni-yuq',\n",
       " 19: 'chunka isqun-ni-yuq'}"
      ]
     },
     "execution_count": 11,
     "metadata": {},
     "output_type": "execute_result"
    }
   ],
   "source": [
    "D"
   ]
  },
  {
   "cell_type": "code",
   "execution_count": 12,
   "metadata": {},
   "outputs": [
    {
     "data": {
      "text/plain": [
       "'chunka huk-ni-yuq'"
      ]
     },
     "execution_count": 12,
     "metadata": {},
     "output_type": "execute_result"
    }
   ],
   "source": [
    "## ahora, para acceder a un número no usamos su índice, como en las listas, sino que su identificador: el número entero asociado\n",
    "\n",
    "D[11]"
   ]
  },
  {
   "cell_type": "code",
   "execution_count": 13,
   "metadata": {},
   "outputs": [],
   "source": [
    "## 11 no es el índice 11! es el key 11 ¿Cómo agregaríamos otro elemento al diccionario?\n",
    "## simplemente lo asignamos!\n",
    "\n",
    "D[100] = 'pachak'"
   ]
  },
  {
   "cell_type": "code",
   "execution_count": 14,
   "metadata": {},
   "outputs": [
    {
     "data": {
      "text/plain": [
       "{1: 'huk',\n",
       " 2: 'iskay',\n",
       " 3: 'kimsa',\n",
       " 4: 'tawa',\n",
       " 5: 'pichqa',\n",
       " 6: 'suqta',\n",
       " 7: 'qanchis',\n",
       " 8: 'pusaq',\n",
       " 9: 'isqun',\n",
       " 10: 'chunka',\n",
       " 11: 'chunka huk-ni-yuq',\n",
       " 12: 'chunka iskay-ni-yuq',\n",
       " 13: 'chunka kimsa-yuq',\n",
       " 14: 'chunka tawa-yuq',\n",
       " 15: 'chunka pichqa-yuq',\n",
       " 16: 'chunka suqta-yuq',\n",
       " 17: 'chunka qanchis-ni-yuq',\n",
       " 18: 'chunka pusaq-ni-yuq',\n",
       " 19: 'chunka isqun-ni-yuq',\n",
       " 100: 'pachak'}"
      ]
     },
     "execution_count": 14,
     "metadata": {},
     "output_type": "execute_result"
    }
   ],
   "source": [
    "D"
   ]
  },
  {
   "cell_type": "code",
   "execution_count": 15,
   "metadata": {},
   "outputs": [],
   "source": [
    "## algo de terminología de diccionarios en Python. Los diccionarios parecen estar formados por dos listas. Más formalmente,\n",
    "## tenemos, keys y values\n",
    "\n",
    "enteros = list(D.keys())\n",
    "string_numeros = list(D.values())"
   ]
  },
  {
   "cell_type": "code",
   "execution_count": 16,
   "metadata": {},
   "outputs": [
    {
     "data": {
      "text/plain": [
       "([1, 2, 3, 4, 5, 6, 7, 8, 9, 10, 11, 12, 13, 14, 15, 16, 17, 18, 19, 100],\n",
       " ['huk',\n",
       "  'iskay',\n",
       "  'kimsa',\n",
       "  'tawa',\n",
       "  'pichqa',\n",
       "  'suqta',\n",
       "  'qanchis',\n",
       "  'pusaq',\n",
       "  'isqun',\n",
       "  'chunka',\n",
       "  'chunka huk-ni-yuq',\n",
       "  'chunka iskay-ni-yuq',\n",
       "  'chunka kimsa-yuq',\n",
       "  'chunka tawa-yuq',\n",
       "  'chunka pichqa-yuq',\n",
       "  'chunka suqta-yuq',\n",
       "  'chunka qanchis-ni-yuq',\n",
       "  'chunka pusaq-ni-yuq',\n",
       "  'chunka isqun-ni-yuq',\n",
       "  'pachak'])"
      ]
     },
     "execution_count": 16,
     "metadata": {},
     "output_type": "execute_result"
    }
   ],
   "source": [
    "enteros, string_numeros"
   ]
  },
  {
   "cell_type": "code",
   "execution_count": 17,
   "metadata": {},
   "outputs": [],
   "source": [
    "## un aspecto crucial! los keys son esenciales para crear ciclos for a partir de diccionarios. Esto es MUY importante. "
   ]
  },
  {
   "cell_type": "code",
   "execution_count": 18,
   "metadata": {},
   "outputs": [],
   "source": [
    "## ¿Qué conceptos podemos reescribir?\n",
    "\n",
    "numeros_1_10 = ['huk', 'iskay', 'kimsa', 'tawa', 'pichqa', 'suqta', 'qanchis', 'pusaq', 'isqun', 'chunka']"
   ]
  },
  {
   "cell_type": "code",
   "execution_count": 19,
   "metadata": {},
   "outputs": [],
   "source": [
    "## partamos con algo simple: asociemos los números con sus strings\n",
    "\n",
    "diccionario_1_10 = {}\n",
    "\n",
    "## recorremos los strings\n",
    "for string_numero in numeros_1_10:\n",
    "    \n",
    "    ## usamos index, ¿por qué sumamos 1?\n",
    "    entero = numeros_1_10.index(string_numero) + 1\n",
    "    ## asociamos el entero con el string\n",
    "    diccionario_1_10[entero] = string_numero"
   ]
  },
  {
   "cell_type": "code",
   "execution_count": 20,
   "metadata": {},
   "outputs": [
    {
     "data": {
      "text/plain": [
       "{1: 'huk',\n",
       " 2: 'iskay',\n",
       " 3: 'kimsa',\n",
       " 4: 'tawa',\n",
       " 5: 'pichqa',\n",
       " 6: 'suqta',\n",
       " 7: 'qanchis',\n",
       " 8: 'pusaq',\n",
       " 9: 'isqun',\n",
       " 10: 'chunka'}"
      ]
     },
     "execution_count": 20,
     "metadata": {},
     "output_type": "execute_result"
    }
   ],
   "source": [
    "diccionario_1_10"
   ]
  },
  {
   "cell_type": "code",
   "execution_count": 21,
   "metadata": {},
   "outputs": [],
   "source": [
    "## juntemos ahora los números que terminan en vocal vs. los que terminan en consonante. Vean con atención el nuevo diccionario\n",
    "## los diccionarios permiten entradas número o string (en general), pero (casi) no hay restricción para los values\n",
    "\n",
    "vocal_consonante = {'vocal':[], 'consonante':[]}"
   ]
  },
  {
   "cell_type": "code",
   "execution_count": 22,
   "metadata": {},
   "outputs": [
    {
     "data": {
      "text/plain": [
       "{'vocal': [], 'consonante': []}"
      ]
     },
     "execution_count": 22,
     "metadata": {},
     "output_type": "execute_result"
    }
   ],
   "source": [
    "vocal_consonante"
   ]
  },
  {
   "cell_type": "code",
   "execution_count": 23,
   "metadata": {},
   "outputs": [],
   "source": [
    "## los values son listas, entonces podemos tratarlos como tales\n",
    "\n",
    "## recorremos los keys\n",
    "for entero in diccionario_1_10.keys():\n",
    "    ## accedemos al string\n",
    "    string_numero = D[entero]\n",
    "    ## if-else según termina en vocal\n",
    "    if string_numero[-1] in ['a','e','i','o','u']:\n",
    "        ## accedemos al value asociado a 'value', que es una lista\n",
    "        vocal_consonante['vocal'] = vocal_consonante['vocal'] + [entero]\n",
    "    else:\n",
    "        ## en otro caso\n",
    "        vocal_consonante['consonante'] = vocal_consonante['consonante'] + [entero]"
   ]
  },
  {
   "cell_type": "code",
   "execution_count": 24,
   "metadata": {},
   "outputs": [
    {
     "data": {
      "text/plain": [
       "{'vocal': [3, 4, 5, 6, 10], 'consonante': [1, 2, 7, 8, 9]}"
      ]
     },
     "execution_count": 24,
     "metadata": {},
     "output_type": "execute_result"
    }
   ],
   "source": [
    "vocal_consonante"
   ]
  },
  {
   "cell_type": "code",
   "execution_count": 26,
   "metadata": {},
   "outputs": [],
   "source": [
    "## otra forma: queremos definir un diccionario que almacene la información sobre terminaciones\n",
    "\n",
    "terminaciones = {}\n",
    "\n",
    "## ahora, recorremos la lista numeros_1_9\n",
    "\n",
    "## recorremos los strings\n",
    "for string_numero in numeros_1_10:\n",
    "    if string_numero[-1] in ['a','e','i','o','u']:\n",
    "        ## almacenamos el par entero-vocal/consonante\n",
    "        terminaciones[string_numero] = 'vocal'\n",
    "    else:\n",
    "        ## el otro caso\n",
    "        terminaciones[string_numero] = 'consonante'"
   ]
  },
  {
   "cell_type": "code",
   "execution_count": 27,
   "metadata": {},
   "outputs": [
    {
     "data": {
      "text/plain": [
       "{'huk': 'consonante',\n",
       " 'iskay': 'consonante',\n",
       " 'kimsa': 'vocal',\n",
       " 'tawa': 'vocal',\n",
       " 'pichqa': 'vocal',\n",
       " 'suqta': 'vocal',\n",
       " 'qanchis': 'consonante',\n",
       " 'pusaq': 'consonante',\n",
       " 'isqun': 'consonante',\n",
       " 'chunka': 'vocal'}"
      ]
     },
     "execution_count": 27,
     "metadata": {},
     "output_type": "execute_result"
    }
   ],
   "source": [
    "terminaciones"
   ]
  },
  {
   "cell_type": "code",
   "execution_count": 32,
   "metadata": {},
   "outputs": [],
   "source": [
    "## con esto, podemos reescribir la función que entrega los números del 1 al 19 en quechua :)\n",
    "\n",
    "##nueva versión\n",
    "\n",
    "## input::: número entero N\n",
    "## output::: string\n",
    "\n",
    "def entero_quec(N):\n",
    "    ## números menores a 20\n",
    "    if N < 20:\n",
    "        ## números menores o iguales a 10\n",
    "        if N <= 10:\n",
    "            ## usamos el diccionario\n",
    "            return diccionario_1_10[N]\n",
    "        ## o sea, números mayores a 10 y menores a 20 (la magia de else)\n",
    "        else:\n",
    "            ## manera simple de extraer la unidad\n",
    "            unidad = N - 10 \n",
    "            ## usamos nuevamente nuestro diccionario para ver qué string es el entero unidad\n",
    "            numero_quec = 'chunka' + ' ' + diccionario_1_10[unidad]\n",
    "            ## ahora usamos el diccionario de terminaciones\n",
    "            ## si termina en consonante\n",
    "            if terminaciones[diccionario_1_10[unidad]] == 'consonante':\n",
    "                return numero_quec + '-ni-yuq'\n",
    "            ## si termina en otro caso, o sea, en vocal\n",
    "            else:\n",
    "                return numero_quec + '-yuq'\n",
    "    else:\n",
    "        ## números mayores a 19\n",
    "        print('estoy trabajando en números tan grandes!')"
   ]
  },
  {
   "cell_type": "code",
   "execution_count": 34,
   "metadata": {},
   "outputs": [
    {
     "name": "stdout",
     "output_type": "stream",
     "text": [
      "1 huk\n",
      "2 iskay\n",
      "3 kimsa\n",
      "4 tawa\n",
      "5 pichqa\n",
      "6 suqta\n",
      "7 qanchis\n",
      "8 pusaq\n",
      "9 isqun\n",
      "10 chunka\n",
      "11 chunka huk-ni-yuq\n",
      "12 chunka iskay-ni-yuq\n",
      "13 chunka kimsa-yuq\n",
      "14 chunka tawa-yuq\n",
      "15 chunka pichqa-yuq\n",
      "16 chunka suqta-yuq\n",
      "17 chunka qanchis-ni-yuq\n",
      "18 chunka pusaq-ni-yuq\n",
      "19 chunka isqun-ni-yuq\n"
     ]
    }
   ],
   "source": [
    "## probamos la función\n",
    "\n",
    "## recorremos los números del 1 al 19\n",
    "for N in range(1,20):\n",
    "    ## usamos la función\n",
    "    print(N, entero_quec(N))"
   ]
  },
  {
   "cell_type": "markdown",
   "metadata": {},
   "source": [
    "## clase 6: Roberto y formación de palabras\n",
    "Rol de la formación de palabras en lingüística computacional\n",
    "\n",
    "- búsqueda de palabras morfológicamente compuestas\n",
    "- 2 palabras pertenecen al mismo dominio semántico?\n",
    "- texto a voz: posición del acento según afijos!\n",
    "- grandes bases de datos léxicos: ¿y lenguas indígenas?\n",
    "- modelos basados en reglas + híbridos (+ estadística)\n",
    "- ¿Cuántas combinaciones tiene la morfología de una lengua? Calcular!\n",
    "- palabras nuevas en textos\n",
    "- neologismos!\n",
    "- productividad vs. regularidad (baches en la productividad)\n",
    "- indigenous languages technology project"
   ]
  }
 ],
 "metadata": {
  "colab": {
   "name": "semana-1.ipynb",
   "provenance": []
  },
  "kernelspec": {
   "display_name": "Python 3",
   "language": "python",
   "name": "python3"
  },
  "language_info": {
   "codemirror_mode": {
    "name": "ipython",
    "version": 3
   },
   "file_extension": ".py",
   "mimetype": "text/x-python",
   "name": "python",
   "nbconvert_exporter": "python",
   "pygments_lexer": "ipython3",
   "version": "3.8.8"
  }
 },
 "nbformat": 4,
 "nbformat_minor": 1
}
