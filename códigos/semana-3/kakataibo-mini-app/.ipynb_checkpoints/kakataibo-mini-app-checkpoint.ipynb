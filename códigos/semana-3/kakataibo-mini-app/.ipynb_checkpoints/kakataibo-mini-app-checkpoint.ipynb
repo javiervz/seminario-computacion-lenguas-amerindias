{
 "cells": [
  {
   "cell_type": "code",
   "execution_count": 1,
   "id": "6fcd0986",
   "metadata": {},
   "outputs": [],
   "source": [
    "## verbos: Tax, Chachi, Tash, Më, Pia a, Berua\n",
    "## significados: golpear, hincar, dar una cachetada, golpear de cualquier forma, flechar, cuidar \n",
    "lista_verbos = [['Tax','golpear con puño'],['Chachi','hincar'],['Tash','palmear'],['Më','golpear'],['Pia a','flechar'],['Berua','cuidarse uno mismo']]"
   ]
  },
  {
   "cell_type": "code",
   "execution_count": 2,
   "id": "087b3e8b",
   "metadata": {},
   "outputs": [],
   "source": [
    "## Creamos dos variables, una para el prefijo y otra para el sufijo. \n",
    "\n",
    "## parte del cuerpo: cuyo significado es \"mano\"\n",
    "prefijo = 'më-'\n",
    "## nominalizador\n",
    "sufijo = '-ti'"
   ]
  },
  {
   "cell_type": "code",
   "execution_count": 3,
   "id": "f9dd53ae",
   "metadata": {},
   "outputs": [],
   "source": [
    "## Primero. En una lista vacía (típica forma de comenzar), guardaremos sub-listas de cuatro elementos:\n",
    "## primero: verbo\n",
    "## segundo: glosa\n",
    "## tercero: verbo prefijado\n",
    "## cuarto: verbo prefijado+sufijado\n",
    "lista_verbos_nom_pref = []"
   ]
  },
  {
   "cell_type": "code",
   "execution_count": 4,
   "id": "256b9ac5",
   "metadata": {},
   "outputs": [],
   "source": [
    "## recorremos los pares de lista_verbos\n",
    "\n",
    "for par_verbo in lista_verbos:\n",
    "    ## verbo\n",
    "    verbo = par_verbo[0]\n",
    "    ## entrada de \"diccionario\"\n",
    "    entrada = []\n",
    "    ## en entrada guardamos el verbo\n",
    "    entrada = entrada + [verbo]\n",
    "    ## agregamos la glosa\n",
    "    entrada = entrada + [par_verbo[1]]\n",
    "    ## prefijemos primero\n",
    "    verbo_prefijado = prefijo + verbo\n",
    "    ## guardamos el verbo prefijado (en minúscula)\n",
    "    entrada = entrada + [verbo_prefijado.lower()]\n",
    "    ## ahora, sufijamos\n",
    "    verbo_sufijado = verbo_prefijado + sufijo\n",
    "    ## guardamos la forma sufijada (en minúscula)\n",
    "    entrada = entrada + [verbo_sufijado.lower()]\n",
    "    ## guardamos las entradas\n",
    "    lista_verbos_nom_pref = lista_verbos_nom_pref + [entrada]"
   ]
  },
  {
   "cell_type": "code",
   "execution_count": 5,
   "id": "d6f67fe3",
   "metadata": {},
   "outputs": [],
   "source": [
    "#lista_verbos_nom_pref"
   ]
  },
  {
   "cell_type": "markdown",
   "id": "37cac9f8",
   "metadata": {},
   "source": [
    "## Consultas por un verbo en **Kakataibo!**"
   ]
  },
  {
   "cell_type": "code",
   "execution_count": 6,
   "id": "eef9a4d1",
   "metadata": {},
   "outputs": [],
   "source": [
    "## extraemos la lista de verbos de lista_verbos\n",
    "\n",
    "## almacenamos el primer elemento de cada par\n",
    "verbos = []\n",
    "\n",
    "## recorremos los pares\n",
    "for par_verbo in lista_verbos:\n",
    "    ## un verbo es el primer elemento (de índice 0)\n",
    "    verbo = par_verbo[0]\n",
    "    ## guardamos el verbo\n",
    "    verbos = verbos + [verbo]"
   ]
  },
  {
   "cell_type": "code",
   "execution_count": 7,
   "id": "8dc79d8f",
   "metadata": {},
   "outputs": [],
   "source": [
    "## creamos una consulta. Esto puede cambiar, y cambiará el resultado\n",
    "verbo_consulta = 'Tax'\n",
    "\n",
    "## ¿cuál es el índice de verbo_consulta en la lista verbos?\n",
    "indice_consulta = verbos.index(verbo_consulta)\n",
    "\n",
    "## extraemos el elemento de índice 3 (el cuarto), en la posición indice_consulta \n",
    "resultado = lista_verbos_nom_pref[indice_consulta][3]"
   ]
  },
  {
   "cell_type": "code",
   "execution_count": 8,
   "id": "dbef0af0",
   "metadata": {},
   "outputs": [],
   "source": [
    "## otra forma de expresar las líneas anteriores! usemos funciones\n",
    "\n",
    "## noten que la sintaxis es similar al ciclo for\n",
    "\n",
    "def formacion_verbos(verbo_consulta):\n",
    "    ## almacenamos el primer elemento de cada par\n",
    "    verbos = []\n",
    "\n",
    "    ## recorremos los pares\n",
    "    for par_verbo in lista_verbos:\n",
    "        ## un verbo es el primer elemento (de índice 0)\n",
    "        verbo = par_verbo[0]\n",
    "        ## guardamos el verbo\n",
    "        verbos = verbos + [verbo]\n",
    "    ## ¿cuál es el índice de verbo_consulta en la lista verbos?\n",
    "    indice_consulta = verbos.index(verbo_consulta)\n",
    "\n",
    "    ## extraemos el elemento de índice 3 (el cuarto), en la posición indice_consulta \n",
    "    resultado = lista_verbos_nom_pref[indice_consulta][3]\n",
    "    \n",
    "    print('el verbo ' + '\\033[1m' + verbo_consulta + '\\033[0m' + ' sufijado con '+sufijo+' y prefijado con '+prefijo+' es: ' + '\\033[1m' + resultado + '\\033[0m')"
   ]
  },
  {
   "cell_type": "code",
   "execution_count": 9,
   "id": "9a2f02ba",
   "metadata": {},
   "outputs": [],
   "source": [
    "from ipywidgets import interact, interactive, fixed, interact_manual\n",
    "import ipywidgets as widgets"
   ]
  },
  {
   "cell_type": "code",
   "execution_count": 10,
   "id": "875d538d",
   "metadata": {},
   "outputs": [
    {
     "data": {
      "application/vnd.jupyter.widget-view+json": {
       "model_id": "4ee1255b575e428c9fc15e50656944fd",
       "version_major": 2,
       "version_minor": 0
      },
      "text/plain": [
       "interactive(children=(Dropdown(description='Verbo?', options=('Tax', 'Chachi', 'Tash', 'Më', 'Pia a', 'Berua')…"
      ]
     },
     "metadata": {},
     "output_type": "display_data"
    }
   ],
   "source": [
    "interact(formacion_verbos, verbo_consulta = widgets.Dropdown(options = verbos, description=\"Verbo?\"));"
   ]
  },
  {
   "cell_type": "code",
   "execution_count": 11,
   "id": "8cad7a41",
   "metadata": {},
   "outputs": [],
   "source": [
    "!pip freeze > requirements.txt"
   ]
  },
  {
   "cell_type": "code",
   "execution_count": 1,
   "id": "6830252d",
   "metadata": {},
   "outputs": [
    {
     "name": "stdout",
     "output_type": "stream",
     "text": [
      "3.8.8\n"
     ]
    }
   ],
   "source": [
    "from platform import python_version\n",
    "\n",
    "print(python_version())"
   ]
  },
  {
   "cell_type": "code",
   "execution_count": null,
   "id": "1498a930",
   "metadata": {},
   "outputs": [],
   "source": []
  }
 ],
 "metadata": {
  "kernelspec": {
   "display_name": "Python 3",
   "language": "python",
   "name": "python3"
  },
  "language_info": {
   "codemirror_mode": {
    "name": "ipython",
    "version": 3
   },
   "file_extension": ".py",
   "mimetype": "text/x-python",
   "name": "python",
   "nbconvert_exporter": "python",
   "pygments_lexer": "ipython3",
   "version": "3.8.8"
  }
 },
 "nbformat": 4,
 "nbformat_minor": 5
}
