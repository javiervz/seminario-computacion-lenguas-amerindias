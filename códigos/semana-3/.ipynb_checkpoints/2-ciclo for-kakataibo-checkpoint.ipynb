{
 "cells": [
  {
   "cell_type": "markdown",
   "id": "a1bf5850",
   "metadata": {},
   "source": [
    "# **Seminario de métodos computacionales para lenguas amerindias**\n",
    "### Roberto Zariquiey Biondi, rzariquiey@pucp.edu.pe \n",
    "### Javier Vera Zúñiga, jveraz@pucp.edu.pe"
   ]
  },
  {
   "cell_type": "markdown",
   "id": "79a5f087",
   "metadata": {},
   "source": [
    "# Una aplicación algo más realista :)\n",
    "## Verbos en Kakataibo"
   ]
  },
  {
   "cell_type": "markdown",
   "id": "1dd647a4",
   "metadata": {},
   "source": [
    "En esta aplicación, la idea es expresar (una versión muy simplificada de) la formación de verbos en **Kakataibo** en los términos que hemos aprendido de **Python:** **variables**, **listas** y ciclos **for.** Tenemos los siguientes elementos:\n",
    "\n",
    "1. Una lista de verbos como entradas de diccionario.\n",
    "2. Glosas de significado de esta lista.\n",
    "3. Prefijo de parte del cuerpo: më-\n",
    "4. Sufijo nominalizador (infinitivo): -ti\n",
    "\n",
    "¿Cómo expresamos esto en términos de **Python**? En realidad, hay muchas respuestas posibles, que dependen de:\n",
    "\n",
    "1. los elementos de **Python** que utilicemos;\n",
    "2. la **simpleza** de los códigos; y\n",
    "3. la manera en que nuestro código pueda ser **reusable.**\n",
    "\n",
    "Con respecto al primer punto, conocemos **variables**, que asignaremos a los elementos; **listas**, que usaremos para almacenar la información; y ciclos **for**, con el objetivo de ir construyendo formas verbales de forma iterativa. El segundo punto es importante, aunque un poco difícil de explicar. Más bien, transformar este principio en la siguiente pregunta: ¿De todas las formas posibles de plantear este problema, cuál es la **más simple**? A veces en **Python**, se trata de proponer soluciones breves, es decir, que utilizan la menor cantidad de líneas de código (busquen **pythonic** en google). Esto a veces muestra soluciones muy ingeniosas, pero que esconden un problema: los códigos siempre deben ser entendibles por otras personas. \n",
    "\n",
    "En lo que sigue, iremos viendo problemas cada vez más complejos, que parten desde una versión simple de la formación de verbos, que permitirán introducir algunos conceptos nuevos de **Python.**"
   ]
  },
  {
   "cell_type": "markdown",
   "id": "bc97d345",
   "metadata": {},
   "source": [
    "## Problema 1. Construir entradas tipo diccionario de verbos nominalizados y sufijados. \n",
    "\n",
    "Cada verbo está asociado a una glosa. Para almacenar este par, usamos **listas** (como siempre). Es decir, usamos"
   ]
  },
  {
   "cell_type": "code",
   "execution_count": 1,
   "id": "d0ee7209",
   "metadata": {},
   "outputs": [],
   "source": [
    "par_verbo = ['Tax','golpear con puño']"
   ]
  },
  {
   "cell_type": "markdown",
   "id": "74cefc93",
   "metadata": {},
   "source": [
    "La idea, que puede parecer al principio un poco sorprendente, es que estas listas serán almancenadas dentro de otra lista. ¡Listas dentro de listas! Por supuesto, y será una idea que nos acompañará siempre en **Python.** Un aspecto esencial es que sabemos (porque así lo estamos decidiendo) que en cada mini lista (o sub-lista) el primer elemento (de índice 0) es la base verbal, y el segundo elemento (de índice 1) es la glosa. "
   ]
  },
  {
   "cell_type": "code",
   "execution_count": 2,
   "id": "6fcd0986",
   "metadata": {},
   "outputs": [],
   "source": [
    "## verbos: Tax, Chachi, Tash, Më, Pia a, Berua\n",
    "## significados: golpear, hincar, dar una cachetada, golpear de cualquier forma, flechar, cuidar \n",
    "lista_verbos = [['Tax','golpear con puño'],['Chachi','hincar'],['Tash','palmear'],['Më','golpear'],['Pia a','flechar'],['Berua','cuidarse uno mismo']]"
   ]
  },
  {
   "cell_type": "code",
   "execution_count": 3,
   "id": "087b3e8b",
   "metadata": {},
   "outputs": [],
   "source": [
    "## Creamos dos variables, una para el prefijo y otra para el sufijo. \n",
    "\n",
    "## parte del cuerpo: cuyo significado es \"mano\"\n",
    "prefijo = 'më-'\n",
    "## nominalizador\n",
    "sufijo = '-ti'"
   ]
  },
  {
   "cell_type": "markdown",
   "id": "76b8abd4",
   "metadata": {},
   "source": [
    "¿Cómo procedemos? Debemos **recorrer** los pares almacenados en **lista_verbos** (o sea, usando un ciclo **for**), para ir prefijando y sufijando. "
   ]
  },
  {
   "cell_type": "code",
   "execution_count": 4,
   "id": "f9dd53ae",
   "metadata": {},
   "outputs": [],
   "source": [
    "## Primero. En una lista vacía (típica forma de comenzar), guardaremos sub-listas de cuatro elementos:\n",
    "## primero: verbo\n",
    "## segundo: glosa\n",
    "## tercero: verbo prefijado\n",
    "## cuarto: verbo prefijado+sufijado\n",
    "lista_verbos_nom_pref = []"
   ]
  },
  {
   "cell_type": "code",
   "execution_count": 5,
   "id": "256b9ac5",
   "metadata": {},
   "outputs": [],
   "source": [
    "## recorremos los pares de lista_verbos\n",
    "\n",
    "for par_verbo in lista_verbos:\n",
    "    ## verbo\n",
    "    verbo = par_verbo[0]\n",
    "    ## entrada de \"diccionario\"\n",
    "    entrada = []\n",
    "    ## en entrada guardamos el verbo\n",
    "    entrada = entrada + [verbo]\n",
    "    ## agregamos la glosa\n",
    "    entrada = entrada + [par_verbo[1]]\n",
    "    ## prefijemos primero\n",
    "    verbo_prefijado = prefijo + verbo\n",
    "    ## guardamos el verbo prefijado (en minúscula)\n",
    "    entrada = entrada + [verbo_prefijado.lower()]\n",
    "    ## ahora, sufijamos\n",
    "    verbo_sufijado = verbo_prefijado + sufijo\n",
    "    ## guardamos la forma sufijada (en minúscula)\n",
    "    entrada = entrada + [verbo_sufijado.lower()]\n",
    "    ## guardamos las entradas\n",
    "    lista_verbos_nom_pref = lista_verbos_nom_pref + [entrada]"
   ]
  },
  {
   "cell_type": "code",
   "execution_count": 6,
   "id": "d6f67fe3",
   "metadata": {},
   "outputs": [
    {
     "data": {
      "text/plain": [
       "[['Tax', 'golpear con puño', 'më-tax', 'më-tax-ti'],\n",
       " ['Chachi', 'hincar', 'më-chachi', 'më-chachi-ti'],\n",
       " ['Tash', 'palmear', 'më-tash', 'më-tash-ti'],\n",
       " ['Më', 'golpear', 'më-më', 'më-më-ti'],\n",
       " ['Pia a', 'flechar', 'më-pia a', 'më-pia a-ti'],\n",
       " ['Berua', 'cuidarse uno mismo', 'më-berua', 'më-berua-ti']]"
      ]
     },
     "execution_count": 6,
     "metadata": {},
     "output_type": "execute_result"
    }
   ],
   "source": [
    "lista_verbos_nom_pref"
   ]
  },
  {
   "cell_type": "markdown",
   "id": "37cac9f8",
   "metadata": {},
   "source": [
    "**Otro problema relacionado:** ¿Es posible, para un verbo específico, consultar automáticamente por la forma derivada? Es decir,  ¿Cómo podemos usar **lista_verbos_nom_pref** como una especie de **diccionario**? "
   ]
  },
  {
   "cell_type": "code",
   "execution_count": 7,
   "id": "eef9a4d1",
   "metadata": {},
   "outputs": [],
   "source": [
    "## extraemos la lista de verbos de lista_verbos\n",
    "\n",
    "## almacenamos el primer elemento de cada par\n",
    "verbos = []\n",
    "\n",
    "## recorremos los pares\n",
    "for par_verbo in lista_verbos:\n",
    "    ## un verbo es el primer elemento (de índice 0)\n",
    "    verbo = par_verbo[0]\n",
    "    ## guardamos el verbo\n",
    "    verbos = verbos + [verbo]"
   ]
  },
  {
   "cell_type": "code",
   "execution_count": 8,
   "id": "8bbc6c23",
   "metadata": {},
   "outputs": [
    {
     "data": {
      "text/plain": [
       "['Tax', 'Chachi', 'Tash', 'Më', 'Pia a', 'Berua']"
      ]
     },
     "execution_count": 8,
     "metadata": {},
     "output_type": "execute_result"
    }
   ],
   "source": [
    "verbos"
   ]
  },
  {
   "cell_type": "code",
   "execution_count": 9,
   "id": "8dc79d8f",
   "metadata": {},
   "outputs": [],
   "source": [
    "## creamos una consulta. Esto puede cambiar, y cambiará el resultado\n",
    "verbo_consulta = 'Tax'\n",
    "\n",
    "## ¿cuál es el índice de verbo_consulta en la lista verbos?\n",
    "indice_consulta = verbos.index(verbo_consulta)\n",
    "\n",
    "## extraemos el elemento de índice 3 (el cuarto), en la posición indice_consulta \n",
    "resultado = lista_verbos_nom_pref[indice_consulta][3]"
   ]
  },
  {
   "cell_type": "code",
   "execution_count": 10,
   "id": "e52be328",
   "metadata": {},
   "outputs": [
    {
     "data": {
      "text/plain": [
       "'më-tax-ti'"
      ]
     },
     "execution_count": 10,
     "metadata": {},
     "output_type": "execute_result"
    }
   ],
   "source": [
    "resultado"
   ]
  },
  {
   "cell_type": "code",
   "execution_count": 11,
   "id": "dbef0af0",
   "metadata": {},
   "outputs": [],
   "source": [
    "## otra forma de expresar las líneas anteriores! usemos funciones\n",
    "\n",
    "## noten que la sintaxis es similar al ciclo for\n",
    "\n",
    "def formacion_verbos(verbo_consulta):\n",
    "    ## almacenamos el primer elemento de cada par\n",
    "    verbos = []\n",
    "\n",
    "    ## recorremos los pares\n",
    "    for par_verbo in lista_verbos:\n",
    "        ## un verbo es el primer elemento (de índice 0)\n",
    "        verbo = par_verbo[0]\n",
    "        ## guardamos el verbo\n",
    "        verbos = verbos + [verbo]\n",
    "    ## ¿cuál es el índice de verbo_consulta en la lista verbos?\n",
    "    indice_consulta = verbos.index(verbo_consulta)\n",
    "\n",
    "    ## extraemos el elemento de índice 3 (el cuarto), en la posición indice_consulta \n",
    "    resultado = lista_verbos_nom_pref[indice_consulta][3]\n",
    "    \n",
    "    print(resultado)"
   ]
  },
  {
   "cell_type": "code",
   "execution_count": 12,
   "id": "d855212d",
   "metadata": {},
   "outputs": [
    {
     "name": "stdout",
     "output_type": "stream",
     "text": [
      "më-tax-ti\n"
     ]
    }
   ],
   "source": [
    "## verbo a consultar\n",
    "verbo_consulta = 'Tax'\n",
    "\n",
    "formacion_verbos(verbo_consulta)"
   ]
  },
  {
   "cell_type": "code",
   "execution_count": 13,
   "id": "9a2f02ba",
   "metadata": {},
   "outputs": [],
   "source": [
    "from ipywidgets import interact, interactive, fixed, interact_manual\n",
    "import ipywidgets as widgets"
   ]
  },
  {
   "cell_type": "code",
   "execution_count": 14,
   "id": "875d538d",
   "metadata": {},
   "outputs": [
    {
     "data": {
      "application/vnd.jupyter.widget-view+json": {
       "model_id": "66c085baa3e14a9a84d7d7e62ebef547",
       "version_major": 2,
       "version_minor": 0
      },
      "text/plain": [
       "interactive(children=(Dropdown(description='Verbo: ', options=('Tax', 'Chachi', 'Tash', 'Më', 'Pia a', 'Berua'…"
      ]
     },
     "metadata": {},
     "output_type": "display_data"
    }
   ],
   "source": [
    "interact(formacion_verbos, verbo_consulta = widgets.Dropdown(options = verbos, description=\"Verbo: \"));"
   ]
  },
  {
   "cell_type": "markdown",
   "id": "eb896760",
   "metadata": {},
   "source": [
    "## Problema 2. Una versión del mismo problema sin construir los datos\n",
    "\n",
    "En el **problema 1,** primero construimos los datos y luego exploramos mediante la variable verbo_consulta. ¿Será posible construir la respuesta al momento de responder? Por supuesto!"
   ]
  },
  {
   "cell_type": "code",
   "execution_count": 15,
   "id": "7455b223",
   "metadata": {},
   "outputs": [],
   "source": [
    "## Creamos dos variables, una para el prefijo y otra para el sufijo. \n",
    "\n",
    "## parte del cuerpo: cuyo significado es \"mano\"\n",
    "prefijo = 'më-'\n",
    "## nominalizador\n",
    "sufijo = '-ti'"
   ]
  },
  {
   "cell_type": "markdown",
   "id": "5eb5b865",
   "metadata": {},
   "source": [
    "En este caso, simplemente creamos una función que recibe **verbo_consulta** y entrega la respuesta"
   ]
  },
  {
   "cell_type": "code",
   "execution_count": 16,
   "id": "f6a3e3b6",
   "metadata": {},
   "outputs": [],
   "source": [
    "## otra forma de expresar las líneas anteriores! usemos funciones\n",
    "\n",
    "## noten que la sintaxis es similar al ciclo for\n",
    "\n",
    "def formacion_verbos2(verbo_consulta):\n",
    "    \n",
    "    ## prefijamos \n",
    "    verbo_prefijado = prefijo + verbo_consulta\n",
    "    ## en minúscula\n",
    "    verbo_prefijado = verbo_prefijado.lower()\n",
    "    ## ahora, sufijamos\n",
    "    verbo_sufijado = verbo_prefijado + sufijo\n",
    "    ## en minúscula\n",
    "    verbo_sufijado = verbo_sufijado.lower()\n",
    "    \n",
    "    print(verbo_sufijado)"
   ]
  },
  {
   "cell_type": "code",
   "execution_count": 17,
   "id": "848b84ef",
   "metadata": {},
   "outputs": [
    {
     "name": "stdout",
     "output_type": "stream",
     "text": [
      "më-tax-ti\n"
     ]
    }
   ],
   "source": [
    "## verbo a consultar\n",
    "verbo_consulta = 'Tax'\n",
    "\n",
    "formacion_verbos2(verbo_consulta)"
   ]
  },
  {
   "cell_type": "code",
   "execution_count": 18,
   "id": "289e266e",
   "metadata": {},
   "outputs": [
    {
     "data": {
      "application/vnd.jupyter.widget-view+json": {
       "model_id": "2e9c9ef7bfe54a76b2e860e3c2f8f63b",
       "version_major": 2,
       "version_minor": 0
      },
      "text/plain": [
       "interactive(children=(Dropdown(description='Verbo: ', options=('Tax', 'Chachi', 'Tash', 'Më', 'Pia a', 'Berua'…"
      ]
     },
     "metadata": {},
     "output_type": "display_data"
    }
   ],
   "source": [
    "interact(formacion_verbos2, verbo_consulta = widgets.Dropdown(options = verbos, description=\"Verbo: \"));"
   ]
  },
  {
   "cell_type": "markdown",
   "id": "35ef6fcd",
   "metadata": {},
   "source": [
    "## Ideas clase Kakataibo!\n",
    "\n",
    "### introducción a la morfología\n",
    "- aglutinante: la mayoría de sus procesos son regulares (poca fusión)\n",
    "    - pi-tëkën-kan-i-n\n",
    "    - eat-again-PL-IPFV-1/2\n",
    "\n",
    "- fusional: morfemas portmanteau + segmentos nasales (morfofonológicos)\n",
    "\n",
    "- complejidad morfológica (número de elementos): estructuras analíticas y sintéticas\n",
    "\n",
    "- palabras: no muchas palabras tienen muchos morfemas :) Los hablantes prefieren palabras simples\n",
    "\n",
    "- morfología flexiva y derivativa: elementos obligatorios para ciertas formas verbales (los verbos necesitan aspecto y persona!!!)\n",
    "\n",
    "- sufijos derivativos y flexivos\n",
    "    - flexivos --> orden fijo akë-x-a (regla de orden!)\n",
    "    - derivativos --> orden móvil (con otra interpretación) (pueden ser reemplazados por adverbios) (se pueden repetir)\n",
    "    - dominios separados: V__DER__FLEX__\n",
    "    \n",
    "\n",
    "### morfología verbal\n",
    "- sufijos verbales derivativos: antes de los flexivos!\n",
    "- morfemas flexivos: restricciones combinatorias\n",
    "    - posicionales: orden!!! \n",
    "    - slots: I II-A plural II-B III IV\n",
    "    - cada slot es un paradigma\n",
    "    - II-B III IV son OBLIGATORIOS"
   ]
  },
  {
   "cell_type": "code",
   "execution_count": 24,
   "id": "ff44843d",
   "metadata": {},
   "outputs": [],
   "source": [
    "## lista de verbos transitivos\n",
    "## ¿qué pasa con -ti?\n",
    "lista_verbos_transitivos = [\"mani\", \"main\", \"chan\", \"bexë\" , \"tson\"]\n",
    "lista_verbos_transitivos_glosas = [\"vaciar a otra olla\", \"enterrar\", \"romper\", \"oler la cara\", \"sentar\"]\n",
    "\n",
    "#### opcional #### \n",
    "## slot I\n",
    "slot_I = [\"-bait\", \"-nët\", \"-pun\", \"-rabë́\", \"-inë\", \"-itsin\", \"-këan\"]\n",
    "slot_I_glosas = [\"durative, the same day\", \"durative, the night before\", \"hours ago\", \n",
    "          \"habitual non-remote past\", \"durative remote past\", \"conditional\", \"frustrative\"]\n",
    "\n",
    "## slot II_A\n",
    "#slot_II_A = [['-on','the day before'],['-ëxan','days ago']] (ejemplo de representación con lista de listas)\n",
    "slot_II_A = [\"-on\", \"-ëxan\"]\n",
    "slot_II_A_glosas = [\"the day before\", \"days ago\"]\n",
    "\n",
    "slot_plural = \"-kan\"\n",
    "\n",
    "#### obligatorio #### \n",
    "## slot_II_B\n",
    "slot_II_B = [\"-i\", \"-a\", \"-akë\", \"-a\"]\n",
    "slot_II_B_glosas = [\"imperfective\", \"remote\", \"remote past\", \"stative\"]\n",
    "\n",
    "## slot_III\n",
    "slot_III = [\"-n\", \"-x\", '']\n",
    "slot_III_glosas = [\"first/second person\", \"third person\", \"unmarked\"]\n",
    "\n",
    "## slot_IV\n",
    "slot_IV = [\"-a\", \"-ín\"]\n",
    "slot_IV_glosas = [\"non-proximal to the addressee\", \"proximal to the addressee\"]"
   ]
  },
  {
   "cell_type": "code",
   "execution_count": 53,
   "id": "69ed17e9",
   "metadata": {},
   "outputs": [],
   "source": [
    "## Problema: elegir un verbo + cierta información flexiva --> forma flexionada (al menos las formas obligatorias)\n",
    "\n",
    "## versión 1: todos los morfemas son obligatorios!\n",
    "\n",
    "## slot_I\n",
    "slot_I_suffix = \"durative, the same day\"\n",
    "\n",
    "## slot_II_A\n",
    "slot_II_A_suffix = \"days ago\"\n",
    "\n",
    "## plural: toma valores 1 o 0; si es 1 se usa \"-kan\", si es 0 se usa \"\"\n",
    "slot_plural = \"-kan\"\n",
    "\n",
    "## slot_II_B\n",
    "slot_II_B_suffix = \"remote past\"\n",
    "\n",
    "## slot_III\n",
    "slot_III_suffix = \"first/second person\"\n",
    "\n",
    "## slot_I\n",
    "slot_IV_suffix = \"non-proximal to the addressee\""
   ]
  },
  {
   "cell_type": "code",
   "execution_count": 37,
   "id": "2f585adb",
   "metadata": {},
   "outputs": [],
   "source": [
    "verbo = \"chan\""
   ]
  },
  {
   "cell_type": "code",
   "execution_count": 44,
   "id": "9f4b0024",
   "metadata": {},
   "outputs": [],
   "source": [
    "## índice de las glosa slot_I_suffix en la lista slot_I_glosas\n",
    "index_slot_I = slot_I_glosas.index(slot_I_suffix)\n",
    "## sufijo corresondiente al índice index_slot_I en la lista slot_I\n",
    "suffix_slot_I = slot_I[index_slot_I]"
   ]
  },
  {
   "cell_type": "code",
   "execution_count": 45,
   "id": "6bcf42ae",
   "metadata": {},
   "outputs": [
    {
     "data": {
      "text/plain": [
       "'-bait'"
      ]
     },
     "execution_count": 45,
     "metadata": {},
     "output_type": "execute_result"
    }
   ],
   "source": [
    "suffix_slot_I"
   ]
  },
  {
   "cell_type": "code",
   "execution_count": 46,
   "id": "a6de47b0",
   "metadata": {},
   "outputs": [],
   "source": [
    "verbo_inflex_slot_I = verbo + suffix_slot_I"
   ]
  },
  {
   "cell_type": "code",
   "execution_count": 47,
   "id": "bf85493e",
   "metadata": {},
   "outputs": [
    {
     "data": {
      "text/plain": [
       "'chan-bait'"
      ]
     },
     "execution_count": 47,
     "metadata": {},
     "output_type": "execute_result"
    }
   ],
   "source": [
    "verbo_inflex_slot_I"
   ]
  },
  {
   "cell_type": "code",
   "execution_count": 48,
   "id": "8d34f3cc",
   "metadata": {},
   "outputs": [],
   "source": [
    "## índice de las glosa slot_II_A_suffix en la lista slot_II_A_glosas\n",
    "index_slot_II_A = slot_II_A_glosas.index(slot_II_A_suffix)\n",
    "## sufijo corresondiente al índice index_slot_II_A en la lista slot_II_A\n",
    "suffix_slot_II_A = slot_II_A[index_slot_II_A]"
   ]
  },
  {
   "cell_type": "code",
   "execution_count": 49,
   "id": "a6689b87",
   "metadata": {},
   "outputs": [
    {
     "data": {
      "text/plain": [
       "'-ëxan'"
      ]
     },
     "execution_count": 49,
     "metadata": {},
     "output_type": "execute_result"
    }
   ],
   "source": [
    "suffix_slot_II_A"
   ]
  },
  {
   "cell_type": "code",
   "execution_count": 50,
   "id": "1cb17e84",
   "metadata": {},
   "outputs": [],
   "source": [
    "verbo_inflex_slot_I_IIA = verbo_inflex_slot_I + suffix_slot_II_A"
   ]
  },
  {
   "cell_type": "code",
   "execution_count": 51,
   "id": "bbdca292",
   "metadata": {},
   "outputs": [
    {
     "data": {
      "text/plain": [
       "'chan-bait-ëxan'"
      ]
     },
     "execution_count": 51,
     "metadata": {},
     "output_type": "execute_result"
    }
   ],
   "source": [
    "verbo_inflex_slot_I_IIA"
   ]
  },
  {
   "cell_type": "code",
   "execution_count": 54,
   "id": "9299fee4",
   "metadata": {},
   "outputs": [],
   "source": [
    "verbo_inflex_slot_I_IIA_plural = verbo_inflex_slot_I_IIA + slot_plural"
   ]
  },
  {
   "cell_type": "code",
   "execution_count": 55,
   "id": "03e916f0",
   "metadata": {},
   "outputs": [
    {
     "data": {
      "text/plain": [
       "'chan-bait-ëxan-kan'"
      ]
     },
     "execution_count": 55,
     "metadata": {},
     "output_type": "execute_result"
    }
   ],
   "source": [
    "verbo_inflex_slot_I_IIA_plural"
   ]
  },
  {
   "cell_type": "code",
   "execution_count": 56,
   "id": "0f43562b",
   "metadata": {},
   "outputs": [],
   "source": [
    "## índice de las glosa slot_II_B_suffix en la lista slot_II_B_glosas\n",
    "index_slot_II_B = slot_II_B_glosas.index(slot_II_B_suffix)\n",
    "## sufijo corresondiente al índice index_slot_II_B en la lista slot_II_B\n",
    "suffix_slot_II_B = slot_II_B[index_slot_II_B]"
   ]
  },
  {
   "cell_type": "code",
   "execution_count": 57,
   "id": "9586d0a5",
   "metadata": {},
   "outputs": [
    {
     "data": {
      "text/plain": [
       "'-akë'"
      ]
     },
     "execution_count": 57,
     "metadata": {},
     "output_type": "execute_result"
    }
   ],
   "source": [
    "suffix_slot_II_B"
   ]
  },
  {
   "cell_type": "code",
   "execution_count": 58,
   "id": "312cc0a3",
   "metadata": {},
   "outputs": [],
   "source": [
    "verbo_inflex_slot_I_IIA_plural_IIB = verbo_inflex_slot_I_IIA_plural + suffix_slot_II_B"
   ]
  },
  {
   "cell_type": "code",
   "execution_count": 59,
   "id": "a77f0357",
   "metadata": {},
   "outputs": [
    {
     "data": {
      "text/plain": [
       "'chan-bait-ëxan-kan-akë'"
      ]
     },
     "execution_count": 59,
     "metadata": {},
     "output_type": "execute_result"
    }
   ],
   "source": [
    "verbo_inflex_slot_I_IIA_plural_IIB"
   ]
  },
  {
   "cell_type": "code",
   "execution_count": 61,
   "id": "f0c521cc",
   "metadata": {},
   "outputs": [],
   "source": [
    "## índice de las glosa slot_III_suffix en la lista slot_III_glosas\n",
    "index_slot_III = slot_III_glosas.index(slot_III_suffix)\n",
    "## sufijo corresondiente al índice index_slot_III en la lista slot_III\n",
    "suffix_slot_III = slot_III[index_slot_III]"
   ]
  },
  {
   "cell_type": "code",
   "execution_count": 62,
   "id": "e4356c32",
   "metadata": {},
   "outputs": [
    {
     "data": {
      "text/plain": [
       "'-n'"
      ]
     },
     "execution_count": 62,
     "metadata": {},
     "output_type": "execute_result"
    }
   ],
   "source": [
    "suffix_slot_III"
   ]
  },
  {
   "cell_type": "code",
   "execution_count": 63,
   "id": "8d53e6e7",
   "metadata": {},
   "outputs": [],
   "source": [
    "verbo_inflex_slot_I_IIA_plural_IIB_III = verbo_inflex_slot_I_IIA_plural_IIB + suffix_slot_III"
   ]
  },
  {
   "cell_type": "code",
   "execution_count": 64,
   "id": "1a2eb9a0",
   "metadata": {},
   "outputs": [
    {
     "data": {
      "text/plain": [
       "'chan-bait-ëxan-kan-akë-n'"
      ]
     },
     "execution_count": 64,
     "metadata": {},
     "output_type": "execute_result"
    }
   ],
   "source": [
    "verbo_inflex_slot_I_IIA_plural_IIB_III"
   ]
  },
  {
   "cell_type": "code",
   "execution_count": 65,
   "id": "ba0d92ba",
   "metadata": {},
   "outputs": [],
   "source": [
    "## si slot_III es 1°/2° entonces slot IV no va!\n",
    "## regla de morfofonología"
   ]
  },
  {
   "cell_type": "code",
   "execution_count": 19,
   "id": "12b13ed6",
   "metadata": {},
   "outputs": [],
   "source": [
    "## problemas pendientes:\n",
    "## 1. según el número de segmentos, depende el prefijo. Alomorfía del ergativo (eminentemente prosódica)\n",
    "## 2. Anotar las sílabas\n",
    "## 3. Silabificador para kakataibo\n",
    "## 4. Conjugar los verbos con sufijos\n",
    "## 5. tres formas -> encontrar la glosa (clase if/else)\n",
    "## 6. Generar datos computarizados \n",
    "## 7. Minúscula"
   ]
  },
  {
   "cell_type": "code",
   "execution_count": null,
   "id": "8eb6995f",
   "metadata": {},
   "outputs": [],
   "source": []
  }
 ],
 "metadata": {
  "kernelspec": {
   "display_name": "Python 3",
   "language": "python",
   "name": "python3"
  },
  "language_info": {
   "codemirror_mode": {
    "name": "ipython",
    "version": 3
   },
   "file_extension": ".py",
   "mimetype": "text/x-python",
   "name": "python",
   "nbconvert_exporter": "python",
   "pygments_lexer": "ipython3",
   "version": "3.8.8"
  }
 },
 "nbformat": 4,
 "nbformat_minor": 5
}
