{
 "cells": [
  {
   "cell_type": "markdown",
   "id": "a1bf5850",
   "metadata": {},
   "source": [
    "# **Seminario de métodos computacionales para lenguas amerindias**\n",
    "### Roberto Zariquiey Biondi, rzariquiey@pucp.edu.pe \n",
    "### Javier Vera Zúñiga, jveraz@pucp.edu.pe"
   ]
  },
  {
   "cell_type": "markdown",
   "id": "79a5f087",
   "metadata": {},
   "source": [
    "# Más sobre sobre listas (y algo sobre el ciclo for)\n",
    "## Una pequeña aplicación lingüística\n",
    "Vamos a insistir en un aspecto esencial de **Python**: la mayoría de las cosas se resuelven mediante **listas!** Una **lista** es una secuencia ordenada de cosas, que funciona como la fila de un supermercado. En una fila típica (digamos, sin que nadie se adelante), las personas van siendo atentidas por su orden de llegada a la fila. En una **lista** pasa lo mismo, a medida que agregamos elementos estos van siendo almacenados al **final** de la lista. Hay dos sutilezas muy importantes en esto: \n",
    "\n",
    "- Las **listas** son, por un lado, contenedores de cosas; y, por otro,\n",
    "- Las **listas** definen un orden. \n",
    "\n",
    "Con respecto al primer punto, quiero remarcar el hecho de que cualquier cosa (bueno casi) puede ser guardada temporalmente en una **lista**. El segundo punto es aún más interesante porque el orden que definen la listas puede ser usado para generar procesos sucesivos o iterativos. Es decir, el orden de las **listas** define una especie de temporalidad de procesos sucesivos. "
   ]
  },
  {
   "cell_type": "code",
   "execution_count": 1,
   "id": "9a9fe5d3",
   "metadata": {},
   "outputs": [],
   "source": [
    "## Partamos con un problema (muy) simple. En la lista lista_palabras, tenemos un conjunto de strings\n",
    "\n",
    "lista_palabras = ['palabra1','palabra2','palabra3','palabra4','palabra5','palabra6']"
   ]
  },
  {
   "cell_type": "code",
   "execution_count": 2,
   "id": "976c1c9a",
   "metadata": {},
   "outputs": [
    {
     "data": {
      "text/plain": [
       "['palabra1', 'palabra2', 'palabra3', 'palabra4', 'palabra5', 'palabra6']"
      ]
     },
     "execution_count": 2,
     "metadata": {},
     "output_type": "execute_result"
    }
   ],
   "source": [
    "lista_palabras"
   ]
  },
  {
   "cell_type": "code",
   "execution_count": 3,
   "id": "831c23f0",
   "metadata": {},
   "outputs": [],
   "source": [
    "## la idea es agregar a cada string un sufijo\n",
    "\n",
    "sufijo = '-plural'"
   ]
  },
  {
   "cell_type": "code",
   "execution_count": 4,
   "id": "9020a9ce",
   "metadata": {},
   "outputs": [],
   "source": [
    "## NOTA: para concatenar dos strings, simplemente usamos \"+\". Por ejemplo,\n",
    "\n",
    "string1 = 'a'\n",
    "string2 = 'b'"
   ]
  },
  {
   "cell_type": "code",
   "execution_count": 5,
   "id": "0f3ddf90",
   "metadata": {},
   "outputs": [],
   "source": [
    "string_concatenado = string1+string2"
   ]
  },
  {
   "cell_type": "code",
   "execution_count": 6,
   "id": "bd369771",
   "metadata": {},
   "outputs": [
    {
     "data": {
      "text/plain": [
       "'ab'"
      ]
     },
     "execution_count": 6,
     "metadata": {},
     "output_type": "execute_result"
    }
   ],
   "source": [
    "string_concatenado"
   ]
  },
  {
   "cell_type": "code",
   "execution_count": 7,
   "id": "685a00a4",
   "metadata": {},
   "outputs": [],
   "source": [
    "## ahora, volvamos a nuestro problema! :) Supongamos que en cada string de \"lista_palabras\" queremos agregar el sufijo sufijo.\n",
    "## ¿Cómo lo hacemos? Primero, de una forma al parecer un poco lenta!\n",
    "\n",
    "lista_palabras_sufijadas = ['palabra1'+sufijo,'palabra2'+sufijo,'palabra3'+sufijo,'palabra4'+sufijo,'palabra5'+sufijo,'palabra6'+sufijo,]"
   ]
  },
  {
   "cell_type": "code",
   "execution_count": 8,
   "id": "278d88ec",
   "metadata": {},
   "outputs": [
    {
     "data": {
      "text/plain": [
       "['palabra1-plural',\n",
       " 'palabra2-plural',\n",
       " 'palabra3-plural',\n",
       " 'palabra4-plural',\n",
       " 'palabra5-plural',\n",
       " 'palabra6-plural']"
      ]
     },
     "execution_count": 8,
     "metadata": {},
     "output_type": "execute_result"
    }
   ],
   "source": [
    "lista_palabras_sufijadas"
   ]
  },
  {
   "cell_type": "code",
   "execution_count": 9,
   "id": "f70d7ab3",
   "metadata": {},
   "outputs": [],
   "source": [
    "## es decir, manualmente agregamos el sufijo a cada palabra. Esto parece ser inmanejable si tenemos muchas palabras!\n",
    "## usemos un ciclo for!!!!\n",
    "\n",
    "## Los ciclos for, en Python, se basan en que las listas están ordenadas! Esto significa que existe un primer elemento, asociado al índice 0,\n",
    "## un segundo elemento, asociado al índice 1, y así sucesivamente hasta el elemento final, asociado al índice (largo de la lista menos 1)\n",
    "\n",
    "## En términos prácticos, al elegir los índices (o los elementos) de una lista sucesivamente podemos realizar cualquier operación\n",
    "## que deba realizarse tantas veces como el largo de una lista. Esto es muy importante :) Miren esto,\n",
    "\n",
    "palabra_sufijada1 = lista_palabras[0]+sufijo"
   ]
  },
  {
   "cell_type": "code",
   "execution_count": 10,
   "id": "ae2b048f",
   "metadata": {},
   "outputs": [
    {
     "data": {
      "text/plain": [
       "'palabra1-plural'"
      ]
     },
     "execution_count": 10,
     "metadata": {},
     "output_type": "execute_result"
    }
   ],
   "source": [
    "palabra_sufijada1"
   ]
  },
  {
   "cell_type": "code",
   "execution_count": 11,
   "id": "c67e7eea",
   "metadata": {},
   "outputs": [],
   "source": [
    "## y si esto lo realizamos para todas las palabras que faltan\n",
    "\n",
    "palabra_sufijada2 = lista_palabras[1]+sufijo\n",
    "palabra_sufijada3 = lista_palabras[2]+sufijo\n",
    "palabra_sufijada4 = lista_palabras[3]+sufijo\n",
    "palabra_sufijada5 = lista_palabras[4]+sufijo\n",
    "palabra_sufijada6 = lista_palabras[5]+sufijo"
   ]
  },
  {
   "cell_type": "code",
   "execution_count": 12,
   "id": "6698ec28",
   "metadata": {},
   "outputs": [],
   "source": [
    "## Con esto,\n",
    "\n",
    "lista_palabras_sufijadas = [palabra_sufijada1,palabra_sufijada2,palabra_sufijada3,palabra_sufijada4,palabra_sufijada5,palabra_sufijada6]"
   ]
  },
  {
   "cell_type": "code",
   "execution_count": 13,
   "id": "d8f83674",
   "metadata": {},
   "outputs": [
    {
     "data": {
      "text/plain": [
       "['palabra1-plural',\n",
       " 'palabra2-plural',\n",
       " 'palabra3-plural',\n",
       " 'palabra4-plural',\n",
       " 'palabra5-plural',\n",
       " 'palabra6-plural']"
      ]
     },
     "execution_count": 13,
     "metadata": {},
     "output_type": "execute_result"
    }
   ],
   "source": [
    "lista_palabras_sufijadas"
   ]
  },
  {
   "cell_type": "code",
   "execution_count": 14,
   "id": "70df15e7",
   "metadata": {},
   "outputs": [],
   "source": [
    "## Seguimos haciendo muchas veces una misma operación! Lo importante es que necesitamos una forma de \"iterar\", es decir, de recorrer\n",
    "## la lista lista_palabras, y ordenadamente desde el primer elemento, hasta el último, ir agregando el sufijo. Para esto, \n",
    "## usamos un ciclo \"for\"!!!\n",
    "\n",
    "## definamos una lista vacía\n",
    "\n",
    "lista_palabras_sufijadas = []"
   ]
  },
  {
   "cell_type": "code",
   "execution_count": 15,
   "id": "02426e83",
   "metadata": {},
   "outputs": [
    {
     "data": {
      "text/plain": [
       "[]"
      ]
     },
     "execution_count": 15,
     "metadata": {},
     "output_type": "execute_result"
    }
   ],
   "source": [
    "lista_palabras_sufijadas"
   ]
  },
  {
   "cell_type": "code",
   "execution_count": 16,
   "id": "2b52019a",
   "metadata": {},
   "outputs": [],
   "source": [
    "#lista_palabras = lista_palabras + ['palabra6']"
   ]
  },
  {
   "cell_type": "code",
   "execution_count": 17,
   "id": "c81089f7",
   "metadata": {},
   "outputs": [],
   "source": [
    "#lista_palabras[5],lista_palabras[6]"
   ]
  },
  {
   "cell_type": "code",
   "execution_count": 18,
   "id": "5a957607",
   "metadata": {},
   "outputs": [],
   "source": [
    "## En esta lista, iremos guardando los elementos de \"lista_palabras\" que vayamos sufijando ¿Cómo hacemos esto?\n",
    "## Esencialmente, de dos formas equivalentes:\n",
    "\n",
    "### o bien, recorremos los \"índices\" de lista_palabras \n",
    "\n",
    "### o bien, recorremos los \"elementos\" de lista_palabras\n",
    "\n",
    "## y vamos sufijando!"
   ]
  },
  {
   "cell_type": "code",
   "execution_count": 19,
   "id": "1794e5c8",
   "metadata": {},
   "outputs": [
    {
     "data": {
      "text/plain": [
       "[0, 1, 2, 3, 4, 5, 6, 7, 8, 9]"
      ]
     },
     "execution_count": 19,
     "metadata": {},
     "output_type": "execute_result"
    }
   ],
   "source": [
    "## OPCIÓN 1: índices de lista_palabras\n",
    "## para obtener los índices, usamos range! range es una lista (o casi) que nos entrega números entre 0 y el número que indiquemos\n",
    "## Es decir,\n",
    "\n",
    "list(range(10))"
   ]
  },
  {
   "cell_type": "code",
   "execution_count": 20,
   "id": "ebad8c22",
   "metadata": {},
   "outputs": [],
   "source": [
    "## entrega números entre 0 y 9. Esto calza perfecto con los índices de los elementos de una lista de largo 10!!!\n",
    "## en nuestro caso, esto queda\n",
    "\n",
    "N = list(range(len(lista_palabras)))"
   ]
  },
  {
   "cell_type": "code",
   "execution_count": 21,
   "id": "074d527c",
   "metadata": {},
   "outputs": [
    {
     "data": {
      "text/plain": [
       "[0, 1, 2, 3, 4, 5]"
      ]
     },
     "execution_count": 21,
     "metadata": {},
     "output_type": "execute_result"
    }
   ],
   "source": [
    "N"
   ]
  },
  {
   "cell_type": "code",
   "execution_count": 22,
   "id": "2f3b0a04",
   "metadata": {},
   "outputs": [],
   "source": [
    "## noten que N es una lista que contiene los índices de los elementos de la lista lista_palabras ¿Cómo usamos esto?\n",
    "lista_palabras_sufijadas = []\n",
    "\n",
    "## recorremos los elementos de lista_palabras a través de sus índices. \n",
    "for i in N: \n",
    "    ## i es una variable, que en cada paso cambia de valor (0,1,...,5)\n",
    "    ## elemento de lista_palabras en la posición i\n",
    "    palabra = lista_palabras[i]\n",
    "    ## sufijamos!\n",
    "    palabra_sufijada = palabra+sufijo\n",
    "    ## guardamos!\n",
    "    lista_palabras_sufijadas = lista_palabras_sufijadas + [palabra_sufijada]"
   ]
  },
  {
   "cell_type": "code",
   "execution_count": 23,
   "id": "7ba56aa0",
   "metadata": {},
   "outputs": [
    {
     "data": {
      "text/plain": [
       "5"
      ]
     },
     "execution_count": 23,
     "metadata": {},
     "output_type": "execute_result"
    }
   ],
   "source": [
    "i"
   ]
  },
  {
   "cell_type": "code",
   "execution_count": 24,
   "id": "305a3bed",
   "metadata": {},
   "outputs": [
    {
     "data": {
      "text/plain": [
       "['palabra1-plural',\n",
       " 'palabra2-plural',\n",
       " 'palabra3-plural',\n",
       " 'palabra4-plural',\n",
       " 'palabra5-plural',\n",
       " 'palabra6-plural']"
      ]
     },
     "execution_count": 24,
     "metadata": {},
     "output_type": "execute_result"
    }
   ],
   "source": [
    "## y mágicamente estamos ok!\n",
    "\n",
    "lista_palabras_sufijadas"
   ]
  },
  {
   "cell_type": "code",
   "execution_count": 25,
   "id": "bd2bca4f",
   "metadata": {},
   "outputs": [],
   "source": [
    "## volvemos a definir esta lista como vacía\n",
    "\n",
    "lista_palabras_sufijadas = []"
   ]
  },
  {
   "cell_type": "code",
   "execution_count": 26,
   "id": "259eb14e",
   "metadata": {},
   "outputs": [
    {
     "data": {
      "text/plain": [
       "['palabra1', 'palabra2', 'palabra3', 'palabra4', 'palabra5', 'palabra6']"
      ]
     },
     "execution_count": 26,
     "metadata": {},
     "output_type": "execute_result"
    }
   ],
   "source": [
    "lista_palabras"
   ]
  },
  {
   "cell_type": "code",
   "execution_count": 27,
   "id": "f056047d",
   "metadata": {},
   "outputs": [],
   "source": [
    "## OPCIÓN 2: elementos de lista_palabras\n",
    "## la idea es recorrer los elementos de lista_palabras, que sabemos están ordenados\n",
    "\n",
    "## ahora, recorremos los elementos de lista_palabras. Sabemos que están ordenados! Por esto, palabra es primero, el primer elemento\n",
    "## luego, el segundo elemento, y así sucesivamente hasta el último elemento de la lista\n",
    "\n",
    "## palabra es una variable en este caso, que en cada paso se reasigna a un elemento de la lista lista_palabras\n",
    "for palabra in lista_palabras:\n",
    "    ## sufijamos!\n",
    "    palabra_sufijada = palabra+sufijo\n",
    "    ## guardamos!\n",
    "    lista_palabras_sufijadas+=[palabra_sufijada]"
   ]
  },
  {
   "cell_type": "code",
   "execution_count": 28,
   "id": "01379a1c",
   "metadata": {},
   "outputs": [
    {
     "data": {
      "text/plain": [
       "['palabra1-plural',\n",
       " 'palabra2-plural',\n",
       " 'palabra3-plural',\n",
       " 'palabra4-plural',\n",
       " 'palabra5-plural',\n",
       " 'palabra6-plural']"
      ]
     },
     "execution_count": 28,
     "metadata": {},
     "output_type": "execute_result"
    }
   ],
   "source": [
    "## y nuevamente obtenemos lo que buscábamos!\n",
    "\n",
    "lista_palabras_sufijadas"
   ]
  },
  {
   "cell_type": "code",
   "execution_count": 29,
   "id": "b3e3d88a",
   "metadata": {},
   "outputs": [
    {
     "data": {
      "text/plain": [
       "['palabra1', 'palabra2', 'palabra3', 'palabra4', 'palabra5', 'palabra6']"
      ]
     },
     "execution_count": 29,
     "metadata": {},
     "output_type": "execute_result"
    }
   ],
   "source": [
    "lista_palabras"
   ]
  }
 ],
 "metadata": {
  "kernelspec": {
   "display_name": "Python 3",
   "language": "python",
   "name": "python3"
  },
  "language_info": {
   "codemirror_mode": {
    "name": "ipython",
    "version": 3
   },
   "file_extension": ".py",
   "mimetype": "text/x-python",
   "name": "python",
   "nbconvert_exporter": "python",
   "pygments_lexer": "ipython3",
   "version": "3.8.8"
  }
 },
 "nbformat": 4,
 "nbformat_minor": 5
}
